{
 "cells": [
  {
   "cell_type": "code",
   "execution_count": 1,
   "id": "0de1e2c0-9cde-4c3c-ac7d-8cb1951ba63c",
   "metadata": {
    "tags": []
   },
   "outputs": [],
   "source": [
    "from bs4 import BeautifulSoup\n",
    "import requests\n",
    "import pandas as pd\n",
    "import acquire as a"
   ]
  },
  {
   "cell_type": "code",
   "execution_count": 2,
   "id": "d5954697-daf3-4ea9-83b8-b93615cf5d93",
   "metadata": {
    "tags": []
   },
   "outputs": [
    {
     "name": "stdout",
     "output_type": "stream",
     "text": [
      "Data scraped and saved to CSV.\n"
     ]
    }
   ],
   "source": [
    "inshorts_data = a.get_inshorts_data()"
   ]
  },
  {
   "cell_type": "code",
   "execution_count": 3,
   "id": "a5abc772-d5a8-4b0c-9863-64c7e410138d",
   "metadata": {
    "tags": []
   },
   "outputs": [
    {
     "data": {
      "text/html": [
       "<div>\n",
       "<style scoped>\n",
       "    .dataframe tbody tr th:only-of-type {\n",
       "        vertical-align: middle;\n",
       "    }\n",
       "\n",
       "    .dataframe tbody tr th {\n",
       "        vertical-align: top;\n",
       "    }\n",
       "\n",
       "    .dataframe thead th {\n",
       "        text-align: right;\n",
       "    }\n",
       "</style>\n",
       "<table border=\"1\" class=\"dataframe\">\n",
       "  <thead>\n",
       "    <tr style=\"text-align: right;\">\n",
       "      <th></th>\n",
       "      <th>headline</th>\n",
       "      <th>summary</th>\n",
       "      <th>author</th>\n",
       "      <th>time</th>\n",
       "      <th>day</th>\n",
       "      <th>category</th>\n",
       "    </tr>\n",
       "  </thead>\n",
       "  <tbody>\n",
       "    <tr>\n",
       "      <th>0</th>\n",
       "      <td>Some of Jhunjhunwala's best picks were in 2002...</td>\n",
       "      <td>Rare Enterprises CEO Utpal Sheth said some of ...</td>\n",
       "      <td>Mansi Agarwal</td>\n",
       "      <td>05:30 pm</td>\n",
       "      <td>Monday, 14 August, 2023</td>\n",
       "      <td>business</td>\n",
       "    </tr>\n",
       "    <tr>\n",
       "      <th>1</th>\n",
       "      <td>Pakistan suspends Russian oil imports over qua...</td>\n",
       "      <td>Pakistan has reportedly suspended imports of R...</td>\n",
       "      <td>Mansi Agarwal</td>\n",
       "      <td>05:20 pm</td>\n",
       "      <td>Monday, 14 August, 2023</td>\n",
       "      <td>business</td>\n",
       "    </tr>\n",
       "    <tr>\n",
       "      <th>2</th>\n",
       "      <td>SEBI bars ZEE's Subhash Chandra, Goenka from b...</td>\n",
       "      <td>SEBI barred Zee Entertainment's Subhash Chandr...</td>\n",
       "      <td>Pragya Swastik</td>\n",
       "      <td>04:53 pm</td>\n",
       "      <td>Monday, 14 August, 2023</td>\n",
       "      <td>business</td>\n",
       "    </tr>\n",
       "    <tr>\n",
       "      <th>3</th>\n",
       "      <td>In 1989, Jhunjhunwala said India's time has co...</td>\n",
       "      <td>Veteran investor Ramesh Damani said late billi...</td>\n",
       "      <td>Mansi Agarwal</td>\n",
       "      <td>04:43 pm</td>\n",
       "      <td>Monday, 14 August, 2023</td>\n",
       "      <td>business</td>\n",
       "    </tr>\n",
       "    <tr>\n",
       "      <th>4</th>\n",
       "      <td>RBI to launch public tech platform for frictio...</td>\n",
       "      <td>RBI on Monday announced it will launch a pilot...</td>\n",
       "      <td>Mansi Agarwal</td>\n",
       "      <td>04:20 pm</td>\n",
       "      <td>Monday, 14 August, 2023</td>\n",
       "      <td>business</td>\n",
       "    </tr>\n",
       "    <tr>\n",
       "      <th>...</th>\n",
       "      <td>...</td>\n",
       "      <td>...</td>\n",
       "      <td>...</td>\n",
       "      <td>...</td>\n",
       "      <td>...</td>\n",
       "      <td>...</td>\n",
       "    </tr>\n",
       "    <tr>\n",
       "      <th>136</th>\n",
       "      <td>Indians among 500 students stuck as Canada col...</td>\n",
       "      <td>At least 500 students, including Indians, are ...</td>\n",
       "      <td>Disha Jana</td>\n",
       "      <td>05:12 pm</td>\n",
       "      <td>Thursday, 10 August, 2023</td>\n",
       "      <td>education</td>\n",
       "    </tr>\n",
       "    <tr>\n",
       "      <th>137</th>\n",
       "      <td>Want him to excel at what he chooses: Vendor w...</td>\n",
       "      <td>Sujal Singh, a Noida-based towel seller's son,...</td>\n",
       "      <td>Sakshita Khosla</td>\n",
       "      <td>03:23 pm</td>\n",
       "      <td>Thursday, 10 August, 2023</td>\n",
       "      <td>education</td>\n",
       "    </tr>\n",
       "    <tr>\n",
       "      <th>138</th>\n",
       "      <td>IIM Amendment Bill passed by the Parliament</td>\n",
       "      <td>The Rajya Sabha on Tuesday passed the IIM (Ame...</td>\n",
       "      <td>Sakshita Khosla</td>\n",
       "      <td>12:24 pm</td>\n",
       "      <td>Tuesday, 8 August, 2023</td>\n",
       "      <td>education</td>\n",
       "    </tr>\n",
       "    <tr>\n",
       "      <th>139</th>\n",
       "      <td>22-year-old student dies by suicide 12 days af...</td>\n",
       "      <td>A 22-year-old postgraduate student of the Indi...</td>\n",
       "      <td>Shalini Ojha</td>\n",
       "      <td>07:23 am</td>\n",
       "      <td>Tuesday, 8 August, 2023</td>\n",
       "      <td>education</td>\n",
       "    </tr>\n",
       "    <tr>\n",
       "      <th>140</th>\n",
       "      <td>Income Tax Dept to hire 50 young law, accounta...</td>\n",
       "      <td>The Income Tax Department has decided to tempo...</td>\n",
       "      <td>Pragya Swastik</td>\n",
       "      <td>01:16 pm</td>\n",
       "      <td>Monday, 7 August, 2023</td>\n",
       "      <td>education</td>\n",
       "    </tr>\n",
       "  </tbody>\n",
       "</table>\n",
       "<p>141 rows × 6 columns</p>\n",
       "</div>"
      ],
      "text/plain": [
       "                                              headline  \\\n",
       "0    Some of Jhunjhunwala's best picks were in 2002...   \n",
       "1    Pakistan suspends Russian oil imports over qua...   \n",
       "2    SEBI bars ZEE's Subhash Chandra, Goenka from b...   \n",
       "3    In 1989, Jhunjhunwala said India's time has co...   \n",
       "4    RBI to launch public tech platform for frictio...   \n",
       "..                                                 ...   \n",
       "136  Indians among 500 students stuck as Canada col...   \n",
       "137  Want him to excel at what he chooses: Vendor w...   \n",
       "138        IIM Amendment Bill passed by the Parliament   \n",
       "139  22-year-old student dies by suicide 12 days af...   \n",
       "140  Income Tax Dept to hire 50 young law, accounta...   \n",
       "\n",
       "                                               summary           author  \\\n",
       "0    Rare Enterprises CEO Utpal Sheth said some of ...    Mansi Agarwal   \n",
       "1    Pakistan has reportedly suspended imports of R...    Mansi Agarwal   \n",
       "2    SEBI barred Zee Entertainment's Subhash Chandr...   Pragya Swastik   \n",
       "3    Veteran investor Ramesh Damani said late billi...    Mansi Agarwal   \n",
       "4    RBI on Monday announced it will launch a pilot...    Mansi Agarwal   \n",
       "..                                                 ...              ...   \n",
       "136  At least 500 students, including Indians, are ...       Disha Jana   \n",
       "137  Sujal Singh, a Noida-based towel seller's son,...  Sakshita Khosla   \n",
       "138  The Rajya Sabha on Tuesday passed the IIM (Ame...  Sakshita Khosla   \n",
       "139  A 22-year-old postgraduate student of the Indi...     Shalini Ojha   \n",
       "140  The Income Tax Department has decided to tempo...   Pragya Swastik   \n",
       "\n",
       "          time                        day   category  \n",
       "0     05:30 pm    Monday, 14 August, 2023   business  \n",
       "1     05:20 pm    Monday, 14 August, 2023   business  \n",
       "2     04:53 pm    Monday, 14 August, 2023   business  \n",
       "3     04:43 pm    Monday, 14 August, 2023   business  \n",
       "4     04:20 pm    Monday, 14 August, 2023   business  \n",
       "..         ...                        ...        ...  \n",
       "136   05:12 pm  Thursday, 10 August, 2023  education  \n",
       "137   03:23 pm  Thursday, 10 August, 2023  education  \n",
       "138   12:24 pm    Tuesday, 8 August, 2023  education  \n",
       "139   07:23 am    Tuesday, 8 August, 2023  education  \n",
       "140   01:16 pm     Monday, 7 August, 2023  education  \n",
       "\n",
       "[141 rows x 6 columns]"
      ]
     },
     "execution_count": 3,
     "metadata": {},
     "output_type": "execute_result"
    }
   ],
   "source": [
    "inshorts_data"
   ]
  },
  {
   "cell_type": "code",
   "execution_count": 4,
   "id": "c3cff3c9-7200-4228-bd8c-a9f3cb43c4a2",
   "metadata": {
    "tags": []
   },
   "outputs": [
    {
     "data": {
      "text/plain": [
       "business         10\n",
       "sports           10\n",
       "technology       10\n",
       "entertainment    10\n",
       "politics         10\n",
       "hatke            10\n",
       "international    10\n",
       "automobile       10\n",
       "science          10\n",
       "travel           10\n",
       "fashion          10\n",
       "education        10\n",
       "miscellaneous     9\n",
       "india             8\n",
       "startups          4\n",
       "Name: category, dtype: int64"
      ]
     },
     "execution_count": 4,
     "metadata": {},
     "output_type": "execute_result"
    }
   ],
   "source": [
    "inshorts_data.category.value_counts()"
   ]
  }
 ],
 "metadata": {
  "kernelspec": {
   "display_name": "Python 3 (ipykernel)",
   "language": "python",
   "name": "python3"
  },
  "language_info": {
   "codemirror_mode": {
    "name": "ipython",
    "version": 3
   },
   "file_extension": ".py",
   "mimetype": "text/x-python",
   "name": "python",
   "nbconvert_exporter": "python",
   "pygments_lexer": "ipython3",
   "version": "3.10.9"
  }
 },
 "nbformat": 4,
 "nbformat_minor": 5
}
