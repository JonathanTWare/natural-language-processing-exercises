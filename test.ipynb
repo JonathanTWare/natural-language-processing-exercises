{
 "cells": [
  {
   "cell_type": "code",
   "execution_count": 1,
   "id": "0de1e2c0-9cde-4c3c-ac7d-8cb1951ba63c",
   "metadata": {
    "tags": []
   },
   "outputs": [],
   "source": [
    "from bs4 import BeautifulSoup\n",
    "import requests\n",
    "import pandas as pd\n",
    "import acquire as a"
   ]
  },
  {
   "cell_type": "code",
   "execution_count": 2,
   "id": "d5954697-daf3-4ea9-83b8-b93615cf5d93",
   "metadata": {
    "tags": []
   },
   "outputs": [
    {
     "name": "stdout",
     "output_type": "stream",
     "text": [
      "Data scraped and saved to CSV.\n"
     ]
    }
   ],
   "source": [
    "inshorts_data = a.get_inshorts_data()"
   ]
  },
  {
   "cell_type": "code",
   "execution_count": 3,
   "id": "a5abc772-d5a8-4b0c-9863-64c7e410138d",
   "metadata": {
    "tags": []
   },
   "outputs": [
    {
     "data": {
      "text/html": [
       "<div>\n",
       "<style scoped>\n",
       "    .dataframe tbody tr th:only-of-type {\n",
       "        vertical-align: middle;\n",
       "    }\n",
       "\n",
       "    .dataframe tbody tr th {\n",
       "        vertical-align: top;\n",
       "    }\n",
       "\n",
       "    .dataframe thead th {\n",
       "        text-align: right;\n",
       "    }\n",
       "</style>\n",
       "<table border=\"1\" class=\"dataframe\">\n",
       "  <thead>\n",
       "    <tr style=\"text-align: right;\">\n",
       "      <th></th>\n",
       "      <th>headline</th>\n",
       "      <th>summary</th>\n",
       "      <th>category</th>\n",
       "    </tr>\n",
       "  </thead>\n",
       "  <tbody>\n",
       "    <tr>\n",
       "      <th>0</th>\n",
       "      <td>Some of Jhunjhunwala's best picks were in 2002...</td>\n",
       "      <td>Rare Enterprises CEO Utpal Sheth said some of ...</td>\n",
       "      <td>business</td>\n",
       "    </tr>\n",
       "    <tr>\n",
       "      <th>1</th>\n",
       "      <td>Pakistan suspends Russian oil imports over qua...</td>\n",
       "      <td>Pakistan has reportedly suspended imports of R...</td>\n",
       "      <td>business</td>\n",
       "    </tr>\n",
       "    <tr>\n",
       "      <th>2</th>\n",
       "      <td>SEBI bars ZEE's Subhash Chandra, Goenka from b...</td>\n",
       "      <td>SEBI barred Zee Entertainment's Subhash Chandr...</td>\n",
       "      <td>business</td>\n",
       "    </tr>\n",
       "    <tr>\n",
       "      <th>3</th>\n",
       "      <td>In 1989, Jhunjhunwala said India's time has co...</td>\n",
       "      <td>Veteran investor Ramesh Damani said late billi...</td>\n",
       "      <td>business</td>\n",
       "    </tr>\n",
       "    <tr>\n",
       "      <th>4</th>\n",
       "      <td>RBI to launch public tech platform for frictio...</td>\n",
       "      <td>RBI on Monday announced it will launch a pilot...</td>\n",
       "      <td>business</td>\n",
       "    </tr>\n",
       "    <tr>\n",
       "      <th>...</th>\n",
       "      <td>...</td>\n",
       "      <td>...</td>\n",
       "      <td>...</td>\n",
       "    </tr>\n",
       "    <tr>\n",
       "      <th>136</th>\n",
       "      <td>Indians among 500 students stuck as Canada col...</td>\n",
       "      <td>At least 500 students, including Indians, are ...</td>\n",
       "      <td>education</td>\n",
       "    </tr>\n",
       "    <tr>\n",
       "      <th>137</th>\n",
       "      <td>Want him to excel at what he chooses: Vendor w...</td>\n",
       "      <td>Sujal Singh, a Noida-based towel seller's son,...</td>\n",
       "      <td>education</td>\n",
       "    </tr>\n",
       "    <tr>\n",
       "      <th>138</th>\n",
       "      <td>IIM Amendment Bill passed by the Parliament</td>\n",
       "      <td>The Rajya Sabha on Tuesday passed the IIM (Ame...</td>\n",
       "      <td>education</td>\n",
       "    </tr>\n",
       "    <tr>\n",
       "      <th>139</th>\n",
       "      <td>22-year-old student dies by suicide 12 days af...</td>\n",
       "      <td>A 22-year-old postgraduate student of the Indi...</td>\n",
       "      <td>education</td>\n",
       "    </tr>\n",
       "    <tr>\n",
       "      <th>140</th>\n",
       "      <td>Income Tax Dept to hire 50 young law, accounta...</td>\n",
       "      <td>The Income Tax Department has decided to tempo...</td>\n",
       "      <td>education</td>\n",
       "    </tr>\n",
       "  </tbody>\n",
       "</table>\n",
       "<p>141 rows × 3 columns</p>\n",
       "</div>"
      ],
      "text/plain": [
       "                                              headline  \\\n",
       "0    Some of Jhunjhunwala's best picks were in 2002...   \n",
       "1    Pakistan suspends Russian oil imports over qua...   \n",
       "2    SEBI bars ZEE's Subhash Chandra, Goenka from b...   \n",
       "3    In 1989, Jhunjhunwala said India's time has co...   \n",
       "4    RBI to launch public tech platform for frictio...   \n",
       "..                                                 ...   \n",
       "136  Indians among 500 students stuck as Canada col...   \n",
       "137  Want him to excel at what he chooses: Vendor w...   \n",
       "138        IIM Amendment Bill passed by the Parliament   \n",
       "139  22-year-old student dies by suicide 12 days af...   \n",
       "140  Income Tax Dept to hire 50 young law, accounta...   \n",
       "\n",
       "                                               summary   category  \n",
       "0    Rare Enterprises CEO Utpal Sheth said some of ...   business  \n",
       "1    Pakistan has reportedly suspended imports of R...   business  \n",
       "2    SEBI barred Zee Entertainment's Subhash Chandr...   business  \n",
       "3    Veteran investor Ramesh Damani said late billi...   business  \n",
       "4    RBI on Monday announced it will launch a pilot...   business  \n",
       "..                                                 ...        ...  \n",
       "136  At least 500 students, including Indians, are ...  education  \n",
       "137  Sujal Singh, a Noida-based towel seller's son,...  education  \n",
       "138  The Rajya Sabha on Tuesday passed the IIM (Ame...  education  \n",
       "139  A 22-year-old postgraduate student of the Indi...  education  \n",
       "140  The Income Tax Department has decided to tempo...  education  \n",
       "\n",
       "[141 rows x 3 columns]"
      ]
     },
     "execution_count": 3,
     "metadata": {},
     "output_type": "execute_result"
    }
   ],
   "source": [
    "inshorts_data"
   ]
  },
  {
   "cell_type": "code",
   "execution_count": null,
   "id": "55caf9d6-fd27-4585-a6ec-efd69fa88d79",
   "metadata": {},
   "outputs": [],
   "source": []
  }
 ],
 "metadata": {
  "kernelspec": {
   "display_name": "Python 3 (ipykernel)",
   "language": "python",
   "name": "python3"
  },
  "language_info": {
   "codemirror_mode": {
    "name": "ipython",
    "version": 3
   },
   "file_extension": ".py",
   "mimetype": "text/x-python",
   "name": "python",
   "nbconvert_exporter": "python",
   "pygments_lexer": "ipython3",
   "version": "3.10.9"
  }
 },
 "nbformat": 4,
 "nbformat_minor": 5
}
