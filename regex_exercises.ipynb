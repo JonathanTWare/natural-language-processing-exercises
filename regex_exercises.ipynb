{
 "cells": [
  {
   "cell_type": "code",
   "execution_count": 1,
   "id": "b5496ef8-fe12-4690-9a38-21efda31ae89",
   "metadata": {
    "tags": []
   },
   "outputs": [],
   "source": [
    "import re\n",
    "import pandas as pd"
   ]
  },
  {
   "cell_type": "markdown",
   "id": "5107012b-5488-4a89-bdea-033e251eee90",
   "metadata": {},
   "source": [
    "# Write a function named is_vowel. It should accept a string as input and use a regular expression to determine if the passed string is a vowel. While not explicity mentioned in the lesson, you can treat the result of re.search as a boolean value that indicates whether or not the regular expression matches the given string."
   ]
  },
  {
   "cell_type": "code",
   "execution_count": 2,
   "id": "2a4d4603-c729-489b-91ae-e7c54e1bdeb3",
   "metadata": {
    "tags": []
   },
   "outputs": [],
   "source": [
    "def is_vowel(i):\n",
    "    \n",
    "    vowel_pattern = re.compile(r'^[aeiouAEIOU]')\n",
    "\n",
    "    if re.search(vowel_pattern, i):\n",
    "        return True\n",
    "    else:\n",
    "        return False\n",
    "\n",
    "    \n",
    "    "
   ]
  },
  {
   "cell_type": "markdown",
   "id": "16563606-a4b6-4d7a-a17c-c0061192ef78",
   "metadata": {},
   "source": [
    "### test func"
   ]
  },
  {
   "cell_type": "code",
   "execution_count": 3,
   "id": "22732642-8e10-4460-b50b-1be2e37dfa19",
   "metadata": {
    "tags": []
   },
   "outputs": [
    {
     "name": "stdout",
     "output_type": "stream",
     "text": [
      "True\n",
      "False\n",
      "False\n",
      "False\n"
     ]
    }
   ],
   "source": [
    "print(is_vowel('a')) \n",
    "print(is_vowel('b'))  \n",
    "print(is_vowel('c'))  \n",
    "print(is_vowel('d')) "
   ]
  },
  {
   "cell_type": "markdown",
   "id": "6f453868-da18-4558-9b27-8ddb96021065",
   "metadata": {
    "tags": []
   },
   "source": [
    "# Write a function named is_valid_username that accepts a string as input. A valid username starts with a lowercase letter, and only consists of lowercase letters, numbers, or the _ character. It should also be no longer than 32 characters. The function should return either True or False depending on whether the passed string is a valid username.\n",
    "```\n",
    ">>> is_valid_username('aaaaaaaaaaaaaaaaaaaaaaaaaaaaaaaaa')\n",
    "False\n",
    ">>> is_valid_username('codeup')\n",
    "True\n",
    ">>> is_valid_username('Codeup')\n",
    "False\n",
    ">>> is_valid_username('codeup123')\n",
    "True\n",
    ">>> is_valid_username('1codeup')\n",
    "False\n",
    "```"
   ]
  },
  {
   "cell_type": "code",
   "execution_count": 4,
   "id": "9b8909e8-91b8-4f58-858a-7914f4b611c3",
   "metadata": {
    "tags": []
   },
   "outputs": [],
   "source": [
    "def is_valid_username(i):\n",
    "    \n",
    "    username_pattern = re.compile(r'^[a-z][a-z0-9_]{0,31}$')\n",
    "\n",
    "    \n",
    "    if re.match(username_pattern, i):\n",
    "        return True\n",
    "    else:\n",
    "        return False"
   ]
  },
  {
   "cell_type": "markdown",
   "id": "ddc19799-2c1a-4cea-b3f1-b1a89df2b289",
   "metadata": {},
   "source": [
    "### test func"
   ]
  },
  {
   "cell_type": "code",
   "execution_count": 5,
   "id": "8c540ba4-5a5e-4fe5-ab02-b9b7663234b8",
   "metadata": {
    "tags": []
   },
   "outputs": [
    {
     "name": "stdout",
     "output_type": "stream",
     "text": [
      "False\n",
      "True\n",
      "False\n",
      "True\n",
      "False\n"
     ]
    }
   ],
   "source": [
    "print(is_valid_username('iamlegend123!'))  \n",
    "print(is_valid_username('big_money77'))       \n",
    "print(is_valid_username('abcdef111_g!'))     \n",
    "print(is_valid_username('user123_name'))   \n",
    "print(is_valid_username('toolong0123456789_012345678901111'))"
   ]
  },
  {
   "cell_type": "markdown",
   "id": "e1b34c2e-1770-412a-ac49-090e298e11f8",
   "metadata": {
    "tags": []
   },
   "source": [
    "# Write a regular expression to capture phone numbers. It should match all of the following:\n",
    "\n",
    "```\n",
    "(210) 867 5309\n",
    "+1 210.867.5309\n",
    "867-5309\n",
    "210-867-5309\n",
    "```"
   ]
  },
  {
   "cell_type": "code",
   "execution_count": 6,
   "id": "37d47a59-aa7a-4f9e-88f3-abd13fe5ae07",
   "metadata": {
    "tags": []
   },
   "outputs": [],
   "source": [
    "subject = '''(210) 867 5309\n",
    "+1 210.867.5309\n",
    "867-5309\n",
    "210-867-5309'''"
   ]
  },
  {
   "cell_type": "code",
   "execution_count": 7,
   "id": "9bdac816-4372-44f8-8a45-ca27166e2f03",
   "metadata": {
    "tags": []
   },
   "outputs": [],
   "source": [
    "regexp = r'(?:\\(\\d{3}\\)\\s|\\+1\\s\\d{3}[-.\\s]\\d{3}[-.\\s]\\d{4}|(?:\\d{3}[-.\\s])?)\\d{3}[-.\\s]\\d{4}'"
   ]
  },
  {
   "cell_type": "code",
   "execution_count": 8,
   "id": "8323ff2b-4c1c-4cd9-b375-7ab1be845a4b",
   "metadata": {
    "tags": []
   },
   "outputs": [
    {
     "data": {
      "text/plain": [
       "['(210) 867 5309', '210.867.5309', '867-5309', '210-867-5309']"
      ]
     },
     "execution_count": 8,
     "metadata": {},
     "output_type": "execute_result"
    }
   ],
   "source": [
    "re.findall(regexp,subject)"
   ]
  },
  {
   "cell_type": "markdown",
   "id": "221a1ff9-dcbf-4c1d-9f85-6f3705688fce",
   "metadata": {
    "tags": []
   },
   "source": [
    "# Use regular expressions to convert the dates below to the standardized year-month-day format.\n",
    "\n",
    "```\n",
    "02/04/19\n",
    "02/05/19\n",
    "02/06/19\n",
    "02/07/19\n",
    "02/08/19\n",
    "02/09/19\n",
    "02/10/19\n",
    "```"
   ]
  },
  {
   "cell_type": "code",
   "execution_count": 9,
   "id": "40fdbe82-2042-4b50-84cf-d06b0fe26edf",
   "metadata": {
    "tags": []
   },
   "outputs": [],
   "source": [
    "subject = '02/04/19 02/05/19 02/06/19 02/07/19 02/08/19 02/09/19 02/10/19'"
   ]
  },
  {
   "cell_type": "code",
   "execution_count": 10,
   "id": "874df379-9bcd-4e38-8e0a-3a6e374b7422",
   "metadata": {
    "tags": []
   },
   "outputs": [],
   "source": [
    "regexp = r'(\\d{2})/(\\d{2})/(\\d{2})'"
   ]
  },
  {
   "cell_type": "code",
   "execution_count": 11,
   "id": "6e0e9d01-01ba-4c08-8489-3356dcff48c5",
   "metadata": {
    "tags": []
   },
   "outputs": [
    {
     "data": {
      "text/plain": [
       "'2019-02-04 2019-02-05 2019-02-06 2019-02-07 2019-02-08 2019-02-09 2019-02-10'"
      ]
     },
     "execution_count": 11,
     "metadata": {},
     "output_type": "execute_result"
    }
   ],
   "source": [
    "re.sub(regexp, r'20\\3-\\1-\\2',subject)"
   ]
  },
  {
   "cell_type": "markdown",
   "id": "378c0a48-70a0-4306-9432-78e3aeaff34e",
   "metadata": {
    "tags": []
   },
   "source": [
    "# Write a regex to extract the various parts of these logfile lines:\n",
    "\n",
    "```\n",
    "GET /api/v1/sales?page=86 [16/Apr/2019:193452+0000] HTTP/1.1 {200} 510348 \"python-requests/2.21.0\" 97.105.19.58\n",
    "POST /users_accounts/file-upload [16/Apr/2019:193452+0000] HTTP/1.1 {201} 42 \"User-Agent: Mozilla/5.0 (X11; Fedora; Fedora; Linux x86_64) AppleWebKit/537.36 (KHTML, like Gecko) Chrome/73.0.3683.86 Safari/537.36\" 97.105.19.58\n",
    "GET /api/v1/items?page=3 [16/Apr/2019:193453+0000] HTTP/1.1 {429} 3561 \"python-requests/2.21.0\" 97.105.19.58\n",
    "```"
   ]
  },
  {
   "cell_type": "code",
   "execution_count": 12,
   "id": "c567d058-60ec-41d2-a88f-8e72a60bcf27",
   "metadata": {
    "tags": []
   },
   "outputs": [],
   "source": [
    "subject = [\n",
    "    'GET /api/v1/sales?page=86 [16/Apr/2019:193452+0000] HTTP/1.1 {200} 510348 \"python-requests/2.21.0\" 97.105.19.58',\n",
    "    'POST /users_accounts/file-upload [16/Apr/2019:193452+0000] HTTP/1.1 {201} 42 \"User-Agent: Mozilla/5.0 (X11; Fedora; Fedora; Linux x86_64) AppleWebKit/537.36 (KHTML, like Gecko) Chrome/73.0.3683.86 Safari/537.36\" 97.105.19.58',\n",
    "    'GET /api/v1/items?page=3 [16/Apr/2019:193453+0000] HTTP/1.1 {429} 3561 \"python-requests/2.21.0\" 97.105.19.58'\n",
    "]"
   ]
  },
  {
   "cell_type": "code",
   "execution_count": 13,
   "id": "1989828e-0d41-4025-8da1-4c5bdb9bb78c",
   "metadata": {
    "tags": []
   },
   "outputs": [],
   "source": [
    "regexp = r'^(GET|POST) (\\/\\S+) \\[(\\d{2}\\/\\w{3}\\/\\d{4}:\\d{6}\\+\\d{4})\\] (HTTP\\/\\d\\.\\d) \\{(\\d{3})\\} (\\d+) \"(.*?)\" (\\d+\\.\\d+\\.\\d+\\.\\d+)$'"
   ]
  },
  {
   "cell_type": "code",
   "execution_count": 18,
   "id": "3457e3eb-6e91-4729-99f2-c2bd71395c57",
   "metadata": {
    "tags": []
   },
   "outputs": [],
   "source": [
    "data = []\n",
    "\n",
    "for i in subject:\n",
    "    match = re.match(regexp, i)\n",
    "    if match:\n",
    "        http = match.group(1)\n",
    "        path = match.group(2)\n",
    "        timestamp = match.group(3)\n",
    "        version = match.group(4)\n",
    "        status = match.group(5)\n",
    "        content = match.group(6)\n",
    "        user = match.group(7)\n",
    "        ip_address = match.group(8)\n",
    "        \n",
    "        data.append({\n",
    "            'response': http,\n",
    "            'path': path,\n",
    "            'timestamp': timestamp,\n",
    "            'version': version,\n",
    "            'status': status,\n",
    "            'content': content,\n",
    "            'user': user,\n",
    "            'ip_address': ip_address\n",
    "        })\n",
    "\n",
    "df = pd.DataFrame(data)"
   ]
  },
  {
   "cell_type": "code",
   "execution_count": 19,
   "id": "68675cb7-f9d4-4f50-aee9-e26156faa03b",
   "metadata": {
    "tags": []
   },
   "outputs": [
    {
     "data": {
      "text/html": [
       "<div>\n",
       "<style scoped>\n",
       "    .dataframe tbody tr th:only-of-type {\n",
       "        vertical-align: middle;\n",
       "    }\n",
       "\n",
       "    .dataframe tbody tr th {\n",
       "        vertical-align: top;\n",
       "    }\n",
       "\n",
       "    .dataframe thead th {\n",
       "        text-align: right;\n",
       "    }\n",
       "</style>\n",
       "<table border=\"1\" class=\"dataframe\">\n",
       "  <thead>\n",
       "    <tr style=\"text-align: right;\">\n",
       "      <th></th>\n",
       "      <th>response</th>\n",
       "      <th>path</th>\n",
       "      <th>timestamp</th>\n",
       "      <th>version</th>\n",
       "      <th>status</th>\n",
       "      <th>content</th>\n",
       "      <th>user</th>\n",
       "      <th>ip_address</th>\n",
       "    </tr>\n",
       "  </thead>\n",
       "  <tbody>\n",
       "    <tr>\n",
       "      <th>0</th>\n",
       "      <td>GET</td>\n",
       "      <td>/api/v1/sales?page=86</td>\n",
       "      <td>16/Apr/2019:193452+0000</td>\n",
       "      <td>HTTP/1.1</td>\n",
       "      <td>200</td>\n",
       "      <td>510348</td>\n",
       "      <td>python-requests/2.21.0</td>\n",
       "      <td>97.105.19.58</td>\n",
       "    </tr>\n",
       "    <tr>\n",
       "      <th>1</th>\n",
       "      <td>POST</td>\n",
       "      <td>/users_accounts/file-upload</td>\n",
       "      <td>16/Apr/2019:193452+0000</td>\n",
       "      <td>HTTP/1.1</td>\n",
       "      <td>201</td>\n",
       "      <td>42</td>\n",
       "      <td>User-Agent: Mozilla/5.0 (X11; Fedora; Fedora; ...</td>\n",
       "      <td>97.105.19.58</td>\n",
       "    </tr>\n",
       "    <tr>\n",
       "      <th>2</th>\n",
       "      <td>GET</td>\n",
       "      <td>/api/v1/items?page=3</td>\n",
       "      <td>16/Apr/2019:193453+0000</td>\n",
       "      <td>HTTP/1.1</td>\n",
       "      <td>429</td>\n",
       "      <td>3561</td>\n",
       "      <td>python-requests/2.21.0</td>\n",
       "      <td>97.105.19.58</td>\n",
       "    </tr>\n",
       "  </tbody>\n",
       "</table>\n",
       "</div>"
      ],
      "text/plain": [
       "  response                         path                timestamp   version  \\\n",
       "0      GET        /api/v1/sales?page=86  16/Apr/2019:193452+0000  HTTP/1.1   \n",
       "1     POST  /users_accounts/file-upload  16/Apr/2019:193452+0000  HTTP/1.1   \n",
       "2      GET         /api/v1/items?page=3  16/Apr/2019:193453+0000  HTTP/1.1   \n",
       "\n",
       "  status content                                               user  \\\n",
       "0    200  510348                             python-requests/2.21.0   \n",
       "1    201      42  User-Agent: Mozilla/5.0 (X11; Fedora; Fedora; ...   \n",
       "2    429    3561                             python-requests/2.21.0   \n",
       "\n",
       "     ip_address  \n",
       "0  97.105.19.58  \n",
       "1  97.105.19.58  \n",
       "2  97.105.19.58  "
      ]
     },
     "execution_count": 19,
     "metadata": {},
     "output_type": "execute_result"
    }
   ],
   "source": [
    "df"
   ]
  }
 ],
 "metadata": {
  "kernelspec": {
   "display_name": "Python 3 (ipykernel)",
   "language": "python",
   "name": "python3"
  },
  "language_info": {
   "codemirror_mode": {
    "name": "ipython",
    "version": 3
   },
   "file_extension": ".py",
   "mimetype": "text/x-python",
   "name": "python",
   "nbconvert_exporter": "python",
   "pygments_lexer": "ipython3",
   "version": "3.10.9"
  }
 },
 "nbformat": 4,
 "nbformat_minor": 5
}
