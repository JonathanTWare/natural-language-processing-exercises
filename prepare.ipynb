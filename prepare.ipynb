{
 "cells": [
  {
   "cell_type": "code",
   "execution_count": 1,
   "id": "8539865e-a888-419d-8422-13ea6ac8f6f2",
   "metadata": {
    "tags": []
   },
   "outputs": [],
   "source": [
    "from bs4 import BeautifulSoup\n",
    "import requests\n",
    "import pandas as pd\n",
    "import acquire as a\n",
    "import re\n",
    "import unicodedata\n",
    "import nltk\n",
    "from nltk.stem import PorterStemmer\n",
    "from nltk.tokenize import word_tokenize\n",
    "from nltk.stem import WordNetLemmatizer\n",
    "from nltk.corpus import stopwords\n",
    "import os\n",
    "import warnings\n",
    "warnings.filterwarnings('ignore')"
   ]
  },
  {
   "cell_type": "markdown",
   "id": "a498456e-26ae-4e67-8dfc-36490b916fae",
   "metadata": {
    "tags": []
   },
   "source": [
    "#### The end result of this exercise should be a file named prepare.py that defines the requested functions."
   ]
  },
  {
   "cell_type": "markdown",
   "id": "c9e50be5-90fe-49af-98e1-c434953c61e2",
   "metadata": {},
   "source": [
    "#### In this exercise we will be defining some functions to prepare textual data. These functions should apply equally well to both the codeup blog articles and the news articles that were previously acquired."
   ]
  },
  {
   "cell_type": "markdown",
   "id": "69db0ee7-4ae0-49bb-b414-c8c8d774c49b",
   "metadata": {},
   "source": [
    "## Define a function named basic_clean. It should take in a string and apply some basic text cleaning to it:"
   ]
  },
  {
   "cell_type": "markdown",
   "id": "82a1de54-75a7-4c36-9f7a-0d31a1c02096",
   "metadata": {},
   "source": [
    " Lowercase everything"
   ]
  },
  {
   "cell_type": "markdown",
   "id": "c9c1e2ba-a9fe-4b66-9427-0644c5b31683",
   "metadata": {},
   "source": [
    " Normalize unicode characters"
   ]
  },
  {
   "cell_type": "markdown",
   "id": "9187e360-a6c6-43f0-a0be-4db29c976d53",
   "metadata": {},
   "source": [
    " Replace anything that is not a letter, number, whitespace or a single quote."
   ]
  },
  {
   "cell_type": "code",
   "execution_count": 2,
   "id": "b2392ab7-280b-4635-b7dc-3625e4e34351",
   "metadata": {
    "tags": []
   },
   "outputs": [],
   "source": [
    "def basic_clean(text):\n",
    "    \n",
    "    text = text.lower()\n",
    "    \n",
    "    text = unicodedata.normalize('NFKD', text).encode('ascii', 'ignore').decode('utf-8')\n",
    "\n",
    "    text = re.sub(r'[^a-zA-Z0-9\\s\\']', '', text)\n",
    "    \n",
    "    return text"
   ]
  },
  {
   "cell_type": "code",
   "execution_count": 3,
   "id": "0843dd56-791e-4422-ba27-2845894b1891",
   "metadata": {
    "tags": []
   },
   "outputs": [
    {
     "name": "stdout",
     "output_type": "stream",
     "text": [
      "this is a sample sentence for basic clean\n"
     ]
    }
   ],
   "source": [
    "text = \"This is a sample sentence for basic clean.\"\n",
    "basic =  basic_clean(text)\n",
    "print(basic)"
   ]
  },
  {
   "cell_type": "markdown",
   "id": "ac61718c-5e9e-4803-a141-16d7c710492d",
   "metadata": {},
   "source": [
    "## Define a function named tokenize. It should take in a string and tokenize all the words in the string."
   ]
  },
  {
   "cell_type": "code",
   "execution_count": 4,
   "id": "6c7bf97e-9909-4946-9105-4cacafceaf3f",
   "metadata": {},
   "outputs": [],
   "source": [
    "def tokenize(input_string):\n",
    "\n",
    "    words = input_string.split()\n",
    "    return words"
   ]
  },
  {
   "cell_type": "code",
   "execution_count": 5,
   "id": "8da3d218-a16a-4179-a9be-f99a7b62b3d1",
   "metadata": {
    "tags": []
   },
   "outputs": [
    {
     "name": "stdout",
     "output_type": "stream",
     "text": [
      "['This', 'is', 'a', 'sample', 'sentence', 'for', 'tokenization.']\n"
     ]
    }
   ],
   "source": [
    "input_text = \"This is a sample sentence for tokenization.\"\n",
    "tokens = tokenize(input_text)\n",
    "print(tokens)"
   ]
  },
  {
   "cell_type": "markdown",
   "id": "356b0685-3ef5-415d-9bfc-6bf350d119cb",
   "metadata": {},
   "source": [
    "## Define a function named stem. It should accept some text and return the text after applying stemming to all the words."
   ]
  },
  {
   "cell_type": "code",
   "execution_count": 6,
   "id": "fb040ea8-cf7b-41b4-ab27-8b18fe430d33",
   "metadata": {
    "tags": []
   },
   "outputs": [],
   "source": [
    "def stem(text):\n",
    "    \n",
    "    stemmer = PorterStemmer()\n",
    "    \n",
    "    words = word_tokenize(text)\n",
    "\n",
    "    stemmed_words = [stemmer.stem(word) for word in words]\n",
    "\n",
    "    stemmed_text = ' '.join(stemmed_words)\n",
    "    \n",
    "    return stemmed_text"
   ]
  },
  {
   "cell_type": "code",
   "execution_count": 7,
   "id": "4dc66782-ca07-4c51-a9ea-d22f70751d0b",
   "metadata": {
    "tags": []
   },
   "outputs": [
    {
     "name": "stdout",
     "output_type": "stream",
     "text": [
      "run dog are faster than other dog run\n"
     ]
    }
   ],
   "source": [
    "input_text = \"Running dogs are faster than other dogs running\"\n",
    "stemmed_output = stem(input_text)\n",
    "print(stemmed_output)"
   ]
  },
  {
   "cell_type": "markdown",
   "id": "7d116a71-5a39-4ff8-b5af-662286fbd5fb",
   "metadata": {},
   "source": [
    "## Define a function named lemmatize. It should accept some text and return the text after applying lemmatization to each word."
   ]
  },
  {
   "cell_type": "code",
   "execution_count": 8,
   "id": "e5f8c9b3-536e-4846-b960-f3de21bd9c55",
   "metadata": {
    "tags": []
   },
   "outputs": [],
   "source": [
    "def lemmatize(text):\n",
    "  \n",
    "    lemmatizer = WordNetLemmatizer()\n",
    "  \n",
    "    words = word_tokenize(text)\n",
    "  \n",
    "    lemmatized_words = [lemmatizer.lemmatize(word) for word in words]\n",
    "    lemmatized_text = ' '.join(lemmatized_words)\n",
    "    \n",
    "    return lemmatized_text"
   ]
  },
  {
   "cell_type": "markdown",
   "id": "d336f1c0-bfb3-4dc8-bfea-09bd934cadec",
   "metadata": {},
   "source": [
    "## Define a function named remove_stopwords. It should accept some text and return the text after removing all the stopwords."
   ]
  },
  {
   "cell_type": "markdown",
   "id": "ef0ec1e6-5fed-4c9a-9ac8-1adf0382ecc2",
   "metadata": {},
   "source": [
    "## This function should define two optional parameters, extra_words and exclude_words. These parameters should define any additional stop words to include, and any words that we don't want to remove."
   ]
  },
  {
   "cell_type": "code",
   "execution_count": 9,
   "id": "49cdb07c-3f00-4db5-a3ac-4add5b9aed11",
   "metadata": {
    "tags": []
   },
   "outputs": [],
   "source": [
    "def remove_stopwords(text, extra_words=None, exclude_words=None):\n",
    "   \n",
    "    stop_words = set(stopwords.words(\"english\"))\n",
    "\n",
    "    if extra_words:\n",
    "        stop_words.update(extra_words)\n",
    "\n",
    "    if exclude_words:\n",
    "        stop_words.difference_update(exclude_words)\n",
    "\n",
    "    words = text.split()\n",
    "  \n",
    "    filtered_words = [word for word in words if word.lower() not in stop_words]\n",
    "    \n",
    "    filtered_text = ' '.join(filtered_words)\n",
    "    \n",
    "    return filtered_text\n"
   ]
  },
  {
   "cell_type": "code",
   "execution_count": 10,
   "id": "59c69758-9eee-43b8-a169-ef24c8bf261c",
   "metadata": {
    "tags": []
   },
   "outputs": [
    {
     "name": "stdout",
     "output_type": "stream",
     "text": [
      "example sentence stopwords removed.\n"
     ]
    }
   ],
   "source": [
    "input_text = \"This is an example sentence with some stopwords that should be removed.\"\n",
    "filtered_text = remove_stopwords(input_text)\n",
    "print(filtered_text)"
   ]
  },
  {
   "cell_type": "markdown",
   "id": "42fb1c4b-8ec9-43f8-addc-de8f94029227",
   "metadata": {},
   "source": [
    "## Use your data from the acquire to produce a dataframe of the news articles. Name the dataframe news_df."
   ]
  },
  {
   "cell_type": "code",
   "execution_count": 11,
   "id": "5f8d6378-99e5-43d8-9246-54a22e7a9cce",
   "metadata": {
    "tags": []
   },
   "outputs": [
    {
     "name": "stdout",
     "output_type": "stream",
     "text": [
      "Data scraped and saved to CSV.\n"
     ]
    }
   ],
   "source": [
    "news_df = a.get_inshorts_data()"
   ]
  },
  {
   "cell_type": "code",
   "execution_count": 12,
   "id": "81e63f48-7713-44b9-8b48-cea27ea9168f",
   "metadata": {
    "tags": []
   },
   "outputs": [
    {
     "data": {
      "text/html": [
       "<div>\n",
       "<style scoped>\n",
       "    .dataframe tbody tr th:only-of-type {\n",
       "        vertical-align: middle;\n",
       "    }\n",
       "\n",
       "    .dataframe tbody tr th {\n",
       "        vertical-align: top;\n",
       "    }\n",
       "\n",
       "    .dataframe thead th {\n",
       "        text-align: right;\n",
       "    }\n",
       "</style>\n",
       "<table border=\"1\" class=\"dataframe\">\n",
       "  <thead>\n",
       "    <tr style=\"text-align: right;\">\n",
       "      <th></th>\n",
       "      <th>headline</th>\n",
       "      <th>summary</th>\n",
       "      <th>author</th>\n",
       "      <th>time</th>\n",
       "      <th>day</th>\n",
       "      <th>category</th>\n",
       "    </tr>\n",
       "  </thead>\n",
       "  <tbody>\n",
       "    <tr>\n",
       "      <th>0</th>\n",
       "      <td>Adani Green's unit appeals against tax demand</td>\n",
       "      <td>Adani Green Energy's subsidiary Adani Energy h...</td>\n",
       "      <td>Mansi Agarwal</td>\n",
       "      <td>05:27 pm</td>\n",
       "      <td>Tuesday, 15 August, 2023</td>\n",
       "      <td>business</td>\n",
       "    </tr>\n",
       "    <tr>\n",
       "      <th>1</th>\n",
       "      <td>EX-WSJ reporter ends Indian hacker lawsuit aga...</td>\n",
       "      <td>Former Wall Street Journal reporter Jay Solomo...</td>\n",
       "      <td>Srishty Choudhury</td>\n",
       "      <td>04:37 pm</td>\n",
       "      <td>Tuesday, 15 August, 2023</td>\n",
       "      <td>business</td>\n",
       "    </tr>\n",
       "    <tr>\n",
       "      <th>2</th>\n",
       "      <td>Fitch warns it may be forced to downgrade seve...</td>\n",
       "      <td>A Fitch Ratings' analyst warned that US banks,...</td>\n",
       "      <td>Srishty Choudhury</td>\n",
       "      <td>04:28 pm</td>\n",
       "      <td>Tuesday, 15 August, 2023</td>\n",
       "      <td>business</td>\n",
       "    </tr>\n",
       "    <tr>\n",
       "      <th>3</th>\n",
       "      <td>Govt hikes windfall tax on crude petroleum to ...</td>\n",
       "      <td>The government has hiked the windfall tax on d...</td>\n",
       "      <td>Mansi Agarwal</td>\n",
       "      <td>04:22 pm</td>\n",
       "      <td>Tuesday, 15 August, 2023</td>\n",
       "      <td>business</td>\n",
       "    </tr>\n",
       "    <tr>\n",
       "      <th>4</th>\n",
       "      <td>VIP Industries MD Anindya Dutta resigns, CFO t...</td>\n",
       "      <td>VIP Industries on Tuesday announced that MD An...</td>\n",
       "      <td>Mansi Agarwal</td>\n",
       "      <td>03:54 pm</td>\n",
       "      <td>Tuesday, 15 August, 2023</td>\n",
       "      <td>business</td>\n",
       "    </tr>\n",
       "    <tr>\n",
       "      <th>...</th>\n",
       "      <td>...</td>\n",
       "      <td>...</td>\n",
       "      <td>...</td>\n",
       "      <td>...</td>\n",
       "      <td>...</td>\n",
       "      <td>...</td>\n",
       "    </tr>\n",
       "    <tr>\n",
       "      <th>136</th>\n",
       "      <td>Seats filling fast for Extended Reality Certif...</td>\n",
       "      <td>Hero Vired in collaboration with Snapchat and ...</td>\n",
       "      <td>Roshan Gupta</td>\n",
       "      <td>04:30 am</td>\n",
       "      <td>Friday, 11 August, 2023</td>\n",
       "      <td>education</td>\n",
       "    </tr>\n",
       "    <tr>\n",
       "      <th>137</th>\n",
       "      <td>Indians among 500 students stuck as Canada col...</td>\n",
       "      <td>At least 500 students, including Indians, are ...</td>\n",
       "      <td>Disha Jana</td>\n",
       "      <td>05:12 pm</td>\n",
       "      <td>Thursday, 10 August, 2023</td>\n",
       "      <td>education</td>\n",
       "    </tr>\n",
       "    <tr>\n",
       "      <th>138</th>\n",
       "      <td>Want him to excel at what he chooses: Vendor w...</td>\n",
       "      <td>Sujal Singh, a Noida-based towel seller's son,...</td>\n",
       "      <td>Sakshita Khosla</td>\n",
       "      <td>03:23 pm</td>\n",
       "      <td>Thursday, 10 August, 2023</td>\n",
       "      <td>education</td>\n",
       "    </tr>\n",
       "    <tr>\n",
       "      <th>139</th>\n",
       "      <td>IIM Amendment Bill passed by the Parliament</td>\n",
       "      <td>The Rajya Sabha on Tuesday passed the IIM (Ame...</td>\n",
       "      <td>Sakshita Khosla</td>\n",
       "      <td>12:24 pm</td>\n",
       "      <td>Tuesday, 8 August, 2023</td>\n",
       "      <td>education</td>\n",
       "    </tr>\n",
       "    <tr>\n",
       "      <th>140</th>\n",
       "      <td>22-year-old student dies by suicide 12 days af...</td>\n",
       "      <td>A 22-year-old postgraduate student of the Indi...</td>\n",
       "      <td>Shalini Ojha</td>\n",
       "      <td>07:23 am</td>\n",
       "      <td>Tuesday, 8 August, 2023</td>\n",
       "      <td>education</td>\n",
       "    </tr>\n",
       "  </tbody>\n",
       "</table>\n",
       "<p>141 rows × 6 columns</p>\n",
       "</div>"
      ],
      "text/plain": [
       "                                              headline  \\\n",
       "0        Adani Green's unit appeals against tax demand   \n",
       "1    EX-WSJ reporter ends Indian hacker lawsuit aga...   \n",
       "2    Fitch warns it may be forced to downgrade seve...   \n",
       "3    Govt hikes windfall tax on crude petroleum to ...   \n",
       "4    VIP Industries MD Anindya Dutta resigns, CFO t...   \n",
       "..                                                 ...   \n",
       "136  Seats filling fast for Extended Reality Certif...   \n",
       "137  Indians among 500 students stuck as Canada col...   \n",
       "138  Want him to excel at what he chooses: Vendor w...   \n",
       "139        IIM Amendment Bill passed by the Parliament   \n",
       "140  22-year-old student dies by suicide 12 days af...   \n",
       "\n",
       "                                               summary             author  \\\n",
       "0    Adani Green Energy's subsidiary Adani Energy h...      Mansi Agarwal   \n",
       "1    Former Wall Street Journal reporter Jay Solomo...  Srishty Choudhury   \n",
       "2    A Fitch Ratings' analyst warned that US banks,...  Srishty Choudhury   \n",
       "3    The government has hiked the windfall tax on d...      Mansi Agarwal   \n",
       "4    VIP Industries on Tuesday announced that MD An...      Mansi Agarwal   \n",
       "..                                                 ...                ...   \n",
       "136  Hero Vired in collaboration with Snapchat and ...       Roshan Gupta   \n",
       "137  At least 500 students, including Indians, are ...         Disha Jana   \n",
       "138  Sujal Singh, a Noida-based towel seller's son,...    Sakshita Khosla   \n",
       "139  The Rajya Sabha on Tuesday passed the IIM (Ame...    Sakshita Khosla   \n",
       "140  A 22-year-old postgraduate student of the Indi...       Shalini Ojha   \n",
       "\n",
       "          time                        day   category  \n",
       "0     05:27 pm   Tuesday, 15 August, 2023   business  \n",
       "1     04:37 pm   Tuesday, 15 August, 2023   business  \n",
       "2     04:28 pm   Tuesday, 15 August, 2023   business  \n",
       "3     04:22 pm   Tuesday, 15 August, 2023   business  \n",
       "4     03:54 pm   Tuesday, 15 August, 2023   business  \n",
       "..         ...                        ...        ...  \n",
       "136   04:30 am    Friday, 11 August, 2023  education  \n",
       "137   05:12 pm  Thursday, 10 August, 2023  education  \n",
       "138   03:23 pm  Thursday, 10 August, 2023  education  \n",
       "139   12:24 pm    Tuesday, 8 August, 2023  education  \n",
       "140   07:23 am    Tuesday, 8 August, 2023  education  \n",
       "\n",
       "[141 rows x 6 columns]"
      ]
     },
     "execution_count": 12,
     "metadata": {},
     "output_type": "execute_result"
    }
   ],
   "source": [
    "news_df"
   ]
  },
  {
   "cell_type": "markdown",
   "id": "70ba6fa2-6160-41e0-ac0b-ecd7dd81da13",
   "metadata": {},
   "source": [
    "## Make another dataframe for the Codeup blog posts. Name the dataframe codeup_df."
   ]
  },
  {
   "cell_type": "code",
   "execution_count": 13,
   "id": "fde9113e-3c2d-4c98-9ce3-12a7f3e3338c",
   "metadata": {},
   "outputs": [],
   "source": [
    "urls_to_scrape = [\n",
    "    \"https://codeup.edu/alumni-stories/how-i-paid-43-for-my-codeup-tuition/\",\n",
    "    \"https://codeup.edu/featured/women-in-tech-panelist-spotlight/\",\n",
    "    \"https://codeup.edu/featured/women-in-tech-rachel-robbins-mayhill/\",\n",
    "    \"https://codeup.edu/codeup-news/women-in-tech-panelist-spotlight-sarah-mellor/\",\n",
    "    \"https://codeup.edu/events/women-in-tech-madeleine/\",\n",
    "    \"https://codeup.edu/codeup-news/panelist-spotlight-4/\",\n",
    "]\n",
    "\n",
    "csv_filename = \"articles.csv\""
   ]
  },
  {
   "cell_type": "code",
   "execution_count": 14,
   "id": "e6fc9aba-a307-4f01-98da-3560c73985d0",
   "metadata": {},
   "outputs": [
    {
     "name": "stdout",
     "output_type": "stream",
     "text": [
      "Articles saved to 'articles.csv'\n"
     ]
    }
   ],
   "source": [
    "codeup_df =a.scrape_and_save_articles(urls_to_scrape, csv_filename)"
   ]
  },
  {
   "cell_type": "code",
   "execution_count": 15,
   "id": "3680d275-c99e-4571-ae6d-f252daf89c46",
   "metadata": {
    "tags": []
   },
   "outputs": [
    {
     "data": {
      "text/html": [
       "<div>\n",
       "<style scoped>\n",
       "    .dataframe tbody tr th:only-of-type {\n",
       "        vertical-align: middle;\n",
       "    }\n",
       "\n",
       "    .dataframe tbody tr th {\n",
       "        vertical-align: top;\n",
       "    }\n",
       "\n",
       "    .dataframe thead th {\n",
       "        text-align: right;\n",
       "    }\n",
       "</style>\n",
       "<table border=\"1\" class=\"dataframe\">\n",
       "  <thead>\n",
       "    <tr style=\"text-align: right;\">\n",
       "      <th></th>\n",
       "      <th>title</th>\n",
       "      <th>content</th>\n",
       "    </tr>\n",
       "  </thead>\n",
       "  <tbody>\n",
       "    <tr>\n",
       "      <th>0</th>\n",
       "      <td>How I Paid $43 For My Codeup Tuition</td>\n",
       "      <td>Nov 27, 2019 | Alumni Stories Bootcamps or car...</td>\n",
       "    </tr>\n",
       "    <tr>\n",
       "      <th>1</th>\n",
       "      <td>Women in tech: Panelist Spotlight – Magdalena ...</td>\n",
       "      <td>Mar 28, 2023 | Events, Featured Codeup is host...</td>\n",
       "    </tr>\n",
       "    <tr>\n",
       "      <th>2</th>\n",
       "      <td>Women in tech: Panelist Spotlight – Rachel Rob...</td>\n",
       "      <td>Mar 20, 2023 | Events, Featured Codeup is host...</td>\n",
       "    </tr>\n",
       "    <tr>\n",
       "      <th>3</th>\n",
       "      <td>Women in Tech: Panelist Spotlight – Sarah Mellor</td>\n",
       "      <td>Mar 13, 2023 | Codeup News, Featured Codeup is...</td>\n",
       "    </tr>\n",
       "    <tr>\n",
       "      <th>4</th>\n",
       "      <td>Women in Tech: Panelist Spotlight – Madeleine ...</td>\n",
       "      <td>Mar 6, 2023 | Events, Featured Codeup is hosti...</td>\n",
       "    </tr>\n",
       "    <tr>\n",
       "      <th>5</th>\n",
       "      <td>Black Excellence in Tech: Panelist Spotlight –...</td>\n",
       "      <td>Feb 16, 2023 | Codeup News, Events, Featured  ...</td>\n",
       "    </tr>\n",
       "  </tbody>\n",
       "</table>\n",
       "</div>"
      ],
      "text/plain": [
       "                                               title  \\\n",
       "0               How I Paid $43 For My Codeup Tuition   \n",
       "1  Women in tech: Panelist Spotlight – Magdalena ...   \n",
       "2  Women in tech: Panelist Spotlight – Rachel Rob...   \n",
       "3   Women in Tech: Panelist Spotlight – Sarah Mellor   \n",
       "4  Women in Tech: Panelist Spotlight – Madeleine ...   \n",
       "5  Black Excellence in Tech: Panelist Spotlight –...   \n",
       "\n",
       "                                             content  \n",
       "0  Nov 27, 2019 | Alumni Stories Bootcamps or car...  \n",
       "1  Mar 28, 2023 | Events, Featured Codeup is host...  \n",
       "2  Mar 20, 2023 | Events, Featured Codeup is host...  \n",
       "3  Mar 13, 2023 | Codeup News, Featured Codeup is...  \n",
       "4  Mar 6, 2023 | Events, Featured Codeup is hosti...  \n",
       "5  Feb 16, 2023 | Codeup News, Events, Featured  ...  "
      ]
     },
     "execution_count": 15,
     "metadata": {},
     "output_type": "execute_result"
    }
   ],
   "source": [
    "codeup_df"
   ]
  },
  {
   "cell_type": "markdown",
   "id": "0d8a55d0-78dd-41a3-a6af-f24ec023263b",
   "metadata": {},
   "source": [
    "## For each dataframe, produce the following columns:"
   ]
  },
  {
   "cell_type": "markdown",
   "id": "608834ed-ba89-48a5-a615-f62e337d0969",
   "metadata": {},
   "source": [
    "- title to hold the title"
   ]
  },
  {
   "cell_type": "markdown",
   "id": "bc535df5-c6aa-4b66-bf70-90a84b729b9f",
   "metadata": {},
   "source": [
    "- original to hold the original article/post content"
   ]
  },
  {
   "cell_type": "markdown",
   "id": "9c13a166-21f6-4cce-bb52-382275334392",
   "metadata": {},
   "source": [
    "- clean to hold the normalized and tokenized original with the stopwords removed."
   ]
  },
  {
   "cell_type": "markdown",
   "id": "c5a8ddc9-f8e1-462e-aac0-f848e7a4171f",
   "metadata": {},
   "source": [
    "- stemmed to hold the stemmed version of the cleaned data."
   ]
  },
  {
   "cell_type": "markdown",
   "id": "164aa00e-c096-4cac-9b23-2f36e9c7e25a",
   "metadata": {},
   "source": [
    "- lemmatized to hold the lemmatized version of the cleaned data."
   ]
  },
  {
   "cell_type": "code",
   "execution_count": 16,
   "id": "cd008088-11d0-4a55-9cff-bda01c1f54ce",
   "metadata": {
    "tags": []
   },
   "outputs": [
    {
     "data": {
      "text/html": [
       "<div>\n",
       "<style scoped>\n",
       "    .dataframe tbody tr th:only-of-type {\n",
       "        vertical-align: middle;\n",
       "    }\n",
       "\n",
       "    .dataframe tbody tr th {\n",
       "        vertical-align: top;\n",
       "    }\n",
       "\n",
       "    .dataframe thead th {\n",
       "        text-align: right;\n",
       "    }\n",
       "</style>\n",
       "<table border=\"1\" class=\"dataframe\">\n",
       "  <thead>\n",
       "    <tr style=\"text-align: right;\">\n",
       "      <th></th>\n",
       "      <th>title</th>\n",
       "      <th>content</th>\n",
       "      <th>original</th>\n",
       "      <th>clean</th>\n",
       "      <th>stemmed</th>\n",
       "    </tr>\n",
       "  </thead>\n",
       "  <tbody>\n",
       "    <tr>\n",
       "      <th>0</th>\n",
       "      <td>How I Paid $43 For My Codeup Tuition</td>\n",
       "      <td>Nov 27, 2019 | Alumni Stories Bootcamps or car...</td>\n",
       "      <td>Nov 27, 2019 | Alumni Stories Bootcamps or car...</td>\n",
       "      <td>nov 27 2019 alumni stories bootcamps career ac...</td>\n",
       "      <td>nov 27 2019 alumni stori bootcamp career accel...</td>\n",
       "    </tr>\n",
       "    <tr>\n",
       "      <th>1</th>\n",
       "      <td>Women in tech: Panelist Spotlight – Magdalena ...</td>\n",
       "      <td>Mar 28, 2023 | Events, Featured Codeup is host...</td>\n",
       "      <td>Mar 28, 2023 | Events, Featured Codeup is host...</td>\n",
       "      <td>mar 28 2023 events featured codeup hosting wom...</td>\n",
       "      <td>mar 28 2023 event featur codeup host women tec...</td>\n",
       "    </tr>\n",
       "    <tr>\n",
       "      <th>2</th>\n",
       "      <td>Women in tech: Panelist Spotlight – Rachel Rob...</td>\n",
       "      <td>Mar 20, 2023 | Events, Featured Codeup is host...</td>\n",
       "      <td>Mar 20, 2023 | Events, Featured Codeup is host...</td>\n",
       "      <td>mar 20 2023 events featured codeup hosting wom...</td>\n",
       "      <td>mar 20 2023 event featur codeup host women tec...</td>\n",
       "    </tr>\n",
       "    <tr>\n",
       "      <th>3</th>\n",
       "      <td>Women in Tech: Panelist Spotlight – Sarah Mellor</td>\n",
       "      <td>Mar 13, 2023 | Codeup News, Featured Codeup is...</td>\n",
       "      <td>Mar 13, 2023 | Codeup News, Featured Codeup is...</td>\n",
       "      <td>mar 13 2023 codeup news featured codeup hostin...</td>\n",
       "      <td>mar 13 2023 codeup news featur codeup host wom...</td>\n",
       "    </tr>\n",
       "    <tr>\n",
       "      <th>4</th>\n",
       "      <td>Women in Tech: Panelist Spotlight – Madeleine ...</td>\n",
       "      <td>Mar 6, 2023 | Events, Featured Codeup is hosti...</td>\n",
       "      <td>Mar 6, 2023 | Events, Featured Codeup is hosti...</td>\n",
       "      <td>mar 6 2023 events featured codeup hosting wome...</td>\n",
       "      <td>mar 6 2023 event featur codeup host women tech...</td>\n",
       "    </tr>\n",
       "    <tr>\n",
       "      <th>5</th>\n",
       "      <td>Black Excellence in Tech: Panelist Spotlight –...</td>\n",
       "      <td>Feb 16, 2023 | Codeup News, Events, Featured  ...</td>\n",
       "      <td>Feb 16, 2023 | Codeup News, Events, Featured  ...</td>\n",
       "      <td>feb 16 2023 codeup news events featured codeup...</td>\n",
       "      <td>feb 16 2023 codeup news event featur codeup ho...</td>\n",
       "    </tr>\n",
       "  </tbody>\n",
       "</table>\n",
       "</div>"
      ],
      "text/plain": [
       "                                               title  \\\n",
       "0               How I Paid $43 For My Codeup Tuition   \n",
       "1  Women in tech: Panelist Spotlight – Magdalena ...   \n",
       "2  Women in tech: Panelist Spotlight – Rachel Rob...   \n",
       "3   Women in Tech: Panelist Spotlight – Sarah Mellor   \n",
       "4  Women in Tech: Panelist Spotlight – Madeleine ...   \n",
       "5  Black Excellence in Tech: Panelist Spotlight –...   \n",
       "\n",
       "                                             content  \\\n",
       "0  Nov 27, 2019 | Alumni Stories Bootcamps or car...   \n",
       "1  Mar 28, 2023 | Events, Featured Codeup is host...   \n",
       "2  Mar 20, 2023 | Events, Featured Codeup is host...   \n",
       "3  Mar 13, 2023 | Codeup News, Featured Codeup is...   \n",
       "4  Mar 6, 2023 | Events, Featured Codeup is hosti...   \n",
       "5  Feb 16, 2023 | Codeup News, Events, Featured  ...   \n",
       "\n",
       "                                            original  \\\n",
       "0  Nov 27, 2019 | Alumni Stories Bootcamps or car...   \n",
       "1  Mar 28, 2023 | Events, Featured Codeup is host...   \n",
       "2  Mar 20, 2023 | Events, Featured Codeup is host...   \n",
       "3  Mar 13, 2023 | Codeup News, Featured Codeup is...   \n",
       "4  Mar 6, 2023 | Events, Featured Codeup is hosti...   \n",
       "5  Feb 16, 2023 | Codeup News, Events, Featured  ...   \n",
       "\n",
       "                                               clean  \\\n",
       "0  nov 27 2019 alumni stories bootcamps career ac...   \n",
       "1  mar 28 2023 events featured codeup hosting wom...   \n",
       "2  mar 20 2023 events featured codeup hosting wom...   \n",
       "3  mar 13 2023 codeup news featured codeup hostin...   \n",
       "4  mar 6 2023 events featured codeup hosting wome...   \n",
       "5  feb 16 2023 codeup news events featured codeup...   \n",
       "\n",
       "                                             stemmed  \n",
       "0  nov 27 2019 alumni stori bootcamp career accel...  \n",
       "1  mar 28 2023 event featur codeup host women tec...  \n",
       "2  mar 20 2023 event featur codeup host women tec...  \n",
       "3  mar 13 2023 codeup news featur codeup host wom...  \n",
       "4  mar 6 2023 event featur codeup host women tech...  \n",
       "5  feb 16 2023 codeup news event featur codeup ho...  "
      ]
     },
     "execution_count": 16,
     "metadata": {},
     "output_type": "execute_result"
    }
   ],
   "source": [
    "codeup_df['original'] = codeup_df['content']\n",
    "codeup_df['clean'] = codeup_df['original'].apply(basic_clean)\n",
    "codeup_df['clean'] = codeup_df['clean'].apply(remove_stopwords)\n",
    "codeup_df['stemmed'] = codeup_df['clean'].apply(stem)\n",
    "\n",
    "codeup_df"
   ]
  },
  {
   "cell_type": "code",
   "execution_count": 17,
   "id": "d6dd14c1-b28a-418e-bdce-e748b7038efa",
   "metadata": {
    "tags": []
   },
   "outputs": [
    {
     "data": {
      "text/html": [
       "<div>\n",
       "<style scoped>\n",
       "    .dataframe tbody tr th:only-of-type {\n",
       "        vertical-align: middle;\n",
       "    }\n",
       "\n",
       "    .dataframe tbody tr th {\n",
       "        vertical-align: top;\n",
       "    }\n",
       "\n",
       "    .dataframe thead th {\n",
       "        text-align: right;\n",
       "    }\n",
       "</style>\n",
       "<table border=\"1\" class=\"dataframe\">\n",
       "  <thead>\n",
       "    <tr style=\"text-align: right;\">\n",
       "      <th></th>\n",
       "      <th>headline</th>\n",
       "      <th>summary</th>\n",
       "      <th>author</th>\n",
       "      <th>time</th>\n",
       "      <th>day</th>\n",
       "      <th>category</th>\n",
       "      <th>title</th>\n",
       "      <th>original</th>\n",
       "      <th>clean</th>\n",
       "      <th>stemmed</th>\n",
       "    </tr>\n",
       "  </thead>\n",
       "  <tbody>\n",
       "    <tr>\n",
       "      <th>0</th>\n",
       "      <td>Adani Green's unit appeals against tax demand</td>\n",
       "      <td>Adani Green Energy's subsidiary Adani Energy h...</td>\n",
       "      <td>Mansi Agarwal</td>\n",
       "      <td>05:27 pm</td>\n",
       "      <td>Tuesday, 15 August, 2023</td>\n",
       "      <td>business</td>\n",
       "      <td>Adani Green's unit appeals against tax demand</td>\n",
       "      <td>Adani Green Energy's subsidiary Adani Energy h...</td>\n",
       "      <td>adani green energy's subsidiary adani energy f...</td>\n",
       "      <td>adani green energi 's subsidiari adani energi ...</td>\n",
       "    </tr>\n",
       "    <tr>\n",
       "      <th>1</th>\n",
       "      <td>EX-WSJ reporter ends Indian hacker lawsuit aga...</td>\n",
       "      <td>Former Wall Street Journal reporter Jay Solomo...</td>\n",
       "      <td>Srishty Choudhury</td>\n",
       "      <td>04:37 pm</td>\n",
       "      <td>Tuesday, 15 August, 2023</td>\n",
       "      <td>business</td>\n",
       "      <td>EX-WSJ reporter ends Indian hacker lawsuit aga...</td>\n",
       "      <td>Former Wall Street Journal reporter Jay Solomo...</td>\n",
       "      <td>former wall street journal reporter jay solomo...</td>\n",
       "      <td>former wall street journal report jay solomon ...</td>\n",
       "    </tr>\n",
       "    <tr>\n",
       "      <th>2</th>\n",
       "      <td>Fitch warns it may be forced to downgrade seve...</td>\n",
       "      <td>A Fitch Ratings' analyst warned that US banks,...</td>\n",
       "      <td>Srishty Choudhury</td>\n",
       "      <td>04:28 pm</td>\n",
       "      <td>Tuesday, 15 August, 2023</td>\n",
       "      <td>business</td>\n",
       "      <td>Fitch warns it may be forced to downgrade seve...</td>\n",
       "      <td>A Fitch Ratings' analyst warned that US banks,...</td>\n",
       "      <td>fitch ratings' analyst warned us banks includi...</td>\n",
       "      <td>fitch rate ' analyst warn us bank includ jpmor...</td>\n",
       "    </tr>\n",
       "    <tr>\n",
       "      <th>3</th>\n",
       "      <td>Govt hikes windfall tax on crude petroleum to ...</td>\n",
       "      <td>The government has hiked the windfall tax on d...</td>\n",
       "      <td>Mansi Agarwal</td>\n",
       "      <td>04:22 pm</td>\n",
       "      <td>Tuesday, 15 August, 2023</td>\n",
       "      <td>business</td>\n",
       "      <td>Govt hikes windfall tax on crude petroleum to ...</td>\n",
       "      <td>The government has hiked the windfall tax on d...</td>\n",
       "      <td>government hiked windfall tax domestically pro...</td>\n",
       "      <td>govern hike windfal tax domest produc crude pe...</td>\n",
       "    </tr>\n",
       "    <tr>\n",
       "      <th>4</th>\n",
       "      <td>VIP Industries MD Anindya Dutta resigns, CFO t...</td>\n",
       "      <td>VIP Industries on Tuesday announced that MD An...</td>\n",
       "      <td>Mansi Agarwal</td>\n",
       "      <td>03:54 pm</td>\n",
       "      <td>Tuesday, 15 August, 2023</td>\n",
       "      <td>business</td>\n",
       "      <td>VIP Industries MD Anindya Dutta resigns, CFO t...</td>\n",
       "      <td>VIP Industries on Tuesday announced that MD An...</td>\n",
       "      <td>vip industries tuesday announced md anindya du...</td>\n",
       "      <td>vip industri tuesday announc md anindya dutta ...</td>\n",
       "    </tr>\n",
       "    <tr>\n",
       "      <th>...</th>\n",
       "      <td>...</td>\n",
       "      <td>...</td>\n",
       "      <td>...</td>\n",
       "      <td>...</td>\n",
       "      <td>...</td>\n",
       "      <td>...</td>\n",
       "      <td>...</td>\n",
       "      <td>...</td>\n",
       "      <td>...</td>\n",
       "      <td>...</td>\n",
       "    </tr>\n",
       "    <tr>\n",
       "      <th>136</th>\n",
       "      <td>Seats filling fast for Extended Reality Certif...</td>\n",
       "      <td>Hero Vired in collaboration with Snapchat and ...</td>\n",
       "      <td>Roshan Gupta</td>\n",
       "      <td>04:30 am</td>\n",
       "      <td>Friday, 11 August, 2023</td>\n",
       "      <td>education</td>\n",
       "      <td>Seats filling fast for Extended Reality Certif...</td>\n",
       "      <td>Hero Vired in collaboration with Snapchat and ...</td>\n",
       "      <td>hero vired collaboration snapchat unreal engin...</td>\n",
       "      <td>hero vire collabor snapchat unreal engin launc...</td>\n",
       "    </tr>\n",
       "    <tr>\n",
       "      <th>137</th>\n",
       "      <td>Indians among 500 students stuck as Canada col...</td>\n",
       "      <td>At least 500 students, including Indians, are ...</td>\n",
       "      <td>Disha Jana</td>\n",
       "      <td>05:12 pm</td>\n",
       "      <td>Thursday, 10 August, 2023</td>\n",
       "      <td>education</td>\n",
       "      <td>Indians among 500 students stuck as Canada col...</td>\n",
       "      <td>At least 500 students, including Indians, are ...</td>\n",
       "      <td>least 500 students including indians stuck can...</td>\n",
       "      <td>least 500 student includ indian stuck canadian...</td>\n",
       "    </tr>\n",
       "    <tr>\n",
       "      <th>138</th>\n",
       "      <td>Want him to excel at what he chooses: Vendor w...</td>\n",
       "      <td>Sujal Singh, a Noida-based towel seller's son,...</td>\n",
       "      <td>Sakshita Khosla</td>\n",
       "      <td>03:23 pm</td>\n",
       "      <td>Thursday, 10 August, 2023</td>\n",
       "      <td>education</td>\n",
       "      <td>Want him to excel at what he chooses: Vendor w...</td>\n",
       "      <td>Sujal Singh, a Noida-based towel seller's son,...</td>\n",
       "      <td>sujal singh noidabased towel seller's son gave...</td>\n",
       "      <td>sujal singh noidabas towel seller 's son gave ...</td>\n",
       "    </tr>\n",
       "    <tr>\n",
       "      <th>139</th>\n",
       "      <td>IIM Amendment Bill passed by the Parliament</td>\n",
       "      <td>The Rajya Sabha on Tuesday passed the IIM (Ame...</td>\n",
       "      <td>Sakshita Khosla</td>\n",
       "      <td>12:24 pm</td>\n",
       "      <td>Tuesday, 8 August, 2023</td>\n",
       "      <td>education</td>\n",
       "      <td>IIM Amendment Bill passed by the Parliament</td>\n",
       "      <td>The Rajya Sabha on Tuesday passed the IIM (Ame...</td>\n",
       "      <td>rajya sabha tuesday passed iim amendment bill ...</td>\n",
       "      <td>rajya sabha tuesday pass iim amend bill 2023 p...</td>\n",
       "    </tr>\n",
       "    <tr>\n",
       "      <th>140</th>\n",
       "      <td>22-year-old student dies by suicide 12 days af...</td>\n",
       "      <td>A 22-year-old postgraduate student of the Indi...</td>\n",
       "      <td>Shalini Ojha</td>\n",
       "      <td>07:23 am</td>\n",
       "      <td>Tuesday, 8 August, 2023</td>\n",
       "      <td>education</td>\n",
       "      <td>22-year-old student dies by suicide 12 days af...</td>\n",
       "      <td>A 22-year-old postgraduate student of the Indi...</td>\n",
       "      <td>22yearold postgraduate student indian institut...</td>\n",
       "      <td>22yearold postgradu student indian institut te...</td>\n",
       "    </tr>\n",
       "  </tbody>\n",
       "</table>\n",
       "<p>141 rows × 10 columns</p>\n",
       "</div>"
      ],
      "text/plain": [
       "                                              headline  \\\n",
       "0        Adani Green's unit appeals against tax demand   \n",
       "1    EX-WSJ reporter ends Indian hacker lawsuit aga...   \n",
       "2    Fitch warns it may be forced to downgrade seve...   \n",
       "3    Govt hikes windfall tax on crude petroleum to ...   \n",
       "4    VIP Industries MD Anindya Dutta resigns, CFO t...   \n",
       "..                                                 ...   \n",
       "136  Seats filling fast for Extended Reality Certif...   \n",
       "137  Indians among 500 students stuck as Canada col...   \n",
       "138  Want him to excel at what he chooses: Vendor w...   \n",
       "139        IIM Amendment Bill passed by the Parliament   \n",
       "140  22-year-old student dies by suicide 12 days af...   \n",
       "\n",
       "                                               summary             author  \\\n",
       "0    Adani Green Energy's subsidiary Adani Energy h...      Mansi Agarwal   \n",
       "1    Former Wall Street Journal reporter Jay Solomo...  Srishty Choudhury   \n",
       "2    A Fitch Ratings' analyst warned that US banks,...  Srishty Choudhury   \n",
       "3    The government has hiked the windfall tax on d...      Mansi Agarwal   \n",
       "4    VIP Industries on Tuesday announced that MD An...      Mansi Agarwal   \n",
       "..                                                 ...                ...   \n",
       "136  Hero Vired in collaboration with Snapchat and ...       Roshan Gupta   \n",
       "137  At least 500 students, including Indians, are ...         Disha Jana   \n",
       "138  Sujal Singh, a Noida-based towel seller's son,...    Sakshita Khosla   \n",
       "139  The Rajya Sabha on Tuesday passed the IIM (Ame...    Sakshita Khosla   \n",
       "140  A 22-year-old postgraduate student of the Indi...       Shalini Ojha   \n",
       "\n",
       "          time                        day   category  \\\n",
       "0     05:27 pm   Tuesday, 15 August, 2023   business   \n",
       "1     04:37 pm   Tuesday, 15 August, 2023   business   \n",
       "2     04:28 pm   Tuesday, 15 August, 2023   business   \n",
       "3     04:22 pm   Tuesday, 15 August, 2023   business   \n",
       "4     03:54 pm   Tuesday, 15 August, 2023   business   \n",
       "..         ...                        ...        ...   \n",
       "136   04:30 am    Friday, 11 August, 2023  education   \n",
       "137   05:12 pm  Thursday, 10 August, 2023  education   \n",
       "138   03:23 pm  Thursday, 10 August, 2023  education   \n",
       "139   12:24 pm    Tuesday, 8 August, 2023  education   \n",
       "140   07:23 am    Tuesday, 8 August, 2023  education   \n",
       "\n",
       "                                                 title  \\\n",
       "0        Adani Green's unit appeals against tax demand   \n",
       "1    EX-WSJ reporter ends Indian hacker lawsuit aga...   \n",
       "2    Fitch warns it may be forced to downgrade seve...   \n",
       "3    Govt hikes windfall tax on crude petroleum to ...   \n",
       "4    VIP Industries MD Anindya Dutta resigns, CFO t...   \n",
       "..                                                 ...   \n",
       "136  Seats filling fast for Extended Reality Certif...   \n",
       "137  Indians among 500 students stuck as Canada col...   \n",
       "138  Want him to excel at what he chooses: Vendor w...   \n",
       "139        IIM Amendment Bill passed by the Parliament   \n",
       "140  22-year-old student dies by suicide 12 days af...   \n",
       "\n",
       "                                              original  \\\n",
       "0    Adani Green Energy's subsidiary Adani Energy h...   \n",
       "1    Former Wall Street Journal reporter Jay Solomo...   \n",
       "2    A Fitch Ratings' analyst warned that US banks,...   \n",
       "3    The government has hiked the windfall tax on d...   \n",
       "4    VIP Industries on Tuesday announced that MD An...   \n",
       "..                                                 ...   \n",
       "136  Hero Vired in collaboration with Snapchat and ...   \n",
       "137  At least 500 students, including Indians, are ...   \n",
       "138  Sujal Singh, a Noida-based towel seller's son,...   \n",
       "139  The Rajya Sabha on Tuesday passed the IIM (Ame...   \n",
       "140  A 22-year-old postgraduate student of the Indi...   \n",
       "\n",
       "                                                 clean  \\\n",
       "0    adani green energy's subsidiary adani energy f...   \n",
       "1    former wall street journal reporter jay solomo...   \n",
       "2    fitch ratings' analyst warned us banks includi...   \n",
       "3    government hiked windfall tax domestically pro...   \n",
       "4    vip industries tuesday announced md anindya du...   \n",
       "..                                                 ...   \n",
       "136  hero vired collaboration snapchat unreal engin...   \n",
       "137  least 500 students including indians stuck can...   \n",
       "138  sujal singh noidabased towel seller's son gave...   \n",
       "139  rajya sabha tuesday passed iim amendment bill ...   \n",
       "140  22yearold postgraduate student indian institut...   \n",
       "\n",
       "                                               stemmed  \n",
       "0    adani green energi 's subsidiari adani energi ...  \n",
       "1    former wall street journal report jay solomon ...  \n",
       "2    fitch rate ' analyst warn us bank includ jpmor...  \n",
       "3    govern hike windfal tax domest produc crude pe...  \n",
       "4    vip industri tuesday announc md anindya dutta ...  \n",
       "..                                                 ...  \n",
       "136  hero vire collabor snapchat unreal engin launc...  \n",
       "137  least 500 student includ indian stuck canadian...  \n",
       "138  sujal singh noidabas towel seller 's son gave ...  \n",
       "139  rajya sabha tuesday pass iim amend bill 2023 p...  \n",
       "140  22yearold postgradu student indian institut te...  \n",
       "\n",
       "[141 rows x 10 columns]"
      ]
     },
     "execution_count": 17,
     "metadata": {},
     "output_type": "execute_result"
    }
   ],
   "source": [
    "news_df['title'] = news_df['headline']\n",
    "news_df['original'] = news_df['summary']\n",
    "news_df['clean'] = news_df['original'].apply(basic_clean)\n",
    "news_df['clean'] = news_df['clean'].apply(remove_stopwords)\n",
    "news_df['stemmed'] = news_df['clean'].apply(stem)\n",
    "\n",
    "news_df"
   ]
  },
  {
   "cell_type": "markdown",
   "id": "3ea10b78-7bdc-4978-a4ec-7e2680b97356",
   "metadata": {},
   "source": [
    "## Ask yourself:"
   ]
  },
  {
   "cell_type": "markdown",
   "id": "37529706-3b22-4e26-9131-587e840418b4",
   "metadata": {},
   "source": [
    "## If your corpus is 493KB, would you prefer to use stemmed or lemmatized text?"
   ]
  },
  {
   "cell_type": "markdown",
   "id": "5dbce30b-4087-4335-95fe-5bef6542a5ac",
   "metadata": {},
   "source": [
    "#### Either would be fine with this low of a corpus"
   ]
  },
  {
   "cell_type": "markdown",
   "id": "2821549c-8e9b-45c2-ba68-421ae74e35d6",
   "metadata": {},
   "source": [
    "## If your corpus is 25MB, would you prefer to use stemmed or lemmatized text?"
   ]
  },
  {
   "cell_type": "markdown",
   "id": "3cc073a8-d112-4f14-bf6e-839c1a91d668",
   "metadata": {},
   "source": [
    "#### More than likely Lemmatization at that point"
   ]
  },
  {
   "cell_type": "markdown",
   "id": "ccfe4624-5140-46dd-a871-b02cd9f0a755",
   "metadata": {},
   "source": [
    "## If your corpus is 200TB of text and you're charged by the megabyte for your hosted computational resources, would you prefer to use stemmed or lemmatized text?"
   ]
  },
  {
   "cell_type": "markdown",
   "id": "7e97742f-65d4-4d2f-b78d-fd22837eaf5d",
   "metadata": {},
   "source": [
    "#### Lemmatization"
   ]
  }
 ],
 "metadata": {
  "kernelspec": {
   "display_name": "Python 3 (ipykernel)",
   "language": "python",
   "name": "python3"
  },
  "language_info": {
   "codemirror_mode": {
    "name": "ipython",
    "version": 3
   },
   "file_extension": ".py",
   "mimetype": "text/x-python",
   "name": "python",
   "nbconvert_exporter": "python",
   "pygments_lexer": "ipython3",
   "version": "3.10.9"
  }
 },
 "nbformat": 4,
 "nbformat_minor": 5
}
