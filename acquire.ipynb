{
 "cells": [
  {
   "cell_type": "code",
   "execution_count": 1,
   "id": "90706688-74a8-40fb-a778-eb35d95890ab",
   "metadata": {
    "tags": []
   },
   "outputs": [],
   "source": [
    "from bs4 import BeautifulSoup\n",
    "import requests\n",
    "import pandas as pd"
   ]
  },
  {
   "cell_type": "markdown",
   "id": "4fb4f025-a0ae-4313-b846-3681785c1978",
   "metadata": {},
   "source": [
    "# Codeup Blog Articles"
   ]
  },
  {
   "cell_type": "markdown",
   "id": "0cc6e1ce-56ec-493a-96a7-4217d3b36261",
   "metadata": {},
   "source": [
    "## Visit Codeup's Blog and record the urls for at least 5 distinct blog posts. For each post, you should scrape at least the post's title and content."
   ]
  },
  {
   "cell_type": "markdown",
   "id": "f1d530ae-5174-4476-bdd7-295706a10b76",
   "metadata": {},
   "source": [
    "- https://codeup.edu/featured/women-in-tech-panelist-spotlight/\n",
    "- https://codeup.edu/featured/women-in-tech-rachel-robbins-mayhill/\n",
    "- https://codeup.edu/codeup-news/women-in-tech-panelist-spotlight-sarah-mellor/\n",
    "- https://codeup.edu/events/women-in-tech-madeleine/\n",
    "- https://codeup.edu/codeup-news/panelist-spotlight-4/"
   ]
  },
  {
   "cell_type": "markdown",
   "id": "665a19f1-d405-408a-ac90-8b7cc8a040fa",
   "metadata": {},
   "source": [
    "## Encapsulate your work in a function named get_blog_articles that will return a list of dictionaries, with each dictionary representing one article. The shape of each dictionary should look like this:\n",
    "```\n",
    "\n",
    "{\n",
    "    'title': 'the title of the article',\n",
    "    'content': 'the full text content of the article'\n",
    "}\n",
    "```\n",
    "### Plus any additional properties you think might be helpful."
   ]
  },
  {
   "cell_type": "code",
   "execution_count": 2,
   "id": "1b8ecfcd-9a7b-4bd9-8a2e-edf6264e42b4",
   "metadata": {
    "tags": []
   },
   "outputs": [
    {
     "name": "stdout",
     "output_type": "stream",
     "text": [
      "Article 1\n",
      "{'title': 'How I Paid $43 For My Codeup Tuition', 'content': 'Nov 27, 2019 | Alumni Stories Bootcamps or career accelerator programs are short term education programs designed to help you learn new skills and find a job. If you are thinking about attending one, I will share some tips about finding a bootcamp, my story about how I chose to attend Codeup in San Antonio, TX and how I got funding to attend. My first tip is to spend at least a few months to a year researching the topic you want to study and the bootcamps available. There are tons of resources online to learn programming. I will provide a detailed table below of the courses I took, most of which are free. While you are learning the basics, start to learn about the bootcamps that teach this subject, read through bootcamp curriculum, take notes on tuition costs and start dates and note whether or not they provide scholarships. This first step is crucial for figuring out if this topic is something you are genuinely interested in. Secondly, when you start researching bootcamps, you will find that cost of tuition can be high. The best strategy is to look simultaneously look for funding and bootcamps. First look locally and seek out local and federal grants to attend based on being under-employed, unemployed or under-represented in the field (minorities). I was only able to find funding because I met with a local career training program which enabled me to access local and Department of Labor funds. If you don’t meet the criteria of being being under-employed, unemployed or under-represented in the field, then don’t worry! There are still other scholarships and loans out there. Warning!—only start to contact/call up the bootcamps when you are comfortable with your basic skills in programming (or whatever you are trying to learn) and when you are committed to attending. Bootcamp admissions will aggressively seek you out. They want you to attend their courses. You should have clear intentions about what you want to do, how much money you want to spend, and how good you are at programming. Just be honest with the people you speak to about your circumstances. This is a process so take your time. Often, if you get rejected from a bootcamp, you can still re-apply later. Lastly, there are almost always loan companies that specialize in loan for students of bootcamps. If the cost of tuition is still prohibitive, you can consider loans as your last option. In most cases, these loans can be repaid easily with the job you will (hopefully, most likely) get after you graduate. Some bootcamps offer refunds if you don’t get a job (with conditions) and others offer deferred tuition where you don’t pay anything until you get your first job. As for my experience, I learned about Data Science online and spent 10 months researching the subject and bootcamps. I took a slew of courses online to learn the basics, which I will share below. Then I started to apply to bootcamps. Ultimately, I was able to find Codeup in my hometown. I visited their campus and spoke with their admissions representative about funding. I loved that this school was in my hometown, so it was a practical choice for a full-time program. I also liked the instructors and admissions people that I met. The admissions person told me about their funding options and sent me to a local career training program, which informed me about local and federal grants that were not easily accessible online. Working with this local program was long and uncertain but I stuck with it. The real reasons I was able to get funding through them were because I had been under-employed for years, I had used up all my savings, I was living at home with family and I was unemployed at the time that I applied for the funding. In the end, I chose Codeup because I was able to find funding, it was in my hometown and I genuinely liked the people I met there, especially Maggie Giust, the Senior Data Scientist. I will share a table of the exact funding amounts that I got below. This will probably not be the norm. I got extremely lucky with my funding. All in all, this whole process is precarious, scary and hard. You should give yourself plenty of time to research and learn about the process, the bootcamps and the subject you are trying to study. If you need any advice, please feel free to contact me directly. And if this was helpful please send it along to anyone you think would benefit from it. https://www.switchup.org/ https://www.coursereport.com/best-coding-bootcamps Basic HTML and HTML5 and CSS,\\xa0FreeCodeCamp.org The Open Source Data Science Masters, Created by Clare Corthell,\\xa0http://datasciencemasters.org/ List of 5-Day Data Challenges, Kaggle,\\xa0https://www.kaggle.com/rtatman/list-of-5-day-challenges/ Siraj Raval, How-To Videos and Curriculum on Github and Youtube,\\xa0https://github.com/llSourcell/Learn_Data_Science_in_3_Months Codeup is proud to offer a variety of scholarships, grant and loan partners. To find out more information, visit our Financial Aid. Jesse Ruiz is a data scientist, designer, and artist. She was born in Seoul, South Korea and raised in Texas. She has degrees in philosophy and art from Barnard College and the University of Wisconsin – Madison and received training in data science at Codeup in San Antonio, TX. Connect with her on Linkedin or read more of her work here.     Submit your email address to gain access to more information about our programs, financial aid, and benefits. (210) 802–7289 Dallas | San Antonio © 2013-2022 Copyright. Privacy Policy | Complaint Policy | Inclusion | Accessibility | Sitemap If you love researching data and reading the fine print, you’ll do well in our programs. GI Bill® is a registered trademark of the U.S. Department of Veterans Affairs (VA). More information about education benefits offered by VA is available at the official U.S. government Web site at https://www.benefits.va.gov/gibill. Codeup is accredited for postsecondary, non-degree granting, career and technology programs by the Middle States Commission on Secondary Schools of the Middle States Association of Colleges and Schools, 3624 Market Street, Philadelphia, PA 19104, (267) 284-5000   '}\n",
      "\n",
      "Article 2\n",
      "{'title': 'Women in tech: Panelist Spotlight – Magdalena Rahn', 'content': 'Mar 28, 2023 | Events, Featured Codeup is hosting a Women in Tech Panel in honor of Women’s History Month on March 29th, 2023! To further celebrate, we’d like to spotlight each of our panelists leading up to the discussion to learn a bit about their respective experiences as women in the tech industry!  Meet Magdalena! Magdalena Rahn is a current Codeup student in a Data Science cohort in San Antonio, Texas. She has a professional background in cross-cultural communications, international business development, the wine industry and journalism. After serving in the US Navy, she decided to complement her professional skill set by attending the Data Science program at Codeup; she is set to graduate in March 2023. Magdalena is fluent in French, Bulgarian, Chinese-Mandarin, Spanish and Italian. We asked Magdalena how Codeup impacted her career, and she replied “Codeup has provided a solid foundation in analytical processes, programming and data science methods, and it’s been an encouragement to have such supportive instructors and wonderful classmates.” Don’t forget to tune in on March 29th to sit in on an insightful conversation with Magdalena.    Submit your email address to gain access to more information about our programs, financial aid, and benefits. (210) 802–7289 Dallas | San Antonio © 2013-2022 Copyright. Privacy Policy | Complaint Policy | Inclusion | Accessibility | Sitemap If you love researching data and reading the fine print, you’ll do well in our programs. GI Bill® is a registered trademark of the U.S. Department of Veterans Affairs (VA). More information about education benefits offered by VA is available at the official U.S. government Web site at https://www.benefits.va.gov/gibill. Codeup is accredited for postsecondary, non-degree granting, career and technology programs by the Middle States Commission on Secondary Schools of the Middle States Association of Colleges and Schools, 3624 Market Street, Philadelphia, PA 19104, (267) 284-5000   '}\n",
      "\n",
      "Article 3\n",
      "{'title': 'Women in tech: Panelist Spotlight – Rachel Robbins-Mayhill', 'content': 'Mar 20, 2023 | Events, Featured Codeup is hosting a Women in Tech Panel in honor of Women’s History Month on March 29th, 2023! To further celebrate, we’d like to spotlight each of our panelists leading up to the discussion to learn a bit about their respective experiences as women in the tech industry! Meet Rachel! Rachel Robbins-Mayhill is a Decision Science Analyst I in San Antonio, Texas. Rachel has had a varied career that includes counseling, teaching, training, community development, and military operations. Her focus has always been on assessing needs, identifying solutions, and educating individuals and groups on aligning needs and solutions in different contexts. Rachel’s passion for data science stems from her belief that data is a powerful tool for communicating patterns that can lead to hope and growth in the future. In June 2022, Rachel graduated from Codeup’s Innis cohort, where she honed her skills in data science. Shortly after, she started working as a Data Science Technical Writer with Apex Systems as a Contractor for USAA in July 2022. Her unconventional role allowed her to understand where her skills could be best utilized to support USAA in a non-contract role. Rachel recently joined USAA’s Data Science Delivery team as a Decision Science Analyst I in February 2023. The team is focused on delivering machine learning models for fraud prevention, and Rachel’s particular role centers around providing strategic process solutions for the team in collaboration with Operational and Model Risk components. In addition to her career, Rachel is currently pursuing a master’s degree in Applied Data Science from Syracuse University, further expanding her knowledge and skills in the field. Rachel is passionate about collaborating with individuals who share her belief in the potential of others and strive to achieve growth through logical, informed action. She welcomes LinkedIn connections and is excited about supporting the network of CodeUp alumni! We asked Rachel how Codeup impacted her career, and she replied “Codeup delivered a comprehensive education in all facets of the data science pipeline, laying a strong foundation for me to build upon. Through repeated hands-on practice, I developed a reliable process that was immediately applicable in my job. Collaborative group projects were instrumental in helping me hone my skills in project management, allowing me to navigate complex data science projects with comfortability. Thanks to this invaluable experience, I was able to make significant strides in my career within just six months of graduating from Codeup.” Don’t forget to tune in on March 29th to sit in on an insightful conversation.    Submit your email address to gain access to more information about our programs, financial aid, and benefits. (210) 802–7289 Dallas | San Antonio © 2013-2022 Copyright. Privacy Policy | Complaint Policy | Inclusion | Accessibility | Sitemap If you love researching data and reading the fine print, you’ll do well in our programs. GI Bill® is a registered trademark of the U.S. Department of Veterans Affairs (VA). More information about education benefits offered by VA is available at the official U.S. government Web site at https://www.benefits.va.gov/gibill. Codeup is accredited for postsecondary, non-degree granting, career and technology programs by the Middle States Commission on Secondary Schools of the Middle States Association of Colleges and Schools, 3624 Market Street, Philadelphia, PA 19104, (267) 284-5000   '}\n",
      "\n",
      "Article 4\n",
      "{'title': 'Women in Tech: Panelist Spotlight – Sarah Mellor', 'content': 'Mar 13, 2023 | Codeup News, Featured Codeup is hosting a Women in Tech Panel in honor of Women’s History Month on March 29th, 2023! To further celebrate, we’d like to spotlight each of our panelists leading up to the discussion to learn a bit about their respective experiences as women in the tech industry! Meet Sarah! Sarah Mellor currently works as the Director of People Operations. She joined Codeup four and a half years ago as an Admissions Manager. She went on to build out and lead the Marketing and Admissions team, while picking up People Ops tasks and projects here and there until moving over to lead the People Ops team two years ago. Prior to Codeup, she worked at education-focused non-profits in Washington, DC and Boulder, Colorado. She graduated from Wake Forest University. We asked Sarah how Codeup has impacted her career, and her response was “I have absolutely loved having the privilege to grow alongside Codeup. In my time here across multiple different roles and departments, I’ve seen a lot of change. The consistent things have always been the high quality of passionate and hardworking people I get to work with; the impactful mission we get to work on; and the inspiring students who trust us with their career change.” Don’t forget to tune in on March 29th to sit in on an insightful conversation.    Submit your email address to gain access to more information about our programs, financial aid, and benefits. (210) 802–7289 Dallas | San Antonio © 2013-2022 Copyright. Privacy Policy | Complaint Policy | Inclusion | Accessibility | Sitemap If you love researching data and reading the fine print, you’ll do well in our programs. GI Bill® is a registered trademark of the U.S. Department of Veterans Affairs (VA). More information about education benefits offered by VA is available at the official U.S. government Web site at https://www.benefits.va.gov/gibill. Codeup is accredited for postsecondary, non-degree granting, career and technology programs by the Middle States Commission on Secondary Schools of the Middle States Association of Colleges and Schools, 3624 Market Street, Philadelphia, PA 19104, (267) 284-5000   '}\n",
      "\n",
      "Article 5\n",
      "{'title': 'Women in Tech: Panelist Spotlight – Madeleine Capper', 'content': 'Mar 6, 2023 | Events, Featured Codeup is hosting a Women in Tech Panel in honor of Women’s History Month on March 29th, 2023! To further celebrate, we’d like to spotlight each of our panelists leading up to the discussion to learn a bit about their respective experiences as women in the tech industry! Meet Madeleine! Madeleine Capper is a Data Scientist in San Antonio, Texas. A long-standing San Antonio resident, she studied mathematics at the University of Texas San Antonio and has worked as a Data Scientist for Booz Allen Hamilton. Madeleine currently teaches Data Science at Codeup, where she works daily with burgeoning data professionals to help them actualize their career aspirations through technical education. Madeleine attended Codeup as a student in early 2019 as a pupil in the very first Codeup Data Science cohort. The program proved immediately effective and she was the first student to obtain a data career out of the program. After working at Booz Allen Hamilton, Madeleine’s passion for education in conjunction with her appreciation for Codeup’s capacity for transformative life change brought her back to the institution in an instructional capacity, where she has been teaching for two years. Don’t forget to tune in on March 29th to sit in on an insightful conversation.    Submit your email address to gain access to more information about our programs, financial aid, and benefits. (210) 802–7289 Dallas | San Antonio © 2013-2022 Copyright. Privacy Policy | Complaint Policy | Inclusion | Accessibility | Sitemap If you love researching data and reading the fine print, you’ll do well in our programs. GI Bill® is a registered trademark of the U.S. Department of Veterans Affairs (VA). More information about education benefits offered by VA is available at the official U.S. government Web site at https://www.benefits.va.gov/gibill. Codeup is accredited for postsecondary, non-degree granting, career and technology programs by the Middle States Commission on Secondary Schools of the Middle States Association of Colleges and Schools, 3624 Market Street, Philadelphia, PA 19104, (267) 284-5000   '}\n",
      "\n",
      "Article 6\n",
      "{'title': 'Black Excellence in Tech: Panelist Spotlight – Wilmarie De La Cruz Mejia', 'content': 'Feb 16, 2023 | Codeup News, Events, Featured  Codeup is hosting a Black Excellence in Tech Panel in honor of Black History Month on February 22, 2023! To further celebrate, we’d like to spotlight each of our panelists leading up to the discussion to learn a bit about their respective experiences as black leaders in the tech industry! Meet Wilmarie! Wilmarie De\\xa0La Cruz Mejia is a current Codeup student on the path to becoming a Full-Stack Web Developer at our Dallas, TX campus. Wilmarie is a veteran expanding her knowledge of programming languages and technologies on her journey with Codeup. We asked Wilmarie to share more about her experience at Codeup. She shares, “I was able to meet other people who were passionate about coding and be in a positive learning environment.” We hope you can join us on February 22nd to sit in on an insightful conversation with Wilmarie and all of our panelists!    Submit your email address to gain access to more information about our programs, financial aid, and benefits. (210) 802–7289 Dallas | San Antonio © 2013-2022 Copyright. Privacy Policy | Complaint Policy | Inclusion | Accessibility | Sitemap If you love researching data and reading the fine print, you’ll do well in our programs. GI Bill® is a registered trademark of the U.S. Department of Veterans Affairs (VA). More information about education benefits offered by VA is available at the official U.S. government Web site at https://www.benefits.va.gov/gibill. Codeup is accredited for postsecondary, non-degree granting, career and technology programs by the Middle States Commission on Secondary Schools of the Middle States Association of Colleges and Schools, 3624 Market Street, Philadelphia, PA 19104, (267) 284-5000   '}\n",
      "\n"
     ]
    }
   ],
   "source": [
    "def get_blog_articles(urls):\n",
    "    articles_data = []\n",
    "    \n",
    "    headers = {\n",
    "        'User-Agent': 'Mozilla/5.0 (Windows NT 10.0; Win64; x64) AppleWebKit/537.36 (KHTML, like Gecko) Chrome/58.0.3029.110 Safari/537.3'\n",
    "    }\n",
    "    \n",
    "    for url in urls:\n",
    "        response = requests.get(url, headers=headers)\n",
    "        soup = BeautifulSoup(response.content, 'html.parser')\n",
    "        \n",
    "        title = soup.find('h1').text.strip()\n",
    "        content = ' '.join([p.text.strip() for p in soup.find_all('p')])\n",
    "        \n",
    "        article = {\n",
    "            'title': title,\n",
    "            'content': content\n",
    "        }\n",
    "        articles_data.append(article)\n",
    "    \n",
    "    return articles_data\n",
    "\n",
    "urls_to_scrape = [\n",
    "    \"https://codeup.edu/alumni-stories/how-i-paid-43-for-my-codeup-tuition/\",\n",
    "    \"https://codeup.edu/featured/women-in-tech-panelist-spotlight/\",\n",
    "    \"https://codeup.edu/featured/women-in-tech-rachel-robbins-mayhill/\",\n",
    "    \"https://codeup.edu/codeup-news/women-in-tech-panelist-spotlight-sarah-mellor/\",\n",
    "    \"https://codeup.edu/events/women-in-tech-madeleine/\",\n",
    "    \"https://codeup.edu/codeup-news/panelist-spotlight-4/\",\n",
    "]\n",
    "\n",
    "\n",
    "articles_data = get_blog_articles(urls_to_scrape)\n",
    "\n",
    "for idx, article in enumerate(articles_data, start=1):\n",
    "    print(f\"Article {idx}\")\n",
    "    print(article)\n",
    "    print()\n"
   ]
  },
  {
   "cell_type": "markdown",
   "id": "86c76a06-d4a5-4f04-8ea5-0e357b995c77",
   "metadata": {},
   "source": [
    "# News Articles"
   ]
  },
  {
   "cell_type": "markdown",
   "id": "8a7e3cd1-b731-436c-889a-afc2be5ef569",
   "metadata": {},
   "source": [
    "## We will now be scraping text data from inshorts, a website that provides a brief overview of many different topics."
   ]
  },
  {
   "cell_type": "markdown",
   "id": "f714a170-0457-480e-8343-aa8d912b46c9",
   "metadata": {},
   "source": [
    "## Write a function that scrapes the news articles for the following topics:\n",
    "```\n",
    "Business\n",
    "Sports\n",
    "Technology\n",
    "Entertainment\n",
    "```"
   ]
  },
  {
   "cell_type": "code",
   "execution_count": 3,
   "id": "526beaf7-c741-466f-b4f3-40d7cfda99b3",
   "metadata": {
    "tags": []
   },
   "outputs": [
    {
     "name": "stdout",
     "output_type": "stream",
     "text": [
      "Article 1\n",
      "{'title': 'Nepal asks India for rice, sugar to avert possible food scarcity', 'content': 'Nepal government has requested India to facilitate the supply of paddy, rice and sugar as a precautionary measure to mitigate any possible food scarcity in the festive season—October and November. \"Nepal has requested India to provide one million tonnes of paddy, 100,000 tonnes of rice and 50,000 tonnes of sugar,\" Commerce and Supplies Ministry Joint Secretary Ram Chandra Tiwari said.', 'category': 'business'}\n",
      "Article 2\n",
      "{'title': 'Kohli demanded excellence, current team lacks ruthlessness: Sandhu', 'content': 'Ex-India cricketer Balwinder Singh Sandhu, who was part of India\\'s 1983 World Cup winning team, said Virat Kohli would demand excellence from players during his tenure. \"It appears the [current team] lacks the ruthlessness and aggression which earlier Indian teams had. At the heart of these two qualities was effective leadership,\" he added. \"Being ruthless...should be interval-less,\" he stated.', 'category': 'sports'}\n",
      "Article 3\n",
      "{'title': 'Scientists reconstruct Pink Floyd song from recorded brain waves', 'content': \"Researchers from the University of California, Berkeley, used brain waves of patients recorded during epilepsy surgery to recreate Pink Floyd's song 'Another Brick In The Wall, Part 1'. They used artificial intelligence (AI) techniques to decode the brain signals to reconstruct the song. This is the first time a song has been reconstructed from brain activity recordings, researchers said.\", 'category': 'technology'}\n",
      "Article 4\n",
      "{'title': \"Govt refutes report of Gadar 2 'VIP screening' for Prez, says 'it's a regular screening'\", 'content': 'Government has refuted report of an \"Exclusive VIP Screening\" of Sunny Deol\\'s \\'Gadar 2\\' for President Droupadi Murmu, adding, \"It is a regular screening that happens in Rashtrapati Bhavan.\" It said, \"President had not wished for any such special screening. [She] is not attending the screening.\" Reports earlier quoted director Anil Sharma expressing joy over the alleged screening request.', 'category': 'entertainment'}\n"
     ]
    }
   ],
   "source": [
    "def scrape_articles(urls):\n",
    "    articles_data = []\n",
    "    \n",
    "    headers = {\n",
    "        'User-Agent': 'Mozilla/5.0 (Windows NT 10.0; Win64; x64) AppleWebKit/537.36 (KHTML, like Gecko) Chrome/58.0.3029.110 Safari/537.3'\n",
    "    }\n",
    "    \n",
    "    for url in urls:\n",
    "        response = requests.get(url, headers=headers)\n",
    "        soup = BeautifulSoup(response.content, 'html.parser')\n",
    "        \n",
    "        \n",
    "        \n",
    "        title_element = soup.find('span', itemprop='headline')\n",
    "        if title_element:\n",
    "            title = title_element.text.strip()\n",
    "        else:\n",
    "            title = \"Title not found\"\n",
    "        content = soup.find(itemprop=\"articleBody\")\n",
    "        if content:\n",
    "            content = content.text.strip()\n",
    "        else:\n",
    "            content = \"Title not found\"\n",
    "        \n",
    "        category = url.split('/')[-1]\n",
    "        \n",
    "        article = {\n",
    "            'title': title,\n",
    "            'content': content,\n",
    "            'category': category\n",
    "            \n",
    "        }\n",
    "        articles_data.append(article)\n",
    "    \n",
    "    return articles_data\n",
    "\n",
    "urls_to_scrape = [\n",
    "    \"https://inshorts.com/en/read/business\",\n",
    "    \"https://inshorts.com/en/read/sports\",\n",
    "    \"https://inshorts.com/en/read/technology\",\n",
    "    \"https://inshorts.com/en/read/entertainment\",\n",
    "]\n",
    "\n",
    "\n",
    "articles_data = scrape_articles(urls_to_scrape)\n",
    "\n",
    "for idx, article in enumerate(articles_data, start=1):\n",
    "    print(f\"Article {idx}\")\n",
    "    print(article)\n",
    "    \n"
   ]
  },
  {
   "cell_type": "markdown",
   "id": "15f6070c-a601-4587-abbc-40a5e8db3606",
   "metadata": {
    "tags": []
   },
   "source": [
    "## The end product of this should be a function named get_news_articles that returns a list of dictionaries, where each dictionary has this shape:\n",
    "\n",
    "```\n",
    "{\n",
    "    'title': 'The article title',\n",
    "    'content': 'The article content',\n",
    "    'category': 'business' # for example\n",
    "}\n",
    "```\n",
    "### Hints:\n",
    "```\n",
    "Start by inspecting the website in your browser. Figure out which elements will be useful.\n",
    "Start by creating a function that handles a single article and produces a dictionary like the one above.\n",
    "```"
   ]
  },
  {
   "cell_type": "markdown",
   "id": "4c37d995-5155-40e6-be2f-2e2ae0ad7004",
   "metadata": {
    "tags": []
   },
   "source": [
    "# Next create a function that will find all the articles on a single page and call the function you created in the last step for every article on the page."
   ]
  },
  {
   "cell_type": "code",
   "execution_count": 4,
   "id": "ce33ff01-ccc6-4553-a383-17a16893e921",
   "metadata": {
    "tags": []
   },
   "outputs": [
    {
     "data": {
      "text/plain": [
       "<Response [200]>"
      ]
     },
     "execution_count": 4,
     "metadata": {},
     "output_type": "execute_result"
    }
   ],
   "source": [
    "url =\"https://inshorts.com/en/read/sports\"\n",
    "requests.get(url)\n"
   ]
  },
  {
   "cell_type": "code",
   "execution_count": 5,
   "id": "0bda9320-aeb9-44d5-8aa6-b5e05a408824",
   "metadata": {
    "tags": []
   },
   "outputs": [],
   "source": [
    "url = \"https://inshorts.com/en/read/sports\"\n",
    "\n",
    "response = requests.get(url)\n",
    "soup = BeautifulSoup(response.content, 'html.parser')\n",
    "\n",
    "articles = []\n",
    "\n",
    "article_cards = soup.find_all(itemtype = 'http://schema.org/NewsArticle')\n",
    "\n",
    "for card in article_cards:\n",
    "    headline = card.find('span', itemprop='headline').text\n",
    "    summary = card.find('div', itemprop='articleBody').text\n",
    "    category = url.split('/')[-1]\n",
    "    \n",
    "    articles.append({\n",
    "        'headline': headline,\n",
    "        'summary': summary,\n",
    "        'category': category,\n",
    "    })\n",
    "\n"
   ]
  },
  {
   "cell_type": "code",
   "execution_count": 6,
   "id": "582c26eb-8f9b-4021-aa55-8d1eeb35ead1",
   "metadata": {
    "tags": []
   },
   "outputs": [
    {
     "data": {
      "text/plain": [
       "[{'headline': 'Kohli demanded excellence, current team lacks ruthlessness: Sandhu',\n",
       "  'summary': 'Ex-India cricketer Balwinder Singh Sandhu, who was part of India\\'s 1983 World Cup winning team, said Virat Kohli would demand excellence from players during his tenure. \"It appears the [current team] lacks the ruthlessness and aggression which earlier Indian teams had. At the heart of these two qualities was effective leadership,\" he added. \"Being ruthless...should be interval-less,\" he stated.',\n",
       "  'category': 'sports'},\n",
       " {'headline': \"Dhawan doesn't get credit, he was missed in 2019 WC semi: Shastri\",\n",
       "  'summary': 'Ex-Team India head coach Ravi Shastri said batter Shikhar Dhawan doesn\\'t get the credit he deserves, adding that Dhawan was the missing man in the 2019 World Cup semi-final where India lost against New Zealand. \"A left-hander at the top of the order, as opposed to three right-handers, makes a huge difference when the ball is swinging,\" he stated.',\n",
       "  'category': 'sports'},\n",
       " {'headline': \"I guess he will get his British passport soon, jokes Ashwin on Pujara's county stint\",\n",
       "  'summary': 'Talking about Cheteshwar Pujara\\'s county cricket and one-day cricket stint in the UK, Ravichandran Ashwin said, \"Pujara is...going through an amazing run of form in the One-Day Cup.\" Ashwin added, \"I guess Pujara will get his British passport soon given the amount of time he is spending in England.\"',\n",
       "  'category': 'sports'},\n",
       " {'headline': \"Ravichandran Ashwin clarifies his 'Now everybody is a colleague' remark\",\n",
       "  'summary': 'Ravichandran Ashwin clarified his remark wherein he stated earlier all teammates used to be friends, but now everybody is a colleague. He stated, \"What I meant was...earlier, as...tours used to be long, there was more scope for friendship...but these days we\\'re constantly playing (different formats & teams).\" He added, \"When you\\'re playing for different teams...it\\'s very difficult to be friends.\"',\n",
       "  'category': 'sports'},\n",
       " {'headline': 'Marlon Samuels found guilty of breaching 4 counts of anti-corruption code',\n",
       "  'summary': 'Two-time T20 World Cup champion Marlon Samuels of West Indies has been found guilty of four offences under Emirates Cricket Board (ECB) Anti-Corruption Code following a hearing by an independent Anti-Corruption Tribunal. Samuels was charged by ICC in its capacity as Designated Anti-Corruption Official under ECB Code in September 2021. The charges relate to 2019 edition of Abu Dhabi T10.',\n",
       "  'category': 'sports'},\n",
       " {'headline': 'Withdraw it: Ex-PCB chief Mahmood on PCB video not including Imran',\n",
       "  'summary': 'Ex-Pakistan Cricket Board (PCB) chief Khalid Mahmood said the tribute video shared by PCB which doesn\\'t feature Pakistan\\'s 1992 World Cup-winning captain Imran Khan should be \"withdrawn immediately\". \"We should look at ourselves as to what we\\'re doing with our heroes...[Political differences] don\\'t mean you can ignore his role in bringing laurels to Pakistan as a player,\" he added.',\n",
       "  'category': 'sports'},\n",
       " {'headline': '2 yrs since Kohli’s ‘Eng must feel hell’ speech before Lord’s win',\n",
       "  'summary': 'Virat Kohli was heard saying, \"If I see someone laughing, then see. For 60 overs, England should feel like hell\" in a team huddle, before England\\'s second innings in their 2021 Lord\\'s Test. India dismissed England for 120 in 51.5 overs following Kohli\\'s speech and won the Test by 151 runs. August 16, 2021 marks two years since India\\'s triumph.',\n",
       "  'category': 'sports'},\n",
       " {'headline': 'Bumrah like we have always known him: BCCI on video of him bowling bouncer, yorker',\n",
       "  'summary': 'The BCCI took to social media to share a video of Jasprit Bumrah bowling bouncer and yorker in nets ahead of the T20I series against Ireland. \"The moment we have all been waiting for. @Jaspritbumrah93 like we have always known him,\" the BCCI captioned the post. The T20I series will begin on August 18.',\n",
       "  'category': 'sports'},\n",
       " {'headline': \"British Olympic swimmer Helen Smart dies 'suddenly' aged 42\",\n",
       "  'summary': \"British Olympic swimmer Helen Smart passed away 'suddenly' at the age of 42, the chair of governors of Worsley Mesnes Community Primary School, Alison Halliwell, announced. Helen had been working at the school in Wigan as headteacher after retiring from swimming. Smart represented Great Britain at 2000 Sydney Olympic Games and won bronze at Kuala Lumpur Commonwealth Games in 1998.\",\n",
       "  'category': 'sports'},\n",
       " {'headline': 'You tried rushing Bumrah thrice, he sat out for 14 months: Shastri',\n",
       "  'summary': 'Talking about Team India pacer Jasprit Bumrah who was sidelined for around a year due to a back injury, ex-Team India head coach Ravi Shastri said, \"You [tried] to rush with Bumrah.\" \"Not once, not twice, three times, I mean and he\\'s been sitting out for 14 months now,\" added Shastri. \"Injuries happen. You have to be careful,\" he stated.',\n",
       "  'category': 'sports'}]"
      ]
     },
     "execution_count": 6,
     "metadata": {},
     "output_type": "execute_result"
    }
   ],
   "source": [
    "articles"
   ]
  },
  {
   "cell_type": "code",
   "execution_count": 7,
   "id": "2911df6d-2206-4fad-abcc-0f2bb1aa086d",
   "metadata": {
    "tags": []
   },
   "outputs": [
    {
     "name": "stdout",
     "output_type": "stream",
     "text": [
      "Articles from: https://inshorts.com/en/read/business\n",
      "Headline: Nepal asks India for rice, sugar to avert possible food scarcity\n",
      "Summary: Nepal government has requested India to facilitate the supply of paddy, rice and sugar as a precautionary measure to mitigate any possible food scarcity in the festive season—October and November. \"Nepal has requested India to provide one million tonnes of paddy, 100,000 tonnes of rice and 50,000 tonnes of sugar,\" Commerce and Supplies Ministry Joint Secretary Ram Chandra Tiwari said.\n",
      "==============================\n",
      "Headline: GQG Partners buys 8.1% stake in Adani Power for $1.1 bn: Report\n",
      "Summary: Investment firm GQG Partners bought an 8.1% stake in Adani Power for $1.1 billion via block deals on Wednesday, Reuters cited a source as saying. Multiple GQG funds bought around 152.1 million shares, BSE data showed, from Worldwide Emerging Market Holding and Afro Asia Trade and Investments. The investment comes days after Deloitte quit as auditor for Adani Ports.\n",
      "==============================\n",
      "Headline: USDA cuts rice trade forecast for 2023, 2024 post India export ban\n",
      "Summary: US Department of Agriculture (USDA) lowered the global rice trade forecast for calendar years 2023 and 2024 following India's ban on exports of non-basmati white rice. Trade estimate has been lowered by two million tonnes for 2023 and by 3.44 million tonnes for 2024. India accounts for over 40% of global rice exports, which was 56 million tonnes in 2022. \n",
      "==============================\n",
      "Headline: Hyundai to buy General Motors' Talegaon plant in Maharashtra\n",
      "Summary: Hyundai Motor India signed an asset purchase agreement to buy Talegaon plant of General Motors' India unit in Maharashtra to boost production. The buyout is expected to increase Hyundai's annual production capacity to 10 lakh units, which was recently scaled up to 8.2 lakh. \"We intend to create an advanced manufacturing centre for cars Made-in-India,\" Hyundai Motor India MD said.\n",
      "==============================\n",
      "Headline: Nifty50 firms chiefs' average remuneration drops by 25% in FY23\n",
      "Summary: Combined remuneration for the heads of the Nifty50 companies fell about 25% to ₹1,066 crore in FY23 as technology and promoter-led companies cut down employee expenses, CNBC-TV18 reported. A ₹350 crore reduction in overall compensation of Nifty companies also brought down CEOs' average remuneration to ₹21.3 crore in FY23 against ₹28.3 crore in FY22, data compiled from annual reports showed.\n",
      "==============================\n",
      "Headline: H&M probes labour abuses at Myanmar garment factories: Report\n",
      "Summary: H&M is investigating 20 alleged instances of labour abuse at Myanmar garment factories, Reuters reported. A British human rights advocacy group tracked 156 cases of alleged worker abuses in Myanmar garment factories from February 2022 to February 2023. Wage reduction and wage theft were the most frequently reported allegations, followed by unfair dismissal, inhumane work rates and forced overtime.\n",
      "==============================\n",
      "Headline: Irish bank glitch lets people with no money withdraw up to ₹90,000\n",
      "Summary: A glitch in Bank of Ireland's app allowed customers with low balances or no money in accounts to transfer up to €1,000 (around ₹90,000) into a linked account with a digital banking app, that could be withdrawn via ATMs. Several people rushed to the ATMs following the glitch. The bank warned the withdrawn money would be debited from their accounts.\n",
      "==============================\n",
      "Headline: Union Cabinet approves ₹32,500 crore for seven railway projects\n",
      "Summary: Union Cabinet approved a ₹32,500-crore budget for seven railway projects, estimated to add 2,339 km to the existing network of Indian Railways, Union Minister Ashwini Vaishnaw said. The projects will help increase existing line capacity, smoothen train operations and reduce congestion, he added. Uttar Pradesh, Bihar, Telangana, Gujarat, Odisha and West Bengal are set to benefit from the projects.\n",
      "==============================\n",
      "Headline: Netherlands slips into recession        \n",
      "Summary: The Dutch economy has entered a recession as it shrank 0.3% on a quarterly basis in the second quarter, a first estimate published by Statistics Netherlands showed on Wednesday. The euro zone's fifth-largest economy shrank for the second consecutive quarter, after a 0.4% contraction in the first three months of the year.\n",
      "==============================\n",
      "Headline: Cardamom prices nearly double over low rainfall in Kerala: Report\n",
      "Summary: Cardamom prices are rising rapidly due to 30-50% less rainfall in Kerala's Idukki, where most of India's cardamom production takes place, Moneycontrol reported. The average price has doubled to around ₹2,000/kg from couple of months ago, while the maximum price for premium cardamom has risen to about ₹3,000/kg. Cardamom's average price had risen to ₹4,000/kg in 2019.\n",
      "==============================\n",
      "Articles from: https://inshorts.com/en/read/sports\n",
      "Headline: Kohli demanded excellence, current team lacks ruthlessness: Sandhu\n",
      "Summary: Ex-India cricketer Balwinder Singh Sandhu, who was part of India's 1983 World Cup winning team, said Virat Kohli would demand excellence from players during his tenure. \"It appears the [current team] lacks the ruthlessness and aggression which earlier Indian teams had. At the heart of these two qualities was effective leadership,\" he added. \"Being ruthless...should be interval-less,\" he stated.\n",
      "==============================\n",
      "Headline: Dhawan doesn't get credit, he was missed in 2019 WC semi: Shastri\n",
      "Summary: Ex-Team India head coach Ravi Shastri said batter Shikhar Dhawan doesn't get the credit he deserves, adding that Dhawan was the missing man in the 2019 World Cup semi-final where India lost against New Zealand. \"A left-hander at the top of the order, as opposed to three right-handers, makes a huge difference when the ball is swinging,\" he stated.\n",
      "==============================\n",
      "Headline: I guess he will get his British passport soon, jokes Ashwin on Pujara's county stint\n",
      "Summary: Talking about Cheteshwar Pujara's county cricket and one-day cricket stint in the UK, Ravichandran Ashwin said, \"Pujara is...going through an amazing run of form in the One-Day Cup.\" Ashwin added, \"I guess Pujara will get his British passport soon given the amount of time he is spending in England.\"\n",
      "==============================\n",
      "Headline: Ravichandran Ashwin clarifies his 'Now everybody is a colleague' remark\n",
      "Summary: Ravichandran Ashwin clarified his remark wherein he stated earlier all teammates used to be friends, but now everybody is a colleague. He stated, \"What I meant was...earlier, as...tours used to be long, there was more scope for friendship...but these days we're constantly playing (different formats & teams).\" He added, \"When you're playing for different teams...it's very difficult to be friends.\"\n",
      "==============================\n",
      "Headline: Marlon Samuels found guilty of breaching 4 counts of anti-corruption code\n",
      "Summary: Two-time T20 World Cup champion Marlon Samuels of West Indies has been found guilty of four offences under Emirates Cricket Board (ECB) Anti-Corruption Code following a hearing by an independent Anti-Corruption Tribunal. Samuels was charged by ICC in its capacity as Designated Anti-Corruption Official under ECB Code in September 2021. The charges relate to 2019 edition of Abu Dhabi T10.\n",
      "==============================\n",
      "Headline: Withdraw it: Ex-PCB chief Mahmood on PCB video not including Imran\n",
      "Summary: Ex-Pakistan Cricket Board (PCB) chief Khalid Mahmood said the tribute video shared by PCB which doesn't feature Pakistan's 1992 World Cup-winning captain Imran Khan should be \"withdrawn immediately\". \"We should look at ourselves as to what we're doing with our heroes...[Political differences] don't mean you can ignore his role in bringing laurels to Pakistan as a player,\" he added.\n",
      "==============================\n",
      "Headline: 2 yrs since Kohli’s ‘Eng must feel hell’ speech before Lord’s win\n",
      "Summary: Virat Kohli was heard saying, \"If I see someone laughing, then see. For 60 overs, England should feel like hell\" in a team huddle, before England's second innings in their 2021 Lord's Test. India dismissed England for 120 in 51.5 overs following Kohli's speech and won the Test by 151 runs. August 16, 2021 marks two years since India's triumph.\n",
      "==============================\n",
      "Headline: Bumrah like we have always known him: BCCI on video of him bowling bouncer, yorker\n",
      "Summary: The BCCI took to social media to share a video of Jasprit Bumrah bowling bouncer and yorker in nets ahead of the T20I series against Ireland. \"The moment we have all been waiting for. @Jaspritbumrah93 like we have always known him,\" the BCCI captioned the post. The T20I series will begin on August 18.\n",
      "==============================\n",
      "Headline: British Olympic swimmer Helen Smart dies 'suddenly' aged 42\n",
      "Summary: British Olympic swimmer Helen Smart passed away 'suddenly' at the age of 42, the chair of governors of Worsley Mesnes Community Primary School, Alison Halliwell, announced. Helen had been working at the school in Wigan as headteacher after retiring from swimming. Smart represented Great Britain at 2000 Sydney Olympic Games and won bronze at Kuala Lumpur Commonwealth Games in 1998.\n",
      "==============================\n",
      "Headline: You tried rushing Bumrah thrice, he sat out for 14 months: Shastri\n",
      "Summary: Talking about Team India pacer Jasprit Bumrah who was sidelined for around a year due to a back injury, ex-Team India head coach Ravi Shastri said, \"You [tried] to rush with Bumrah.\" \"Not once, not twice, three times, I mean and he's been sitting out for 14 months now,\" added Shastri. \"Injuries happen. You have to be careful,\" he stated.\n",
      "==============================\n",
      "Articles from: https://inshorts.com/en/read/technology\n",
      "Headline: Scientists reconstruct Pink Floyd song from recorded brain waves\n",
      "Summary: Researchers from the University of California, Berkeley, used brain waves of patients recorded during epilepsy surgery to recreate Pink Floyd's song 'Another Brick In The Wall, Part 1'. They used artificial intelligence (AI) techniques to decode the brain signals to reconstruct the song. This is the first time a song has been reconstructed from brain activity recordings, researchers said.\n",
      "==============================\n",
      "Headline: Russia's Luna-25 spacecraft enters lunar orbit: Roscosmos\n",
      "Summary: Russia's lunar spacecraft entered the Moon's orbit on Wednesday, Russia's space corporate Roscosmos said. Luna-25 will circle the Moon, the Earth's only natural satellite, for around five days, then change course for a soft landing on the lunar south pole planned for August 21. The Luna-25 will aim to operate for a year on the south pole.\n",
      "==============================\n",
      "Headline: Aditya-L1 to study the Sun's atmosphere, space climate: ISRO chief\n",
      "Summary: The Indian Space Research Organisation (ISRO) is launching its first solar mission Aditya-L1 to study the Sun. ISRO Chairman S Somanath said that the Aditya-L1 will be able to study the Sun's atmosphere, magnetic fields and space climate impacts. The mission will be placed in a halo orbit around Lagrange point 1, which is about 1.5 million kilometres from Earth.\n",
      "\n",
      "==============================\n",
      "Headline: Cabinet extends Digital India program with ₹14,903 crore outlay\n",
      "Summary: The Cabinet has extended Digital India program with additional outlay of ₹14,903 crore, IT Minister Ashwini Vaishnaw said. The program will now include upskilling and reskilling of 5.25 lakh IT professionals, training of nearly 2.65 lakh people on information security and increasing government services on UMANG app from 1,700 to 2,240. Nine supercomputers will also be added under the program.\n",
      "==============================\n",
      "Headline: TweetDeck now called XPro, goes behind paywall; to cost ₹6,800/yr\n",
      "Summary: XPro, earlier called TweetDeck, has been put behind a paywall by X (formerly known as Twitter). On Tuesday, several users who tried logging in to use XPro got a message that said, \"Blue subscribers with a verified phone number will get a blue checkmark once approved.\" The message showed that the annual XPro subscription is now for ₹6,800/year. \n",
      "==============================\n",
      "Headline: Heartening: MoS Science on Chandrayaan-3 finishing lunar manoeuvre\n",
      "Summary: After ISRO said it had successfully carried out final orbit reduction manoeuvre of Chandrayaan-3, MoS Science Jitendra Singh called it \"heartening\". \"This mission is going to achieve a number of firsts...When Chandrayaan-3 goes around [on] recce the south polar area...it might be possible that we might be able to achieve some more evidence of the presence of water,\" he added.\n",
      "==============================\n",
      "Headline: Why is Apple paying $500 million to select iPhone users?\n",
      "Summary: Apple will start paying $500 million ($65 each) to select iPhone users to settle 'batterygate' class action lawsuit filed against the company in the US. Apple admitted iOS software slowed down older iPhones. Qualifying devices include iPhone 6 lineup and iPhone SE running iOS 10.2.1 or later and iPhone 7, 7 Plus running iOS 11.2 or later before December 2017.\n",
      "==============================\n",
      "Headline: Tech has progressed faster in India compared to US: Intel's Sandra\n",
      "Summary: Intel's Executive Vice President and General Manager for the Data Center and AI Group Sandra Rivera said that technology has progressed faster in India compared to the US and Israel. \"India has learned from the experiences of more mature markets and skipped over generations of technology that is not at the leading edge,\" she said.\n",
      "==============================\n",
      "Headline: 17 & 18-year-olds accused of hacking Nvidia, broadband provider BT\n",
      "Summary: A 17 and an 18-year-old are accused of being \"key players\" in Lapsus$, which hacked servers and data files of broadband provider BT and mobile operator EE before demanding $4-million ransom in 2021. The 18-year-old, Arion Kurtaj, is also accused of targeting Uber and Rockstar Games, developer of Grand Theft Auto series. The duo is also accused of hacking Nvidia.\n",
      "==============================\n",
      "Headline: Intel calls off $5.4 billion purchase of Tower Semiconductor\n",
      "Summary: Intel and Israeli contract chipmaker Tower Semiconductor's proposed $5.4 billion deal has been mutually terminated as they were unable to get timely regulatory approvals, the companies said on Wednesday. Intel will pay a termination fee of $353 million to Tower. Earlier, Reuters reported that Intel would drop the deal once their contract expired without regulatory approval from China.\n",
      "==============================\n",
      "Articles from: https://inshorts.com/en/read/entertainment\n",
      "Headline: Govt refutes report of Gadar 2 'VIP screening' for Prez, says 'it's a regular screening'\n",
      "Summary: Government has refuted report of an \"Exclusive VIP Screening\" of Sunny Deol's 'Gadar 2' for President Droupadi Murmu, adding, \"It is a regular screening that happens in Rashtrapati Bhavan.\" It said, \"President had not wished for any such special screening. [She] is not attending the screening.\" Reports earlier quoted director Anil Sharma expressing joy over the alleged screening request.\n",
      "==============================\n",
      "Headline: Salman Khan once called me a fat cow, said 'even I wouldn't give you work': Rohit Roy\n",
      "Summary: Speaking with Siddharth Kannan, Rohit Roy recalled a phase when he was frustrated with the kind of work he was doing. Rohit, who has known Salman Khan since he was 15, shared, \"I had put on...weight...I told Salman...I'm not happy...He...said 'you look like a fat cow, even I wouldn't give you...work'.\" Rohit said this led to his \"physical metamorphosis\".\n",
      "==============================\n",
      "Headline: Was offered Sidharth Shukla's season of Bigg Boss: Rapper Emiway\n",
      "Summary: Rapper Emiway Bantai shared he was offered 'Bigg Boss' three times as a contestant. \"I was even offered [the season] when Sidharth Shukla and Asim Riaz were part of it. My manager asked...if I wanted to go...I said I don't want to go there as...contestant,\" Emiway revealed. He added, \"Being a contestant isn't my zone. I like being private.\"\n",
      "==============================\n",
      "Headline: Ranbir Kapoor buys Range Rover car worth ₹4 crore, pics surface\n",
      "Summary: Actor Ranbir Kapoor has bought a new Range Rover car worth ₹4 crore. Visuals shared on social media showed the actor arriving at his home right after puja with garlands on his car. Apart from this car, Ranbir also owns a Land Rover Range Rover Sport, Audi A8 L, Mercedes Benz AMG G 63, among others.\n",
      "\n",
      "\n",
      "==============================\n",
      "Headline: SRK reacts to Gauri's post on Suhana, says she's 'so articulate'\n",
      "Summary: Shah Rukh Khan, reacting to Gauri Khan's post on Suhana Khan, spoke about how \"circle of life is closing in for [them] with [their] babies helping [them] complete it\". \"You've done so well with the three of them. Educated them, taught them dignity & desire to share love...Suhana is so articulate but the dimple is mine,\" he wrote on X. \n",
      "==============================\n",
      "Headline: Can be my authentic self with him: Alia on Ranbir amid backlash\n",
      "Summary: Actress Alia Bhatt, during an Ask Me Anything session on Instagram, called Ranbir Kapoor her \"happy place\". \"I can be my...authentic self with him,\" she wrote. This response arrived after Alia said in an interview with Vogue India that Ranbir asks her to \"wipe off\" lipstick, a remark which was called out as \"misogynistic\" by some social media users. \n",
      "==============================\n",
      "Headline: Alia talks about 'toxicity' amid criticism against Ranbir over 'lipstick' remark\n",
      "Summary: Alia Bhatt talked about \"toxicity and criticism\" hours after her actor-husband Ranbir Kapoor was criticised by people after she said in a Vogue video that he used to ask her to \"wipe off\" her lipstick before going on dates. \"Constructive criticism is...best...way to grow...Cultivate a life so full of love and gratitude that toxicity wouldn't even reach you,\" she wrote.\n",
      "==============================\n",
      "Headline: Was 18, it was my homecoming as Miss Universe: Sushmita on old pic\n",
      "Summary: Sushmita Sen, reacting to an old picture, recalled how it was taken after she returned to India post winning Miss Universe 1994. \"This is my homecoming as Miss Universe...I had an Indian flag...It's a memory that I'm always going to hold. I [was] 18,\" she shared. On a picture with Mahesh Bhatt, Sushmita said she owes her career to him. \n",
      "\n",
      "==============================\n",
      "Headline: Angelina Jolie hires 15-year-old daughter Vivienne as her assistant\n",
      "Summary: Angelina Jolie has hired her 15-year-old daughter, Vivienne Jolie-Pitt, as her assistant for the musical adaptation of SE Hinton's 'The Outsiders' on Broadway, said Page Six. \"She's very thoughtful and serious about theatre and working hard to best understand how to contribute,\" the actress told the publication. This will mark the first time the mother-daughter duo will be working together.\n",
      "==============================\n",
      "Headline: Jacqueliene Fernandez allowed to travel abroad without prior permission from court\n",
      "Summary: A Delhi court modified Jacqueliene Fernandez's bail conditions allowing her to travel abroad without taking prior permission from court in connection with the ₹200 crore money laundering case. The court ruled that in order to grab professional opportunities, she requires to leave the country with short notice as her profession is an actress and she has to travel abroad frequently.\n",
      "==============================\n"
     ]
    }
   ],
   "source": [
    "def scrape_inshorts_articles(urls):\n",
    "    for url in urls:\n",
    "        response = requests.get(url)\n",
    "        soup = BeautifulSoup(response.content, 'html.parser')\n",
    "\n",
    "        articles = []\n",
    "\n",
    "        article_cards = soup.find_all(itemtype='http://schema.org/NewsArticle')\n",
    "\n",
    "        for card in article_cards:\n",
    "            headline = card.find('span', itemprop='headline').text\n",
    "            summary = card.find('div', itemprop='articleBody').text\n",
    "            category = url.split('/')[-1]\n",
    "            \n",
    "            articles.append({\n",
    "                'headline': headline,\n",
    "                'summary': summary,\n",
    "                'category': category,\n",
    "            })\n",
    "\n",
    "        print(\"Articles from:\", url)\n",
    "        for article in articles:\n",
    "            print(\"Headline:\", article['headline'])\n",
    "            print(\"Summary:\", article['summary'])\n",
    "            print(\"=\"*30)\n",
    "\n",
    "if __name__ == \"__main__\":\n",
    "    urls = [\n",
    "        \"https://inshorts.com/en/read/business\",\n",
    "        \"https://inshorts.com/en/read/sports\",\n",
    "        \"https://inshorts.com/en/read/technology\",\n",
    "        \"https://inshorts.com/en/read/entertainment\"\n",
    "    ]\n",
    "    scrape_inshorts_articles(urls)\n"
   ]
  },
  {
   "cell_type": "markdown",
   "id": "046f48c4-4c61-43ed-95f2-6ffa1f895950",
   "metadata": {
    "tags": []
   },
   "source": [
    "# Now create a function that will use the previous two functions to scrape the articles from all the pages that you need, and do any additional processing that needs to be done.\n",
    "### Bonus: cache the data"
   ]
  },
  {
   "cell_type": "code",
   "execution_count": 10,
   "id": "50cc287a-ee20-46d2-8506-9b5b444b6d57",
   "metadata": {
    "tags": []
   },
   "outputs": [],
   "source": [
    "def scrape_inshorts_articles(urls):\n",
    "    articles = []\n",
    "\n",
    "    for url in urls:\n",
    "        response = requests.get(url)\n",
    "        soup = BeautifulSoup(response.content, 'html.parser')\n",
    "\n",
    "        article_cards = soup.find_all(itemtype='http://schema.org/NewsArticle')\n",
    "\n",
    "        for card in article_cards:\n",
    "            headline = card.find('span', itemprop='headline').text\n",
    "            summary = card.find('div', itemprop='articleBody').text\n",
    "            category = url.split('/')[-1]\n",
    "\n",
    "            articles.append({\n",
    "                'headline': headline,\n",
    "                'summary': summary,\n",
    "                'category': category\n",
    "            })\n",
    "\n",
    "    df = pd.DataFrame(articles)\n",
    "    return df\n",
    "\n",
    "\n",
    "base_url = \"https://inshorts.com/en/read/\"\n",
    "pages = [\n",
    "    \"business\",\n",
    "    \"sports\",\n",
    "    \"technology\",\n",
    "    \"entertainment\",\n",
    "    \"india\",\n",
    "    \"politics\",\n",
    "    \"startups\",\n",
    "    \"hatke\",\n",
    "    \"international\",\n",
    "    \"automobile\",\n",
    "    \"science\",\n",
    "    \"travel\",\n",
    "    \"miscellaneous\",\n",
    "    \"fashion\",\n",
    "    \"education\",    \n",
    "]      \n",
    "urls = [base_url + page for page in pages]\n",
    "result_df = scrape_inshorts_articles(urls)\n",
    "\n"
   ]
  },
  {
   "cell_type": "code",
   "execution_count": 11,
   "id": "a2245553-b077-419c-ae64-4df6769fb1b6",
   "metadata": {
    "tags": []
   },
   "outputs": [
    {
     "data": {
      "text/html": [
       "<div>\n",
       "<style scoped>\n",
       "    .dataframe tbody tr th:only-of-type {\n",
       "        vertical-align: middle;\n",
       "    }\n",
       "\n",
       "    .dataframe tbody tr th {\n",
       "        vertical-align: top;\n",
       "    }\n",
       "\n",
       "    .dataframe thead th {\n",
       "        text-align: right;\n",
       "    }\n",
       "</style>\n",
       "<table border=\"1\" class=\"dataframe\">\n",
       "  <thead>\n",
       "    <tr style=\"text-align: right;\">\n",
       "      <th></th>\n",
       "      <th>headline</th>\n",
       "      <th>summary</th>\n",
       "      <th>category</th>\n",
       "    </tr>\n",
       "  </thead>\n",
       "  <tbody>\n",
       "    <tr>\n",
       "      <th>0</th>\n",
       "      <td>Antfin transfers 10.3% stake to Paytm chief Vi...</td>\n",
       "      <td>Antfin (Netherlands) Holding BV has transferre...</td>\n",
       "      <td>business</td>\n",
       "    </tr>\n",
       "    <tr>\n",
       "      <th>1</th>\n",
       "      <td>Nepal asks India for rice, sugar to avert poss...</td>\n",
       "      <td>Nepal government has requested India to facili...</td>\n",
       "      <td>business</td>\n",
       "    </tr>\n",
       "    <tr>\n",
       "      <th>2</th>\n",
       "      <td>GQG Partners buys 8.1% stake in Adani Power fo...</td>\n",
       "      <td>Investment firm GQG Partners bought an 8.1% st...</td>\n",
       "      <td>business</td>\n",
       "    </tr>\n",
       "    <tr>\n",
       "      <th>3</th>\n",
       "      <td>USDA cuts rice trade forecast for 2023, 2024 p...</td>\n",
       "      <td>US Department of Agriculture (USDA) lowered th...</td>\n",
       "      <td>business</td>\n",
       "    </tr>\n",
       "    <tr>\n",
       "      <th>4</th>\n",
       "      <td>Hyundai to buy General Motors' Talegaon plant ...</td>\n",
       "      <td>Hyundai Motor India signed an asset purchase a...</td>\n",
       "      <td>business</td>\n",
       "    </tr>\n",
       "    <tr>\n",
       "      <th>...</th>\n",
       "      <td>...</td>\n",
       "      <td>...</td>\n",
       "      <td>...</td>\n",
       "    </tr>\n",
       "    <tr>\n",
       "      <th>137</th>\n",
       "      <td>Ex-student arrested after 18-yr-old falls to d...</td>\n",
       "      <td>A former Jadavpur University student has been ...</td>\n",
       "      <td>education</td>\n",
       "    </tr>\n",
       "    <tr>\n",
       "      <th>138</th>\n",
       "      <td>Seats filling fast for Extended Reality Certif...</td>\n",
       "      <td>Hero Vired in collaboration with Snapchat and ...</td>\n",
       "      <td>education</td>\n",
       "    </tr>\n",
       "    <tr>\n",
       "      <th>139</th>\n",
       "      <td>Indians among 500 students stuck as Canada col...</td>\n",
       "      <td>At least 500 students, including Indians, are ...</td>\n",
       "      <td>education</td>\n",
       "    </tr>\n",
       "    <tr>\n",
       "      <th>140</th>\n",
       "      <td>Want him to excel at what he chooses: Vendor w...</td>\n",
       "      <td>Sujal Singh, a Noida-based towel seller's son,...</td>\n",
       "      <td>education</td>\n",
       "    </tr>\n",
       "    <tr>\n",
       "      <th>141</th>\n",
       "      <td>IIM Amendment Bill passed by the Parliament</td>\n",
       "      <td>The Rajya Sabha on Tuesday passed the IIM (Ame...</td>\n",
       "      <td>education</td>\n",
       "    </tr>\n",
       "  </tbody>\n",
       "</table>\n",
       "<p>142 rows × 3 columns</p>\n",
       "</div>"
      ],
      "text/plain": [
       "                                              headline  \\\n",
       "0    Antfin transfers 10.3% stake to Paytm chief Vi...   \n",
       "1    Nepal asks India for rice, sugar to avert poss...   \n",
       "2    GQG Partners buys 8.1% stake in Adani Power fo...   \n",
       "3    USDA cuts rice trade forecast for 2023, 2024 p...   \n",
       "4    Hyundai to buy General Motors' Talegaon plant ...   \n",
       "..                                                 ...   \n",
       "137  Ex-student arrested after 18-yr-old falls to d...   \n",
       "138  Seats filling fast for Extended Reality Certif...   \n",
       "139  Indians among 500 students stuck as Canada col...   \n",
       "140  Want him to excel at what he chooses: Vendor w...   \n",
       "141        IIM Amendment Bill passed by the Parliament   \n",
       "\n",
       "                                               summary   category  \n",
       "0    Antfin (Netherlands) Holding BV has transferre...   business  \n",
       "1    Nepal government has requested India to facili...   business  \n",
       "2    Investment firm GQG Partners bought an 8.1% st...   business  \n",
       "3    US Department of Agriculture (USDA) lowered th...   business  \n",
       "4    Hyundai Motor India signed an asset purchase a...   business  \n",
       "..                                                 ...        ...  \n",
       "137  A former Jadavpur University student has been ...  education  \n",
       "138  Hero Vired in collaboration with Snapchat and ...  education  \n",
       "139  At least 500 students, including Indians, are ...  education  \n",
       "140  Sujal Singh, a Noida-based towel seller's son,...  education  \n",
       "141  The Rajya Sabha on Tuesday passed the IIM (Ame...  education  \n",
       "\n",
       "[142 rows x 3 columns]"
      ]
     },
     "execution_count": 11,
     "metadata": {},
     "output_type": "execute_result"
    }
   ],
   "source": [
    "result_df"
   ]
  },
  {
   "cell_type": "code",
   "execution_count": null,
   "id": "d5c453af-2e1f-4b7b-8973-22d560f49c9b",
   "metadata": {
    "tags": []
   },
   "outputs": [],
   "source": [
    "# result_df.to_csv(\"inshorts_articles.csv\", index=False)"
   ]
  },
  {
   "cell_type": "markdown",
   "id": "7dcfdcf9-2ed2-4ff9-a019-f9bd94bbf19f",
   "metadata": {
    "jp-MarkdownHeadingCollapsed": true,
    "tags": []
   },
   "source": [
    "# Write your code such that the acquired data is saved locally in some form or fashion. Your functions that retrieve the data should prefer to read the local data instead of having to make all the requests everytime the function is called. Include a boolean flag in the functions to allow the data to be acquired \"fresh\" from the actual sources (re-writing your local cache)."
   ]
  }
 ],
 "metadata": {
  "kernelspec": {
   "display_name": "Python 3 (ipykernel)",
   "language": "python",
   "name": "python3"
  },
  "language_info": {
   "codemirror_mode": {
    "name": "ipython",
    "version": 3
   },
   "file_extension": ".py",
   "mimetype": "text/x-python",
   "name": "python",
   "nbconvert_exporter": "python",
   "pygments_lexer": "ipython3",
   "version": "3.10.9"
  }
 },
 "nbformat": 4,
 "nbformat_minor": 5
}
