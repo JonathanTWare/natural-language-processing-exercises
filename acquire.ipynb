{
 "cells": [
  {
   "cell_type": "code",
   "execution_count": 1,
   "id": "90706688-74a8-40fb-a778-eb35d95890ab",
   "metadata": {
    "tags": []
   },
   "outputs": [],
   "source": [
    "from bs4 import BeautifulSoup\n",
    "import requests\n",
    "import pandas as pd"
   ]
  },
  {
   "cell_type": "markdown",
   "id": "4fb4f025-a0ae-4313-b846-3681785c1978",
   "metadata": {},
   "source": [
    "# Codeup Blog Articles"
   ]
  },
  {
   "cell_type": "markdown",
   "id": "0cc6e1ce-56ec-493a-96a7-4217d3b36261",
   "metadata": {},
   "source": [
    "## Visit Codeup's Blog and record the urls for at least 5 distinct blog posts. For each post, you should scrape at least the post's title and content."
   ]
  },
  {
   "cell_type": "markdown",
   "id": "f1d530ae-5174-4476-bdd7-295706a10b76",
   "metadata": {},
   "source": [
    "- https://codeup.edu/featured/women-in-tech-panelist-spotlight/\n",
    "- https://codeup.edu/featured/women-in-tech-rachel-robbins-mayhill/\n",
    "- https://codeup.edu/codeup-news/women-in-tech-panelist-spotlight-sarah-mellor/\n",
    "- https://codeup.edu/events/women-in-tech-madeleine/\n",
    "- https://codeup.edu/codeup-news/panelist-spotlight-4/"
   ]
  },
  {
   "cell_type": "markdown",
   "id": "665a19f1-d405-408a-ac90-8b7cc8a040fa",
   "metadata": {},
   "source": [
    "## Encapsulate your work in a function named get_blog_articles that will return a list of dictionaries, with each dictionary representing one article. The shape of each dictionary should look like this:\n",
    "```\n",
    "\n",
    "{\n",
    "    'title': 'the title of the article',\n",
    "    'content': 'the full text content of the article'\n",
    "}\n",
    "```\n",
    "### Plus any additional properties you think might be helpful."
   ]
  },
  {
   "cell_type": "code",
   "execution_count": 2,
   "id": "1b8ecfcd-9a7b-4bd9-8a2e-edf6264e42b4",
   "metadata": {
    "tags": []
   },
   "outputs": [
    {
     "name": "stdout",
     "output_type": "stream",
     "text": [
      "Article 1\n",
      "{'title': 'How I Paid $43 For My Codeup Tuition', 'content': 'Nov 27, 2019 | Alumni Stories Bootcamps or career accelerator programs are short term education programs designed to help you learn new skills and find a job. If you are thinking about attending one, I will share some tips about finding a bootcamp, my story about how I chose to attend Codeup in San Antonio, TX and how I got funding to attend. My first tip is to spend at least a few months to a year researching the topic you want to study and the bootcamps available. There are tons of resources online to learn programming. I will provide a detailed table below of the courses I took, most of which are free. While you are learning the basics, start to learn about the bootcamps that teach this subject, read through bootcamp curriculum, take notes on tuition costs and start dates and note whether or not they provide scholarships. This first step is crucial for figuring out if this topic is something you are genuinely interested in. Secondly, when you start researching bootcamps, you will find that cost of tuition can be high. The best strategy is to look simultaneously look for funding and bootcamps. First look locally and seek out local and federal grants to attend based on being under-employed, unemployed or under-represented in the field (minorities). I was only able to find funding because I met with a local career training program which enabled me to access local and Department of Labor funds. If you don’t meet the criteria of being being under-employed, unemployed or under-represented in the field, then don’t worry! There are still other scholarships and loans out there. Warning!—only start to contact/call up the bootcamps when you are comfortable with your basic skills in programming (or whatever you are trying to learn) and when you are committed to attending. Bootcamp admissions will aggressively seek you out. They want you to attend their courses. You should have clear intentions about what you want to do, how much money you want to spend, and how good you are at programming. Just be honest with the people you speak to about your circumstances. This is a process so take your time. Often, if you get rejected from a bootcamp, you can still re-apply later. Lastly, there are almost always loan companies that specialize in loan for students of bootcamps. If the cost of tuition is still prohibitive, you can consider loans as your last option. In most cases, these loans can be repaid easily with the job you will (hopefully, most likely) get after you graduate. Some bootcamps offer refunds if you don’t get a job (with conditions) and others offer deferred tuition where you don’t pay anything until you get your first job. As for my experience, I learned about Data Science online and spent 10 months researching the subject and bootcamps. I took a slew of courses online to learn the basics, which I will share below. Then I started to apply to bootcamps. Ultimately, I was able to find Codeup in my hometown. I visited their campus and spoke with their admissions representative about funding. I loved that this school was in my hometown, so it was a practical choice for a full-time program. I also liked the instructors and admissions people that I met. The admissions person told me about their funding options and sent me to a local career training program, which informed me about local and federal grants that were not easily accessible online. Working with this local program was long and uncertain but I stuck with it. The real reasons I was able to get funding through them were because I had been under-employed for years, I had used up all my savings, I was living at home with family and I was unemployed at the time that I applied for the funding. In the end, I chose Codeup because I was able to find funding, it was in my hometown and I genuinely liked the people I met there, especially Maggie Giust, the Senior Data Scientist. I will share a table of the exact funding amounts that I got below. This will probably not be the norm. I got extremely lucky with my funding. All in all, this whole process is precarious, scary and hard. You should give yourself plenty of time to research and learn about the process, the bootcamps and the subject you are trying to study. If you need any advice, please feel free to contact me directly. And if this was helpful please send it along to anyone you think would benefit from it. https://www.switchup.org/ https://www.coursereport.com/best-coding-bootcamps Basic HTML and HTML5 and CSS,\\xa0FreeCodeCamp.org The Open Source Data Science Masters, Created by Clare Corthell,\\xa0http://datasciencemasters.org/ List of 5-Day Data Challenges, Kaggle,\\xa0https://www.kaggle.com/rtatman/list-of-5-day-challenges/ Siraj Raval, How-To Videos and Curriculum on Github and Youtube,\\xa0https://github.com/llSourcell/Learn_Data_Science_in_3_Months Codeup is proud to offer a variety of scholarships, grant and loan partners. To find out more information, visit our Financial Aid. Jesse Ruiz is a data scientist, designer, and artist. She was born in Seoul, South Korea and raised in Texas. She has degrees in philosophy and art from Barnard College and the University of Wisconsin – Madison and received training in data science at Codeup in San Antonio, TX. Connect with her on Linkedin or read more of her work here.     Submit your email address to gain access to more information about our programs, financial aid, and benefits. (210) 802–7289 Dallas | San Antonio © 2013-2022 Copyright. Privacy Policy | Complaint Policy | Inclusion | Accessibility | Sitemap If you love researching data and reading the fine print, you’ll do well in our programs. GI Bill® is a registered trademark of the U.S. Department of Veterans Affairs (VA). More information about education benefits offered by VA is available at the official U.S. government Web site at https://www.benefits.va.gov/gibill. Codeup is accredited for postsecondary, non-degree granting, career and technology programs by the Middle States Commission on Secondary Schools of the Middle States Association of Colleges and Schools, 3624 Market Street, Philadelphia, PA 19104, (267) 284-5000   '}\n",
      "\n",
      "Article 2\n",
      "{'title': 'Women in tech: Panelist Spotlight – Magdalena Rahn', 'content': 'Mar 28, 2023 | Events, Featured Codeup is hosting a Women in Tech Panel in honor of Women’s History Month on March 29th, 2023! To further celebrate, we’d like to spotlight each of our panelists leading up to the discussion to learn a bit about their respective experiences as women in the tech industry!  Meet Magdalena! Magdalena Rahn is a current Codeup student in a Data Science cohort in San Antonio, Texas. She has a professional background in cross-cultural communications, international business development, the wine industry and journalism. After serving in the US Navy, she decided to complement her professional skill set by attending the Data Science program at Codeup; she is set to graduate in March 2023. Magdalena is fluent in French, Bulgarian, Chinese-Mandarin, Spanish and Italian. We asked Magdalena how Codeup impacted her career, and she replied “Codeup has provided a solid foundation in analytical processes, programming and data science methods, and it’s been an encouragement to have such supportive instructors and wonderful classmates.” Don’t forget to tune in on March 29th to sit in on an insightful conversation with Magdalena.    Submit your email address to gain access to more information about our programs, financial aid, and benefits. (210) 802–7289 Dallas | San Antonio © 2013-2022 Copyright. Privacy Policy | Complaint Policy | Inclusion | Accessibility | Sitemap If you love researching data and reading the fine print, you’ll do well in our programs. GI Bill® is a registered trademark of the U.S. Department of Veterans Affairs (VA). More information about education benefits offered by VA is available at the official U.S. government Web site at https://www.benefits.va.gov/gibill. Codeup is accredited for postsecondary, non-degree granting, career and technology programs by the Middle States Commission on Secondary Schools of the Middle States Association of Colleges and Schools, 3624 Market Street, Philadelphia, PA 19104, (267) 284-5000   '}\n",
      "\n",
      "Article 3\n",
      "{'title': 'Women in tech: Panelist Spotlight – Rachel Robbins-Mayhill', 'content': 'Mar 20, 2023 | Events, Featured Codeup is hosting a Women in Tech Panel in honor of Women’s History Month on March 29th, 2023! To further celebrate, we’d like to spotlight each of our panelists leading up to the discussion to learn a bit about their respective experiences as women in the tech industry! Meet Rachel! Rachel Robbins-Mayhill is a Decision Science Analyst I in San Antonio, Texas. Rachel has had a varied career that includes counseling, teaching, training, community development, and military operations. Her focus has always been on assessing needs, identifying solutions, and educating individuals and groups on aligning needs and solutions in different contexts. Rachel’s passion for data science stems from her belief that data is a powerful tool for communicating patterns that can lead to hope and growth in the future. In June 2022, Rachel graduated from Codeup’s Innis cohort, where she honed her skills in data science. Shortly after, she started working as a Data Science Technical Writer with Apex Systems as a Contractor for USAA in July 2022. Her unconventional role allowed her to understand where her skills could be best utilized to support USAA in a non-contract role. Rachel recently joined USAA’s Data Science Delivery team as a Decision Science Analyst I in February 2023. The team is focused on delivering machine learning models for fraud prevention, and Rachel’s particular role centers around providing strategic process solutions for the team in collaboration with Operational and Model Risk components. In addition to her career, Rachel is currently pursuing a master’s degree in Applied Data Science from Syracuse University, further expanding her knowledge and skills in the field. Rachel is passionate about collaborating with individuals who share her belief in the potential of others and strive to achieve growth through logical, informed action. She welcomes LinkedIn connections and is excited about supporting the network of CodeUp alumni! We asked Rachel how Codeup impacted her career, and she replied “Codeup delivered a comprehensive education in all facets of the data science pipeline, laying a strong foundation for me to build upon. Through repeated hands-on practice, I developed a reliable process that was immediately applicable in my job. Collaborative group projects were instrumental in helping me hone my skills in project management, allowing me to navigate complex data science projects with comfortability. Thanks to this invaluable experience, I was able to make significant strides in my career within just six months of graduating from Codeup.” Don’t forget to tune in on March 29th to sit in on an insightful conversation.    Submit your email address to gain access to more information about our programs, financial aid, and benefits. (210) 802–7289 Dallas | San Antonio © 2013-2022 Copyright. Privacy Policy | Complaint Policy | Inclusion | Accessibility | Sitemap If you love researching data and reading the fine print, you’ll do well in our programs. GI Bill® is a registered trademark of the U.S. Department of Veterans Affairs (VA). More information about education benefits offered by VA is available at the official U.S. government Web site at https://www.benefits.va.gov/gibill. Codeup is accredited for postsecondary, non-degree granting, career and technology programs by the Middle States Commission on Secondary Schools of the Middle States Association of Colleges and Schools, 3624 Market Street, Philadelphia, PA 19104, (267) 284-5000   '}\n",
      "\n",
      "Article 4\n",
      "{'title': 'Women in Tech: Panelist Spotlight – Sarah Mellor', 'content': 'Mar 13, 2023 | Codeup News, Featured Codeup is hosting a Women in Tech Panel in honor of Women’s History Month on March 29th, 2023! To further celebrate, we’d like to spotlight each of our panelists leading up to the discussion to learn a bit about their respective experiences as women in the tech industry! Meet Sarah! Sarah Mellor currently works as the Director of People Operations. She joined Codeup four and a half years ago as an Admissions Manager. She went on to build out and lead the Marketing and Admissions team, while picking up People Ops tasks and projects here and there until moving over to lead the People Ops team two years ago. Prior to Codeup, she worked at education-focused non-profits in Washington, DC and Boulder, Colorado. She graduated from Wake Forest University. We asked Sarah how Codeup has impacted her career, and her response was “I have absolutely loved having the privilege to grow alongside Codeup. In my time here across multiple different roles and departments, I’ve seen a lot of change. The consistent things have always been the high quality of passionate and hardworking people I get to work with; the impactful mission we get to work on; and the inspiring students who trust us with their career change.” Don’t forget to tune in on March 29th to sit in on an insightful conversation.    Submit your email address to gain access to more information about our programs, financial aid, and benefits. (210) 802–7289 Dallas | San Antonio © 2013-2022 Copyright. Privacy Policy | Complaint Policy | Inclusion | Accessibility | Sitemap If you love researching data and reading the fine print, you’ll do well in our programs. GI Bill® is a registered trademark of the U.S. Department of Veterans Affairs (VA). More information about education benefits offered by VA is available at the official U.S. government Web site at https://www.benefits.va.gov/gibill. Codeup is accredited for postsecondary, non-degree granting, career and technology programs by the Middle States Commission on Secondary Schools of the Middle States Association of Colleges and Schools, 3624 Market Street, Philadelphia, PA 19104, (267) 284-5000   '}\n",
      "\n",
      "Article 5\n",
      "{'title': 'Women in Tech: Panelist Spotlight – Madeleine Capper', 'content': 'Mar 6, 2023 | Events, Featured Codeup is hosting a Women in Tech Panel in honor of Women’s History Month on March 29th, 2023! To further celebrate, we’d like to spotlight each of our panelists leading up to the discussion to learn a bit about their respective experiences as women in the tech industry! Meet Madeleine! Madeleine Capper is a Data Scientist in San Antonio, Texas. A long-standing San Antonio resident, she studied mathematics at the University of Texas San Antonio and has worked as a Data Scientist for Booz Allen Hamilton. Madeleine currently teaches Data Science at Codeup, where she works daily with burgeoning data professionals to help them actualize their career aspirations through technical education. Madeleine attended Codeup as a student in early 2019 as a pupil in the very first Codeup Data Science cohort. The program proved immediately effective and she was the first student to obtain a data career out of the program. After working at Booz Allen Hamilton, Madeleine’s passion for education in conjunction with her appreciation for Codeup’s capacity for transformative life change brought her back to the institution in an instructional capacity, where she has been teaching for two years. Don’t forget to tune in on March 29th to sit in on an insightful conversation.    Submit your email address to gain access to more information about our programs, financial aid, and benefits. (210) 802–7289 Dallas | San Antonio © 2013-2022 Copyright. Privacy Policy | Complaint Policy | Inclusion | Accessibility | Sitemap If you love researching data and reading the fine print, you’ll do well in our programs. GI Bill® is a registered trademark of the U.S. Department of Veterans Affairs (VA). More information about education benefits offered by VA is available at the official U.S. government Web site at https://www.benefits.va.gov/gibill. Codeup is accredited for postsecondary, non-degree granting, career and technology programs by the Middle States Commission on Secondary Schools of the Middle States Association of Colleges and Schools, 3624 Market Street, Philadelphia, PA 19104, (267) 284-5000   '}\n",
      "\n",
      "Article 6\n",
      "{'title': 'Black Excellence in Tech: Panelist Spotlight – Wilmarie De La Cruz Mejia', 'content': 'Feb 16, 2023 | Codeup News, Events, Featured  Codeup is hosting a Black Excellence in Tech Panel in honor of Black History Month on February 22, 2023! To further celebrate, we’d like to spotlight each of our panelists leading up to the discussion to learn a bit about their respective experiences as black leaders in the tech industry! Meet Wilmarie! Wilmarie De\\xa0La Cruz Mejia is a current Codeup student on the path to becoming a Full-Stack Web Developer at our Dallas, TX campus. Wilmarie is a veteran expanding her knowledge of programming languages and technologies on her journey with Codeup. We asked Wilmarie to share more about her experience at Codeup. She shares, “I was able to meet other people who were passionate about coding and be in a positive learning environment.” We hope you can join us on February 22nd to sit in on an insightful conversation with Wilmarie and all of our panelists!    Submit your email address to gain access to more information about our programs, financial aid, and benefits. (210) 802–7289 Dallas | San Antonio © 2013-2022 Copyright. Privacy Policy | Complaint Policy | Inclusion | Accessibility | Sitemap If you love researching data and reading the fine print, you’ll do well in our programs. GI Bill® is a registered trademark of the U.S. Department of Veterans Affairs (VA). More information about education benefits offered by VA is available at the official U.S. government Web site at https://www.benefits.va.gov/gibill. Codeup is accredited for postsecondary, non-degree granting, career and technology programs by the Middle States Commission on Secondary Schools of the Middle States Association of Colleges and Schools, 3624 Market Street, Philadelphia, PA 19104, (267) 284-5000   '}\n",
      "\n"
     ]
    }
   ],
   "source": [
    "def get_blog_articles(urls):\n",
    "    articles_data = []\n",
    "    \n",
    "    headers = {\n",
    "        'User-Agent': 'Mozilla/5.0 (Windows NT 10.0; Win64; x64) AppleWebKit/537.36 (KHTML, like Gecko) Chrome/58.0.3029.110 Safari/537.3'\n",
    "    }\n",
    "    \n",
    "    for url in urls:\n",
    "        response = requests.get(url, headers=headers)\n",
    "        soup = BeautifulSoup(response.content, 'html.parser')\n",
    "        \n",
    "        title = soup.find('h1').text.strip()\n",
    "        content = ' '.join([p.text.strip() for p in soup.find_all('p')])\n",
    "        \n",
    "        article = {\n",
    "            'title': title,\n",
    "            'content': content\n",
    "        }\n",
    "        articles_data.append(article)\n",
    "    \n",
    "    return articles_data\n",
    "\n",
    "urls_to_scrape = [\n",
    "    \"https://codeup.edu/alumni-stories/how-i-paid-43-for-my-codeup-tuition/\",\n",
    "    \"https://codeup.edu/featured/women-in-tech-panelist-spotlight/\",\n",
    "    \"https://codeup.edu/featured/women-in-tech-rachel-robbins-mayhill/\",\n",
    "    \"https://codeup.edu/codeup-news/women-in-tech-panelist-spotlight-sarah-mellor/\",\n",
    "    \"https://codeup.edu/events/women-in-tech-madeleine/\",\n",
    "    \"https://codeup.edu/codeup-news/panelist-spotlight-4/\",\n",
    "]\n",
    "\n",
    "\n",
    "articles_data = get_blog_articles(urls_to_scrape)\n",
    "\n",
    "for idx, article in enumerate(articles_data, start=1):\n",
    "    print(f\"Article {idx}\")\n",
    "    print(article)\n",
    "    print()\n"
   ]
  },
  {
   "cell_type": "markdown",
   "id": "86c76a06-d4a5-4f04-8ea5-0e357b995c77",
   "metadata": {},
   "source": [
    "# News Articles"
   ]
  },
  {
   "cell_type": "markdown",
   "id": "8a7e3cd1-b731-436c-889a-afc2be5ef569",
   "metadata": {},
   "source": [
    "## We will now be scraping text data from inshorts, a website that provides a brief overview of many different topics."
   ]
  },
  {
   "cell_type": "markdown",
   "id": "f714a170-0457-480e-8343-aa8d912b46c9",
   "metadata": {},
   "source": [
    "## Write a function that scrapes the news articles for the following topics:\n",
    "```\n",
    "Business\n",
    "Sports\n",
    "Technology\n",
    "Entertainment\n",
    "```"
   ]
  },
  {
   "cell_type": "code",
   "execution_count": 3,
   "id": "526beaf7-c741-466f-b4f3-40d7cfda99b3",
   "metadata": {
    "tags": []
   },
   "outputs": [
    {
     "name": "stdout",
     "output_type": "stream",
     "text": [
      "Article 1\n",
      "{'title': 'EX-WSJ reporter ends Indian hacker lawsuit against Dechert', 'content': 'Former Wall Street Journal reporter Jay Solomon ended his lawsuit against Dechert and two of its former partners. Solomon had sued Dechert and others last year, alleging that the firm worked with hackers from India to steal emails between him and one of his sources. Solomon alleged the messages were later circulated in a successful effort to get him fired.', 'category': 'business'}\n",
      "Article 2\n",
      "{'title': \"Hardik's bowling changes in 5th T20I vs WI looked confused: Mukund\", 'content': 'Ex-India opener Abhinav Mukund said Hardik Pandya looked confused with regard to his bowling changes in fifth T20I against West Indies. \"I would\\'ve started with Axar Patel which was the winning formula in...fourth T20I. Axar Patel should\\'ve started bowling with the new ball [alongside] Arshdeep Singh,\" he added. West Indies defeated India by eight wickets in the fifth T20I.', 'category': 'sports'}\n",
      "Article 3\n",
      "{'title': \"YouTube to remove content promoting 'harmful' cancer treatments\", 'content': 'YouTube on Tuesday said it will remove content that promotes \"harmful or ineffective\" cancer treatments like a video that claims \"garlic cures cancer\". Content that \"discourages viewers from seeking professional medical treatment\" will also be removed, YouTube stated. It further said that videos disputing \"the existence of specific health conditions\" like COVID-19 won\\'t be allowed on the platform.', 'category': 'technology'}\n",
      "Article 4\n",
      "{'title': 'Never felt I looked like a heroine, learnt to become one: Divya', 'content': 'Divya Dutta, in an interview with Hauterrfly, said she never felt that she looked like a heroine and had to \"learn\" how to become one. \"I was busty...I wasn\\'t very tall so I wasn\\'t considered to be one of those stereotypical tall beautiful girls,\" Divya said, adding, \"To fit into the mould was...little difficult...To become like...tall, very thin, pretty girls.\"', 'category': 'entertainment'}\n"
     ]
    }
   ],
   "source": [
    "def scrape_articles(urls):\n",
    "    articles_data = []\n",
    "    \n",
    "    headers = {\n",
    "        'User-Agent': 'Mozilla/5.0 (Windows NT 10.0; Win64; x64) AppleWebKit/537.36 (KHTML, like Gecko) Chrome/58.0.3029.110 Safari/537.3'\n",
    "    }\n",
    "    \n",
    "    for url in urls:\n",
    "        response = requests.get(url, headers=headers)\n",
    "        soup = BeautifulSoup(response.content, 'html.parser')\n",
    "        \n",
    "        \n",
    "        \n",
    "        title_element = soup.find('span', itemprop='headline')\n",
    "        if title_element:\n",
    "            title = title_element.text.strip()\n",
    "        else:\n",
    "            title = \"Title not found\"\n",
    "        content = soup.find(itemprop=\"articleBody\")\n",
    "        if content:\n",
    "            content = content.text.strip()\n",
    "        else:\n",
    "            content = \"Title not found\"\n",
    "        \n",
    "        category = url.split('/')[-1]\n",
    "        \n",
    "        article = {\n",
    "            'title': title,\n",
    "            'content': content,\n",
    "            'category': category\n",
    "            \n",
    "        }\n",
    "        articles_data.append(article)\n",
    "    \n",
    "    return articles_data\n",
    "\n",
    "urls_to_scrape = [\n",
    "    \"https://inshorts.com/en/read/business\",\n",
    "    \"https://inshorts.com/en/read/sports\",\n",
    "    \"https://inshorts.com/en/read/technology\",\n",
    "    \"https://inshorts.com/en/read/entertainment\",\n",
    "]\n",
    "\n",
    "\n",
    "articles_data = scrape_articles(urls_to_scrape)\n",
    "\n",
    "for idx, article in enumerate(articles_data, start=1):\n",
    "    print(f\"Article {idx}\")\n",
    "    print(article)\n",
    "    \n"
   ]
  },
  {
   "cell_type": "markdown",
   "id": "15f6070c-a601-4587-abbc-40a5e8db3606",
   "metadata": {
    "tags": []
   },
   "source": [
    "## The end product of this should be a function named get_news_articles that returns a list of dictionaries, where each dictionary has this shape:\n",
    "\n",
    "```\n",
    "{\n",
    "    'title': 'The article title',\n",
    "    'content': 'The article content',\n",
    "    'category': 'business' # for example\n",
    "}\n",
    "```\n",
    "### Hints:\n",
    "```\n",
    "Start by inspecting the website in your browser. Figure out which elements will be useful.\n",
    "Start by creating a function that handles a single article and produces a dictionary like the one above.\n",
    "```"
   ]
  },
  {
   "cell_type": "markdown",
   "id": "4c37d995-5155-40e6-be2f-2e2ae0ad7004",
   "metadata": {
    "tags": []
   },
   "source": [
    "# Next create a function that will find all the articles on a single page and call the function you created in the last step for every article on the page."
   ]
  },
  {
   "cell_type": "code",
   "execution_count": 4,
   "id": "ce33ff01-ccc6-4553-a383-17a16893e921",
   "metadata": {
    "tags": []
   },
   "outputs": [
    {
     "data": {
      "text/plain": [
       "<Response [200]>"
      ]
     },
     "execution_count": 4,
     "metadata": {},
     "output_type": "execute_result"
    }
   ],
   "source": [
    "url =\"https://inshorts.com/en/read/sports\"\n",
    "requests.get(url)\n"
   ]
  },
  {
   "cell_type": "code",
   "execution_count": 5,
   "id": "0bda9320-aeb9-44d5-8aa6-b5e05a408824",
   "metadata": {
    "tags": []
   },
   "outputs": [],
   "source": [
    "url = \"https://inshorts.com/en/read/sports\"\n",
    "\n",
    "response = requests.get(url)\n",
    "soup = BeautifulSoup(response.content, 'html.parser')\n",
    "\n",
    "articles = []\n",
    "\n",
    "article_cards = soup.find_all(itemtype = 'http://schema.org/NewsArticle')\n",
    "\n",
    "for card in article_cards:\n",
    "    headline = card.find('span', itemprop='headline').text\n",
    "    summary = card.find('div', itemprop='articleBody').text\n",
    "    category = url.split('/')[-1]\n",
    "    \n",
    "    articles.append({\n",
    "        'headline': headline,\n",
    "        'summary': summary,\n",
    "        'category': category,\n",
    "    })\n",
    "\n"
   ]
  },
  {
   "cell_type": "code",
   "execution_count": 6,
   "id": "582c26eb-8f9b-4021-aa55-8d1eeb35ead1",
   "metadata": {
    "tags": []
   },
   "outputs": [
    {
     "data": {
      "text/plain": [
       "[{'headline': \"Hardik's bowling changes in 5th T20I vs WI looked confused: Mukund\",\n",
       "  'summary': 'Ex-India opener Abhinav Mukund said Hardik Pandya looked confused with regard to his bowling changes in fifth T20I against West Indies. \"I would\\'ve started with Axar Patel which was the winning formula in...fourth T20I. Axar Patel should\\'ve started bowling with the new ball [alongside] Arshdeep Singh,\" he added. West Indies defeated India by eight wickets in the fifth T20I.',\n",
       "  'category': 'sports'},\n",
       " {'headline': \"De Bruyne's injury vs Burnley termed 'serious', out for 3-4 months\",\n",
       "  'summary': \"Midfielder Kevin De Bruyne could be sidelined for three to four months after suffering a hamstring injury in their season-opening Premier League game. The Belgium international left the field in the 36th minute of City's 3-0 win against Burnley. Manager Pep Guardiola confirmed that De Bruyne suffered a recurrence of the injury he picked up during the Champions League final.\",\n",
       "  'category': 'sports'},\n",
       " {'headline': \"Premier League's 1st ever goal came via flying header 31 years ago\",\n",
       "  'summary': \"On August 15, 1992, Sheffield United's Brian Deane scored the then-newly-formed Premier League's first-ever goal. Deane scored with a flying header as early as the fifth minute of the season's opening game against Manchester United. Deane scored his second of the match in the 50th minute and Manchester United's Mark Hughes scored in the 61st as Sheffield won 2-1.   \",\n",
       "  'category': 'sports'},\n",
       " {'headline': 'Footballer Fabinho bought by Saudi club for ₹420 cr gets watch as gift from fan, drops it',\n",
       "  'summary': 'Brazilian footballer Fabinho, who was bought by Saudi Arabian club Al-Ittihad for £40 million (over ₹420 crore), got a watch as a gift from a fan after his debut. A video of the same has gone viral. In the video, Fabinho can be seen surprised on receiving the gift. The video also shows him dropping the watch by mistake.',\n",
       "  'category': 'sports'},\n",
       " {'headline': 'Indian football legend Mohammed Habib passes away at 74',\n",
       "  'summary': \"Indian football legend Mohammed Habib, who once scored against Pele's New York Cosmos in Mohun Bagan colours, passed away at the age of 74 on Tuesday. Habib, who was suffering from dementia and Parkinson's disease for the past few years, died in Hyderabad, reports said. He was considered India's first professional football player.\",\n",
       "  'category': 'sports'},\n",
       " {'headline': 'Our pacers are the best, facing them will help vs India: Shafique',\n",
       "  'summary': 'Pakistan opener Abdullah Shafique termed Pakistan\\'s pace attack as the best in the world, adding that facing the Pakistan pacers in the nets will provide confidence while facing bowlers from teams like India. \"We can prepare very well by facing Pakistan\\'s pacers in...nets,\" he added. Pakistan will face India in the Asia Cup as well as ODI World Cup 2023.',\n",
       "  'category': 'sports'},\n",
       " {'headline': \"It seems Buttler's duty is to watch Ben Stokes: Ashwin on ODI WC\",\n",
       "  'summary': 'Reacting to England\\'s white-ball coach Matthew Mott revealing that England\\'s limited-overs captain Jos Buttler will speak to Ben Stokes over featuring in ODI World Cup 2023, Ravichandran Ashwin said, \"It seems Buttler\\'s duty is to watch Stokes.\" \"Buttler\\'s keeping an eye on Stokes,\" added Ashwin. Stokes will have to reverse his retirement in ODIs to feature in the World Cup.',\n",
       "  'category': 'sports'},\n",
       " {'headline': \"RCB pics mark MSD's retirement anniversary with '1929 hrs' post\",\n",
       "  'summary': 'On the third anniversary of former India captain MS Dhoni and batter Suresh Raina\\'s retirement from international cricket, IPL side RCB shared a post dedicated to them. \"1929 hrs...Indian Cricket\\'s favourites...Filing your feed with some MS Dhoni, Suresh Raina and Virat Kohli nostalgia,\" RCB captioned the tweet. The post shares pictures of the cricketers when they played for India together.',\n",
       "  'category': 'sports'},\n",
       " {'headline': \"Haven't properly met manager Arteta: Arsenal's new signing Raya\",\n",
       "  'summary': 'Arsenal have signed Spanish goalkeeper David Raya from fellow Premier League club Brentford on a season-long loan with an option to make the transfer permanent. Speaking after the transfer, Raya said that he hasn\\'t had the chance to have a \"proper meeting\" with manager Mikel Arteta. Raya added that he has an \"idea\" of what Arteta expects from him. ',\n",
       "  'category': 'sports'},\n",
       " {'headline': \"Any team with him is a better team: Pope on Stokes' ODI WC return\",\n",
       "  'summary': 'Batter Ollie Pope said all-rounder Ben Stokes \"loves playing for England\" and the team will be \"lucky\" to have him. \"He has his knee (issues)...that he has been trying to manage...Any team that has a Ben Stokes is a better team,\" said Pope. Recent reports have claimed that Stokes might come out of retirement for the 2023 ODI World Cup.',\n",
       "  'category': 'sports'}]"
      ]
     },
     "execution_count": 6,
     "metadata": {},
     "output_type": "execute_result"
    }
   ],
   "source": [
    "articles"
   ]
  },
  {
   "cell_type": "code",
   "execution_count": 9,
   "id": "2911df6d-2206-4fad-abcc-0f2bb1aa086d",
   "metadata": {
    "tags": []
   },
   "outputs": [
    {
     "name": "stdout",
     "output_type": "stream",
     "text": [
      "Articles from: https://inshorts.com/en/read/business\n",
      "Headline: EX-WSJ reporter ends Indian hacker lawsuit against Dechert\n",
      "Summary: Former Wall Street Journal reporter Jay Solomon ended his lawsuit against Dechert and two of its former partners. Solomon had sued Dechert and others last year, alleging that the firm worked with hackers from India to steal emails between him and one of his sources. Solomon alleged the messages were later circulated in a successful effort to get him fired.\n",
      "\n",
      "==============================\n",
      "Headline: Fitch warns it may be forced to downgrade several US banks: Report\n",
      "Summary: A Fitch Ratings' analyst warned that US banks, including JPMorgan Chase, could be downgraded if the agency further cuts its assessment of the industry's operating environment, according to a report from CNBC. In June, Fitch lowered the score of the US banking industry's \"operating environment\" to AA- from AA, citing pressure on the country's credit rating, gaps in regulatory framework.\n",
      "==============================\n",
      "Headline: Govt hikes windfall tax on crude petroleum to ₹7,100 per tonne\n",
      "Summary: The government has hiked the windfall tax on domestically produced crude petroleum from ₹4,250 per tonne to ₹7,100 per tonne. Apart from crude oil, the special additional excise duty (SAED) on the export of diesel has also been hiked from ₹1 per litre to ₹5.50 per litre. A duty of ₹2 per litre has also been imposed on jet fuel.\n",
      "==============================\n",
      "Headline: VIP Industries MD Anindya Dutta resigns, CFO to replace him\n",
      "Summary: VIP Industries on Tuesday announced that MD Anindya Dutta has resigned from his position due to personal reasons. In a regulatory filing, the company said Executive Director and Chief Financial Officer Neetu Kashiramka will succeed Dutta. Kashiramka will take over as the MD and CFO of the company with effect from November 14.\n",
      "==============================\n",
      "Headline: China stops releasing youth joblessness data amid economic slump\n",
      "Summary: China suspended the publication of data on youth joblessness figures on Tuesday after the figure hit consecutive record highs in recent months amid a broader economic slump. The Chinese government said the move was necessary as current statistics \"need to be improved\". The National Bureau of Statistics of China said the government is reconsidering the method of calculating unemployment.\n",
      "==============================\n",
      "Headline: India's imports from Russia doubled to $20.45 bn in April-July\n",
      "Summary: India's imports from Russia doubled to ₹20.45 billion during the April-July period of FY24 due to increasing inbound shipments of crude oil and fertiliser from that country, Commerce Ministry data showed. With this, Russia has become India's second-largest import source during the first four months of FY24. Russia's share of India's oil imports rose to over 40% since Russia-Ukraine conflict.\n",
      "==============================\n",
      "Headline: Cybersecurity firm Secureworks to lay off 15% of its workforce\n",
      "Summary: Secureworks said it will lay off 15% of its workforce. The cybersecurity firm said it would incur about $14.2 million in expenses due to the layoffs, mostly related to employee termination benefits and real-estate costs. This would be Secureworks' second round of layoffs after 9% workforce reduction in February. Secureworks said the departing employees' last day will be August 25.\n",
      "\n",
      "==============================\n",
      "Headline: UK basic wage growth hits record high of 7.8%\n",
      "Summary: Basic wages in UK hit a new record growth rate of 7.8% fuelling forecasts that the Bank of England will be forced to raise interest rates again to calm inflation. Official data showed some fresh signs of cooling in the jobs market with the unemployment rate rising to 4.2% from 4%, the highest since the three months to October 2021.\n",
      "==============================\n",
      "Headline: Nigeria inflation rises to 18-year high\n",
      "Summary: Nigeria's annual inflation rose to its highest level in 18 years in July at 24.08% against 22.79% in June. Food inflation rose to 26.98% in July from 25.25% in June. Nigeria's inflation has been in double digits since 2016, eroding savings and incomes and prompting the central bank to hike interest rates to their highest level in nearly two decades.\n",
      "\n",
      "==============================\n",
      "Headline: Gangwal to sell IndiGo stake worth $450 mn via block deal: Report\n",
      "Summary: Indigo airline promoter Gangwal family led by Rakesh Gangwal is likely to sell shares worth $450 million (₹3,730 crore) on Wednesday through a block deal, the biggest yet, Moneycontrol reported. In September 2022, the family sold a tranche of 2.8% worth ₹2,000 crore and in February, sold a 4% stake for ₹2,900 crore. The family now holds a 29.72% stake. \n",
      "\n",
      "==============================\n",
      "Articles from: https://inshorts.com/en/read/sports\n",
      "Headline: Hardik's bowling changes in 5th T20I vs WI looked confused: Mukund\n",
      "Summary: Ex-India opener Abhinav Mukund said Hardik Pandya looked confused with regard to his bowling changes in fifth T20I against West Indies. \"I would've started with Axar Patel which was the winning formula in...fourth T20I. Axar Patel should've started bowling with the new ball [alongside] Arshdeep Singh,\" he added. West Indies defeated India by eight wickets in the fifth T20I.\n",
      "==============================\n",
      "Headline: De Bruyne's injury vs Burnley termed 'serious', out for 3-4 months\n",
      "Summary: Midfielder Kevin De Bruyne could be sidelined for three to four months after suffering a hamstring injury in their season-opening Premier League game. The Belgium international left the field in the 36th minute of City's 3-0 win against Burnley. Manager Pep Guardiola confirmed that De Bruyne suffered a recurrence of the injury he picked up during the Champions League final.\n",
      "==============================\n",
      "Headline: Premier League's 1st ever goal came via flying header 31 years ago\n",
      "Summary: On August 15, 1992, Sheffield United's Brian Deane scored the then-newly-formed Premier League's first-ever goal. Deane scored with a flying header as early as the fifth minute of the season's opening game against Manchester United. Deane scored his second of the match in the 50th minute and Manchester United's Mark Hughes scored in the 61st as Sheffield won 2-1.   \n",
      "==============================\n",
      "Headline: Footballer Fabinho bought by Saudi club for ₹420 cr gets watch as gift from fan, drops it\n",
      "Summary: Brazilian footballer Fabinho, who was bought by Saudi Arabian club Al-Ittihad for £40 million (over ₹420 crore), got a watch as a gift from a fan after his debut. A video of the same has gone viral. In the video, Fabinho can be seen surprised on receiving the gift. The video also shows him dropping the watch by mistake.\n",
      "==============================\n",
      "Headline: Indian football legend Mohammed Habib passes away at 74\n",
      "Summary: Indian football legend Mohammed Habib, who once scored against Pele's New York Cosmos in Mohun Bagan colours, passed away at the age of 74 on Tuesday. Habib, who was suffering from dementia and Parkinson's disease for the past few years, died in Hyderabad, reports said. He was considered India's first professional football player.\n",
      "==============================\n",
      "Headline: Our pacers are the best, facing them will help vs India: Shafique\n",
      "Summary: Pakistan opener Abdullah Shafique termed Pakistan's pace attack as the best in the world, adding that facing the Pakistan pacers in the nets will provide confidence while facing bowlers from teams like India. \"We can prepare very well by facing Pakistan's pacers in...nets,\" he added. Pakistan will face India in the Asia Cup as well as ODI World Cup 2023.\n",
      "==============================\n",
      "Headline: It seems Buttler's duty is to watch Ben Stokes: Ashwin on ODI WC\n",
      "Summary: Reacting to England's white-ball coach Matthew Mott revealing that England's limited-overs captain Jos Buttler will speak to Ben Stokes over featuring in ODI World Cup 2023, Ravichandran Ashwin said, \"It seems Buttler's duty is to watch Stokes.\" \"Buttler's keeping an eye on Stokes,\" added Ashwin. Stokes will have to reverse his retirement in ODIs to feature in the World Cup.\n",
      "==============================\n",
      "Headline: RCB pics mark MSD's retirement anniversary with '1929 hrs' post\n",
      "Summary: On the third anniversary of former India captain MS Dhoni and batter Suresh Raina's retirement from international cricket, IPL side RCB shared a post dedicated to them. \"1929 hrs...Indian Cricket's favourites...Filing your feed with some MS Dhoni, Suresh Raina and Virat Kohli nostalgia,\" RCB captioned the tweet. The post shares pictures of the cricketers when they played for India together.\n",
      "==============================\n",
      "Headline: Haven't properly met manager Arteta: Arsenal's new signing Raya\n",
      "Summary: Arsenal have signed Spanish goalkeeper David Raya from fellow Premier League club Brentford on a season-long loan with an option to make the transfer permanent. Speaking after the transfer, Raya said that he hasn't had the chance to have a \"proper meeting\" with manager Mikel Arteta. Raya added that he has an \"idea\" of what Arteta expects from him. \n",
      "==============================\n",
      "Headline: Any team with him is a better team: Pope on Stokes' ODI WC return\n",
      "Summary: Batter Ollie Pope said all-rounder Ben Stokes \"loves playing for England\" and the team will be \"lucky\" to have him. \"He has his knee (issues)...that he has been trying to manage...Any team that has a Ben Stokes is a better team,\" said Pope. Recent reports have claimed that Stokes might come out of retirement for the 2023 ODI World Cup.\n",
      "==============================\n",
      "Articles from: https://inshorts.com/en/read/technology\n",
      "Headline: YouTube to remove content promoting 'harmful' cancer treatments\n",
      "Summary: YouTube on Tuesday said it will remove content that promotes \"harmful or ineffective\" cancer treatments like a video that claims \"garlic cures cancer\". Content that \"discourages viewers from seeking professional medical treatment\" will also be removed, YouTube stated. It further said that videos disputing \"the existence of specific health conditions\" like COVID-19 won't be allowed on the platform.\n",
      "==============================\n",
      "Headline: Indian Army procures logistic drones for high-altitude areas\n",
      "Summary: Indian Army has procured logistic drones for high-altitude areas to achieve greater flexibility in operational logistics, maintenance of secluded posts and reducing last-mile delays in delivery. \"We've also acquired Mini RPAS to enhance surveillance capabilities in high altitudes,\" Defence officials said. For capability development, the Design Bureau is also taking a large number of initiatives.\n",
      "\n",
      "==============================\n",
      "Headline: Apple warns against sleeping next to iPhones put on charge\n",
      "Summary: Apple has warned against sleeping next to iPhones as they charge. \"Don't sleep on a device, power adapter, or wireless charger, or place them under a blanket, pillow, or your body, when it's connected to a power source,\" Apple said. \"Keep your iPhone, power adapter, and any wireless charger in a well-ventilated area when in use or charging,\" it added.\n",
      "==============================\n",
      "Headline: Russia fines Reddit for first time over 'banned content': Report\n",
      "Summary: Russia fined social media site Reddit for the first time for not deleting \"banned content\" that it said contained \"fake\" information about Russia's military campaign in Ukraine, RIA reported citing a Moscow court. The court fined Reddit two million roubles ($20,365). Reddit joins a list of sites under scrutiny in Russia for failing to remove content that Moscow deems illegal.\n",
      "==============================\n",
      "Headline: ISRO hand-holding private space firms, startups: Ex-Chairman Sivan\n",
      "Summary: Former ISRO Chairman K Sivan said the space agency is promoting and hand-holding private space companies and startups. ISRO is \"providing all its facilities for the private sector to carry out space activities at a very nominal cost\", Sivan added. He further talked about ISRO's collaboration with NASA on the NISAR mission and said it'll benefit the entire mankind.\n",
      "==============================\n",
      "Headline: Chandrayaan has lots of potential for humankind in future: K Sivan\n",
      "Summary: Former ISRO chief K Sivan said the Chandrayaan-3 mission has lots of potential for humankind in the future. These kinds of advanced technologies may not benefit humankind today but they will do a great job later, he stated. He added that people also questioned ISRO's benefits in the 1960s, but today its contribution to the common man is understandable.\n",
      "==============================\n",
      "Headline: Cybersecurity firm Secureworks to lay off 15% of its workforce\n",
      "Summary: Secureworks said it will lay off 15% of its workforce. The cybersecurity firm said it would incur about $14.2 million in expenses due to the layoffs, mostly related to employee termination benefits and real-estate costs. This would be Secureworks' second round of layoffs after 9% workforce reduction in February. Secureworks said the departing employees' last day will be August 25.\n",
      "\n",
      "==============================\n",
      "Headline: X scales down ad unit generating $100 million revenue: Report\n",
      "Summary: X (formerly Twitter) has started depreciating an ad unit that allows advertisers to promote their accounts within the platform's timeline to attract new followers, Axios reported. The unit named 'Followers objective' brings X over $100 million in global revenue annually, the report said. Confirming the change, X said it has suggested advertisers to try other types of ad units.\n",
      "==============================\n",
      "Headline: No proposal to restrict more electronics' imports: Commerce Secy\n",
      "Summary: There's no proposal at present to impose import restrictions on more electronics goods, Commerce Secretary Sunil Barthwal said. \"We don't want ourselves to be dependent upon very few sources of imports...So what we're doing, we're evaluating the position in consultation with various ministries. We're looking at trends but there's nothing in the offing as of now,\" Barthwal said.\n",
      "==============================\n",
      "Headline: Infosys, Liberty Global ink $1.6-bn deal to scale digital platform\n",
      "Summary: Infosys and Liberty Global announced a five-year agreement, with the provision to extend up to eight years and beyond, to transform and expand Liberty Global's digital entertainment and connectivity platforms. The deal is valued at $1.64 billion. The expanded collaboration will create \"exciting career opportunities\" for over 400 Liberty Global employees joining Infosys.\n",
      "\n",
      "==============================\n",
      "Articles from: https://inshorts.com/en/read/entertainment\n",
      "Headline: Never felt I looked like a heroine, learnt to become one: Divya \n",
      "Summary: Divya Dutta, in an interview with Hauterrfly, said she never felt that she looked like a heroine and had to \"learn\" how to become one. \"I was busty...I wasn't very tall so I wasn't considered to be one of those stereotypical tall beautiful girls,\" Divya said, adding, \"To fit into the mould was...little difficult...To become like...tall, very thin, pretty girls.\" \n",
      "==============================\n",
      "Headline: Sushant's sister shares post on I-Day, shares late actor's pic \n",
      "Summary: On the occasion of Independence Day on Tuesday, Sushant Singh Rajput's sister Shweta Singh Kirti shared a picture of the late actor and penned a note about India. \"We, as Indians never give up. We shine even when faced with the toughest of situations,\" Shweta wrote, adding, \"We're proud to belong to a nation...where we never lose our values.\" \n",
      "==============================\n",
      "Headline: Suriya rubbishes rumours of moving to Mumbai  \n",
      "Summary: Suriya, who primarily works in Tamil cinema, reacted to rumours that he'll be moving to Mumbai after he bought a ₹70-crore property in the city. \"Nothing like that...My children are studying in Mumbai...I used to go there just to see them...I'm in Chennai,\" he said. On the work front, Suriya will next be seen in 'Irumbu Kai Maayavi' and 'Kanguva'.\n",
      " \n",
      "==============================\n",
      "Headline: Paris Hilton seen vacationing in Maui amid wildfires, criticised\n",
      "Summary: Paris Hilton was seen vacationing on the beaches of Maui, Hawaii just a few miles away from where wildfires have claimed nearly 100 lives. She was criticised for continuing the vacation despite officials urging tourists to stay away. \"While Maui burns, Paris Hilton Fiddles (on vacay in Maui)! Get a clue honey and go home,\" a Twitter user said.\n",
      "==============================\n",
      "Headline: Never felt uncomfortable during shooting: OMG 2 child actor Aarush\n",
      "Summary: 'OMG 2' child actor Aarush Varma said the Akshay Kumar-starrer \"could've been even an eye-opener\" for the audience. \"We were so many kids in the film and we never felt uncomfortable shooting the film,\" he shared. Aarush added, \"The...purpose...this film...was to open discussions on the need for Sex Education...unfortunately [it]...has become a subject of discussion with being given A certificate.\"\n",
      "==============================\n",
      "Headline: Abhishek Malhan hospitalised after 'Bigg...' finale, shares video \n",
      "Summary: 'Bigg Boss OTT 2' runner-up Abhishek Malhan was hospitalised after the finale of the show. He shared a video from the hospital on his Instagram handle and apologised to his fans and followers for not winning the trophy. Abhishek also congratulated Elvish Yadav for winning the Salman Khan-hosted show.\n",
      " \n",
      "==============================\n",
      "Headline: With 'Holiday', I thought I'll be a superstar overnight: Freddy\n",
      "Summary: Actor Freddy Daruwala said that when 'Holiday' (2014) released, he thought he'd become a superstar overnight. However, he realised that the \"journey itself is long and a never ending\" one. Freddy is currently shooting for his maiden International project 'Aaina'. \"Very few people wake up...do a job they love the most. I am extremely lucky in that sense,\" he added. \n",
      "\n",
      "==============================\n",
      "Headline: Not against B'wood but they need to change: Iranian director Majid\n",
      "Summary: Iranian filmmaker Majid Majidi said that he is not against Bollywood but the industry \"needs to change a little bit if they want to...maintain their success\". \"I believe if Bollywood...doesn't improve itself, it'll be a problem in the future,\" he said. Majid added if the industry continues to do what it's doing, it won't have much audience in the future.    \n",
      "\n",
      "==============================\n",
      "Headline: I'm not good but I've to be: Bruce Willis' wife amid his dementia\n",
      "Summary: Bruce Willis' wife Emma Heming Willis broke down in a video on social media and spoke about how she's \"making a conscious effort...to live the best life\" amid the actor's struggle with dementia. \"I do that for...children. And Bruce...I don't want it to be misconstrued like I'm good because I'm not...I've to put best foot forward for...my family,\" she shared. \n",
      "\n",
      "==============================\n",
      "Headline: Shilpa replies to criticism for wearing shoes while hoisting national flag, says 'Back off'\n",
      "Summary: Shilpa Shetty responded to criticism after a video showed her and her family members wearing shoes while hoisting national flag on Independence Day and asked trolls to \"back off\". \"I'm aware of...'rules' of conduct while hoisting the flag...I'm a proud Indian...To all the trollers...DO NOT appreciate YOU airing your ignorance and spreading negativity on this day,\" she wrote.\n",
      "==============================\n"
     ]
    }
   ],
   "source": [
    "def scrape_inshorts_articles(urls):\n",
    "    for url in urls:\n",
    "        response = requests.get(url)\n",
    "        soup = BeautifulSoup(response.content, 'html.parser')\n",
    "\n",
    "        articles = []\n",
    "\n",
    "        article_cards = soup.find_all(itemtype='http://schema.org/NewsArticle')\n",
    "\n",
    "        for card in article_cards:\n",
    "            headline = card.find('span', itemprop='headline').text\n",
    "            summary = card.find('div', itemprop='articleBody').text\n",
    "            category = url.split('/')[-1]\n",
    "            \n",
    "            articles.append({\n",
    "                'headline': headline,\n",
    "                'summary': summary,\n",
    "                'category': category,\n",
    "            })\n",
    "\n",
    "        print(\"Articles from:\", url)\n",
    "        for article in articles:\n",
    "            print(\"Headline:\", article['headline'])\n",
    "            print(\"Summary:\", article['summary'])\n",
    "            print(\"=\"*30)\n",
    "\n",
    "if __name__ == \"__main__\":\n",
    "    urls = [\n",
    "        \"https://inshorts.com/en/read/business\",\n",
    "        \"https://inshorts.com/en/read/sports\",\n",
    "        \"https://inshorts.com/en/read/technology\",\n",
    "        \"https://inshorts.com/en/read/entertainment\"\n",
    "    ]\n",
    "    scrape_inshorts_articles(urls)\n"
   ]
  },
  {
   "cell_type": "markdown",
   "id": "046f48c4-4c61-43ed-95f2-6ffa1f895950",
   "metadata": {
    "tags": []
   },
   "source": [
    "# Now create a function that will use the previous two functions to scrape the articles from all the pages that you need, and do any additional processing that needs to be done.\n",
    "### Bonus: cache the data"
   ]
  },
  {
   "cell_type": "code",
   "execution_count": 10,
   "id": "50cc287a-ee20-46d2-8506-9b5b444b6d57",
   "metadata": {
    "tags": []
   },
   "outputs": [],
   "source": [
    "def scrape_inshorts_articles(urls):\n",
    "    articles = []\n",
    "\n",
    "    for url in urls:\n",
    "        response = requests.get(url)\n",
    "        soup = BeautifulSoup(response.content, 'html.parser')\n",
    "\n",
    "        article_cards = soup.find_all(itemtype='http://schema.org/NewsArticle')\n",
    "\n",
    "        for card in article_cards:\n",
    "            headline = card.find('span', itemprop='headline').text\n",
    "            summary = card.find('div', itemprop='articleBody').text\n",
    "            category = url.split('/')[-1]\n",
    "\n",
    "            articles.append({\n",
    "                'headline': headline,\n",
    "                'summary': summary,\n",
    "                'category': category\n",
    "            })\n",
    "\n",
    "    df = pd.DataFrame(articles)\n",
    "    return df\n",
    "\n",
    "\n",
    "    base_url = \"https://inshorts.com/en/read/\"\n",
    "    pages = [\n",
    "        \"business\",\n",
    "        \"sports\",\n",
    "        \"technology\",\n",
    "        \"entertainment\",\n",
    "        \"india\",\n",
    "        \"politics\",\n",
    "        \"startups\",\n",
    "        \"hatke\",\n",
    "        \"international\",\n",
    "        \"automobile\",\n",
    "        \"science\",\n",
    "        \"travel\",\n",
    "        \"miscellaneous\",\n",
    "        \"fashion\",\n",
    "        \"education\",    \n",
    "    ]      \n",
    "\n",
    "    urls = [base_url + page for page in pages]\n",
    "    result_df = scrape_inshorts_articles(urls)\n",
    "    \n"
   ]
  },
  {
   "cell_type": "code",
   "execution_count": 11,
   "id": "a2245553-b077-419c-ae64-4df6769fb1b6",
   "metadata": {
    "tags": []
   },
   "outputs": [
    {
     "ename": "NameError",
     "evalue": "name 'result_df' is not defined",
     "output_type": "error",
     "traceback": [
      "\u001b[0;31m---------------------------------------------------------------------------\u001b[0m",
      "\u001b[0;31mNameError\u001b[0m                                 Traceback (most recent call last)",
      "Cell \u001b[0;32mIn[11], line 1\u001b[0m\n\u001b[0;32m----> 1\u001b[0m \u001b[43mresult_df\u001b[49m\n",
      "\u001b[0;31mNameError\u001b[0m: name 'result_df' is not defined"
     ]
    }
   ],
   "source": [
    "result_df"
   ]
  },
  {
   "cell_type": "code",
   "execution_count": null,
   "id": "d5c453af-2e1f-4b7b-8973-22d560f49c9b",
   "metadata": {
    "tags": []
   },
   "outputs": [],
   "source": [
    "result_df.to_csv(\"inshorts_articles.csv\", index=False)"
   ]
  },
  {
   "cell_type": "markdown",
   "id": "7dcfdcf9-2ed2-4ff9-a019-f9bd94bbf19f",
   "metadata": {
    "tags": []
   },
   "source": [
    "# Write your code such that the acquired data is saved locally in some form or fashion. Your functions that retrieve the data should prefer to read the local data instead of having to make all the requests everytime the function is called. Include a boolean flag in the functions to allow the data to be acquired \"fresh\" from the actual sources (re-writing your local cache)."
   ]
  }
 ],
 "metadata": {
  "kernelspec": {
   "display_name": "Python 3 (ipykernel)",
   "language": "python",
   "name": "python3"
  },
  "language_info": {
   "codemirror_mode": {
    "name": "ipython",
    "version": 3
   },
   "file_extension": ".py",
   "mimetype": "text/x-python",
   "name": "python",
   "nbconvert_exporter": "python",
   "pygments_lexer": "ipython3",
   "version": "3.10.9"
  }
 },
 "nbformat": 4,
 "nbformat_minor": 5
}
