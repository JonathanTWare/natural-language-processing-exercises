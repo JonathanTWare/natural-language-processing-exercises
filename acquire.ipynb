{
 "cells": [
  {
   "cell_type": "code",
   "execution_count": 1,
   "id": "90706688-74a8-40fb-a778-eb35d95890ab",
   "metadata": {
    "tags": []
   },
   "outputs": [],
   "source": [
    "from bs4 import BeautifulSoup\n",
    "import requests\n",
    "import pandas as pd"
   ]
  },
  {
   "cell_type": "markdown",
   "id": "4fb4f025-a0ae-4313-b846-3681785c1978",
   "metadata": {},
   "source": [
    "# Codeup Blog Articles"
   ]
  },
  {
   "cell_type": "markdown",
   "id": "0cc6e1ce-56ec-493a-96a7-4217d3b36261",
   "metadata": {},
   "source": [
    "## Visit Codeup's Blog and record the urls for at least 5 distinct blog posts. For each post, you should scrape at least the post's title and content."
   ]
  },
  {
   "cell_type": "markdown",
   "id": "f1d530ae-5174-4476-bdd7-295706a10b76",
   "metadata": {},
   "source": [
    "- https://codeup.edu/featured/women-in-tech-panelist-spotlight/\n",
    "- https://codeup.edu/featured/women-in-tech-rachel-robbins-mayhill/\n",
    "- https://codeup.edu/codeup-news/women-in-tech-panelist-spotlight-sarah-mellor/\n",
    "- https://codeup.edu/events/women-in-tech-madeleine/\n",
    "- https://codeup.edu/codeup-news/panelist-spotlight-4/"
   ]
  },
  {
   "cell_type": "markdown",
   "id": "665a19f1-d405-408a-ac90-8b7cc8a040fa",
   "metadata": {},
   "source": [
    "## Encapsulate your work in a function named get_blog_articles that will return a list of dictionaries, with each dictionary representing one article. The shape of each dictionary should look like this:\n",
    "```\n",
    "\n",
    "{\n",
    "    'title': 'the title of the article',\n",
    "    'content': 'the full text content of the article'\n",
    "}\n",
    "```\n",
    "### Plus any additional properties you think might be helpful."
   ]
  },
  {
   "cell_type": "code",
   "execution_count": 2,
   "id": "1b8ecfcd-9a7b-4bd9-8a2e-edf6264e42b4",
   "metadata": {
    "tags": []
   },
   "outputs": [
    {
     "name": "stdout",
     "output_type": "stream",
     "text": [
      "Article 1\n",
      "{'title': 'How I Paid $43 For My Codeup Tuition', 'content': 'Nov 27, 2019 | Alumni Stories Bootcamps or career accelerator programs are short term education programs designed to help you learn new skills and find a job. If you are thinking about attending one, I will share some tips about finding a bootcamp, my story about how I chose to attend Codeup in San Antonio, TX and how I got funding to attend. My first tip is to spend at least a few months to a year researching the topic you want to study and the bootcamps available. There are tons of resources online to learn programming. I will provide a detailed table below of the courses I took, most of which are free. While you are learning the basics, start to learn about the bootcamps that teach this subject, read through bootcamp curriculum, take notes on tuition costs and start dates and note whether or not they provide scholarships. This first step is crucial for figuring out if this topic is something you are genuinely interested in. Secondly, when you start researching bootcamps, you will find that cost of tuition can be high. The best strategy is to look simultaneously look for funding and bootcamps. First look locally and seek out local and federal grants to attend based on being under-employed, unemployed or under-represented in the field (minorities). I was only able to find funding because I met with a local career training program which enabled me to access local and Department of Labor funds. If you don’t meet the criteria of being being under-employed, unemployed or under-represented in the field, then don’t worry! There are still other scholarships and loans out there. Warning!—only start to contact/call up the bootcamps when you are comfortable with your basic skills in programming (or whatever you are trying to learn) and when you are committed to attending. Bootcamp admissions will aggressively seek you out. They want you to attend their courses. You should have clear intentions about what you want to do, how much money you want to spend, and how good you are at programming. Just be honest with the people you speak to about your circumstances. This is a process so take your time. Often, if you get rejected from a bootcamp, you can still re-apply later. Lastly, there are almost always loan companies that specialize in loan for students of bootcamps. If the cost of tuition is still prohibitive, you can consider loans as your last option. In most cases, these loans can be repaid easily with the job you will (hopefully, most likely) get after you graduate. Some bootcamps offer refunds if you don’t get a job (with conditions) and others offer deferred tuition where you don’t pay anything until you get your first job. As for my experience, I learned about Data Science online and spent 10 months researching the subject and bootcamps. I took a slew of courses online to learn the basics, which I will share below. Then I started to apply to bootcamps. Ultimately, I was able to find Codeup in my hometown. I visited their campus and spoke with their admissions representative about funding. I loved that this school was in my hometown, so it was a practical choice for a full-time program. I also liked the instructors and admissions people that I met. The admissions person told me about their funding options and sent me to a local career training program, which informed me about local and federal grants that were not easily accessible online. Working with this local program was long and uncertain but I stuck with it. The real reasons I was able to get funding through them were because I had been under-employed for years, I had used up all my savings, I was living at home with family and I was unemployed at the time that I applied for the funding. In the end, I chose Codeup because I was able to find funding, it was in my hometown and I genuinely liked the people I met there, especially Maggie Giust, the Senior Data Scientist. I will share a table of the exact funding amounts that I got below. This will probably not be the norm. I got extremely lucky with my funding. All in all, this whole process is precarious, scary and hard. You should give yourself plenty of time to research and learn about the process, the bootcamps and the subject you are trying to study. If you need any advice, please feel free to contact me directly. And if this was helpful please send it along to anyone you think would benefit from it. https://www.switchup.org/ https://www.coursereport.com/best-coding-bootcamps Basic HTML and HTML5 and CSS,\\xa0FreeCodeCamp.org The Open Source Data Science Masters, Created by Clare Corthell,\\xa0http://datasciencemasters.org/ List of 5-Day Data Challenges, Kaggle,\\xa0https://www.kaggle.com/rtatman/list-of-5-day-challenges/ Siraj Raval, How-To Videos and Curriculum on Github and Youtube,\\xa0https://github.com/llSourcell/Learn_Data_Science_in_3_Months Codeup is proud to offer a variety of scholarships, grant and loan partners. To find out more information, visit our Financial Aid. Jesse Ruiz is a data scientist, designer, and artist. She was born in Seoul, South Korea and raised in Texas. She has degrees in philosophy and art from Barnard College and the University of Wisconsin – Madison and received training in data science at Codeup in San Antonio, TX. Connect with her on Linkedin or read more of her work here.     Submit your email address to gain access to more information about our programs, financial aid, and benefits. (210) 802–7289 Dallas | San Antonio © 2013-2022 Copyright. Privacy Policy | Complaint Policy | Inclusion | Accessibility | Sitemap If you love researching data and reading the fine print, you’ll do well in our programs. GI Bill® is a registered trademark of the U.S. Department of Veterans Affairs (VA). More information about education benefits offered by VA is available at the official U.S. government Web site at https://www.benefits.va.gov/gibill. Codeup is accredited for postsecondary, non-degree granting, career and technology programs by the Middle States Commission on Secondary Schools of the Middle States Association of Colleges and Schools, 3624 Market Street, Philadelphia, PA 19104, (267) 284-5000   '}\n",
      "\n",
      "Article 2\n",
      "{'title': 'Women in tech: Panelist Spotlight – Magdalena Rahn', 'content': 'Mar 28, 2023 | Events, Featured Codeup is hosting a Women in Tech Panel in honor of Women’s History Month on March 29th, 2023! To further celebrate, we’d like to spotlight each of our panelists leading up to the discussion to learn a bit about their respective experiences as women in the tech industry!  Meet Magdalena! Magdalena Rahn is a current Codeup student in a Data Science cohort in San Antonio, Texas. She has a professional background in cross-cultural communications, international business development, the wine industry and journalism. After serving in the US Navy, she decided to complement her professional skill set by attending the Data Science program at Codeup; she is set to graduate in March 2023. Magdalena is fluent in French, Bulgarian, Chinese-Mandarin, Spanish and Italian. We asked Magdalena how Codeup impacted her career, and she replied “Codeup has provided a solid foundation in analytical processes, programming and data science methods, and it’s been an encouragement to have such supportive instructors and wonderful classmates.” Don’t forget to tune in on March 29th to sit in on an insightful conversation with Magdalena.    Submit your email address to gain access to more information about our programs, financial aid, and benefits. (210) 802–7289 Dallas | San Antonio © 2013-2022 Copyright. Privacy Policy | Complaint Policy | Inclusion | Accessibility | Sitemap If you love researching data and reading the fine print, you’ll do well in our programs. GI Bill® is a registered trademark of the U.S. Department of Veterans Affairs (VA). More information about education benefits offered by VA is available at the official U.S. government Web site at https://www.benefits.va.gov/gibill. Codeup is accredited for postsecondary, non-degree granting, career and technology programs by the Middle States Commission on Secondary Schools of the Middle States Association of Colleges and Schools, 3624 Market Street, Philadelphia, PA 19104, (267) 284-5000   '}\n",
      "\n",
      "Article 3\n",
      "{'title': 'Women in tech: Panelist Spotlight – Rachel Robbins-Mayhill', 'content': 'Mar 20, 2023 | Events, Featured Codeup is hosting a Women in Tech Panel in honor of Women’s History Month on March 29th, 2023! To further celebrate, we’d like to spotlight each of our panelists leading up to the discussion to learn a bit about their respective experiences as women in the tech industry! Meet Rachel! Rachel Robbins-Mayhill is a Decision Science Analyst I in San Antonio, Texas. Rachel has had a varied career that includes counseling, teaching, training, community development, and military operations. Her focus has always been on assessing needs, identifying solutions, and educating individuals and groups on aligning needs and solutions in different contexts. Rachel’s passion for data science stems from her belief that data is a powerful tool for communicating patterns that can lead to hope and growth in the future. In June 2022, Rachel graduated from Codeup’s Innis cohort, where she honed her skills in data science. Shortly after, she started working as a Data Science Technical Writer with Apex Systems as a Contractor for USAA in July 2022. Her unconventional role allowed her to understand where her skills could be best utilized to support USAA in a non-contract role. Rachel recently joined USAA’s Data Science Delivery team as a Decision Science Analyst I in February 2023. The team is focused on delivering machine learning models for fraud prevention, and Rachel’s particular role centers around providing strategic process solutions for the team in collaboration with Operational and Model Risk components. In addition to her career, Rachel is currently pursuing a master’s degree in Applied Data Science from Syracuse University, further expanding her knowledge and skills in the field. Rachel is passionate about collaborating with individuals who share her belief in the potential of others and strive to achieve growth through logical, informed action. She welcomes LinkedIn connections and is excited about supporting the network of CodeUp alumni! We asked Rachel how Codeup impacted her career, and she replied “Codeup delivered a comprehensive education in all facets of the data science pipeline, laying a strong foundation for me to build upon. Through repeated hands-on practice, I developed a reliable process that was immediately applicable in my job. Collaborative group projects were instrumental in helping me hone my skills in project management, allowing me to navigate complex data science projects with comfortability. Thanks to this invaluable experience, I was able to make significant strides in my career within just six months of graduating from Codeup.” Don’t forget to tune in on March 29th to sit in on an insightful conversation.    Submit your email address to gain access to more information about our programs, financial aid, and benefits. (210) 802–7289 Dallas | San Antonio © 2013-2022 Copyright. Privacy Policy | Complaint Policy | Inclusion | Accessibility | Sitemap If you love researching data and reading the fine print, you’ll do well in our programs. GI Bill® is a registered trademark of the U.S. Department of Veterans Affairs (VA). More information about education benefits offered by VA is available at the official U.S. government Web site at https://www.benefits.va.gov/gibill. Codeup is accredited for postsecondary, non-degree granting, career and technology programs by the Middle States Commission on Secondary Schools of the Middle States Association of Colleges and Schools, 3624 Market Street, Philadelphia, PA 19104, (267) 284-5000   '}\n",
      "\n",
      "Article 4\n",
      "{'title': 'Women in Tech: Panelist Spotlight – Sarah Mellor', 'content': 'Mar 13, 2023 | Codeup News, Featured Codeup is hosting a Women in Tech Panel in honor of Women’s History Month on March 29th, 2023! To further celebrate, we’d like to spotlight each of our panelists leading up to the discussion to learn a bit about their respective experiences as women in the tech industry! Meet Sarah! Sarah Mellor currently works as the Director of People Operations. She joined Codeup four and a half years ago as an Admissions Manager. She went on to build out and lead the Marketing and Admissions team, while picking up People Ops tasks and projects here and there until moving over to lead the People Ops team two years ago. Prior to Codeup, she worked at education-focused non-profits in Washington, DC and Boulder, Colorado. She graduated from Wake Forest University. We asked Sarah how Codeup has impacted her career, and her response was “I have absolutely loved having the privilege to grow alongside Codeup. In my time here across multiple different roles and departments, I’ve seen a lot of change. The consistent things have always been the high quality of passionate and hardworking people I get to work with; the impactful mission we get to work on; and the inspiring students who trust us with their career change.” Don’t forget to tune in on March 29th to sit in on an insightful conversation.    Submit your email address to gain access to more information about our programs, financial aid, and benefits. (210) 802–7289 Dallas | San Antonio © 2013-2022 Copyright. Privacy Policy | Complaint Policy | Inclusion | Accessibility | Sitemap If you love researching data and reading the fine print, you’ll do well in our programs. GI Bill® is a registered trademark of the U.S. Department of Veterans Affairs (VA). More information about education benefits offered by VA is available at the official U.S. government Web site at https://www.benefits.va.gov/gibill. Codeup is accredited for postsecondary, non-degree granting, career and technology programs by the Middle States Commission on Secondary Schools of the Middle States Association of Colleges and Schools, 3624 Market Street, Philadelphia, PA 19104, (267) 284-5000   '}\n",
      "\n",
      "Article 5\n",
      "{'title': 'Women in Tech: Panelist Spotlight – Madeleine Capper', 'content': 'Mar 6, 2023 | Events, Featured Codeup is hosting a Women in Tech Panel in honor of Women’s History Month on March 29th, 2023! To further celebrate, we’d like to spotlight each of our panelists leading up to the discussion to learn a bit about their respective experiences as women in the tech industry! Meet Madeleine! Madeleine Capper is a Data Scientist in San Antonio, Texas. A long-standing San Antonio resident, she studied mathematics at the University of Texas San Antonio and has worked as a Data Scientist for Booz Allen Hamilton. Madeleine currently teaches Data Science at Codeup, where she works daily with burgeoning data professionals to help them actualize their career aspirations through technical education. Madeleine attended Codeup as a student in early 2019 as a pupil in the very first Codeup Data Science cohort. The program proved immediately effective and she was the first student to obtain a data career out of the program. After working at Booz Allen Hamilton, Madeleine’s passion for education in conjunction with her appreciation for Codeup’s capacity for transformative life change brought her back to the institution in an instructional capacity, where she has been teaching for two years. Don’t forget to tune in on March 29th to sit in on an insightful conversation.    Submit your email address to gain access to more information about our programs, financial aid, and benefits. (210) 802–7289 Dallas | San Antonio © 2013-2022 Copyright. Privacy Policy | Complaint Policy | Inclusion | Accessibility | Sitemap If you love researching data and reading the fine print, you’ll do well in our programs. GI Bill® is a registered trademark of the U.S. Department of Veterans Affairs (VA). More information about education benefits offered by VA is available at the official U.S. government Web site at https://www.benefits.va.gov/gibill. Codeup is accredited for postsecondary, non-degree granting, career and technology programs by the Middle States Commission on Secondary Schools of the Middle States Association of Colleges and Schools, 3624 Market Street, Philadelphia, PA 19104, (267) 284-5000   '}\n",
      "\n",
      "Article 6\n",
      "{'title': 'Black Excellence in Tech: Panelist Spotlight – Wilmarie De La Cruz Mejia', 'content': 'Feb 16, 2023 | Codeup News, Events, Featured  Codeup is hosting a Black Excellence in Tech Panel in honor of Black History Month on February 22, 2023! To further celebrate, we’d like to spotlight each of our panelists leading up to the discussion to learn a bit about their respective experiences as black leaders in the tech industry! Meet Wilmarie! Wilmarie De\\xa0La Cruz Mejia is a current Codeup student on the path to becoming a Full-Stack Web Developer at our Dallas, TX campus. Wilmarie is a veteran expanding her knowledge of programming languages and technologies on her journey with Codeup. We asked Wilmarie to share more about her experience at Codeup. She shares, “I was able to meet other people who were passionate about coding and be in a positive learning environment.” We hope you can join us on February 22nd to sit in on an insightful conversation with Wilmarie and all of our panelists!    Submit your email address to gain access to more information about our programs, financial aid, and benefits. (210) 802–7289 Dallas | San Antonio © 2013-2022 Copyright. Privacy Policy | Complaint Policy | Inclusion | Accessibility | Sitemap If you love researching data and reading the fine print, you’ll do well in our programs. GI Bill® is a registered trademark of the U.S. Department of Veterans Affairs (VA). More information about education benefits offered by VA is available at the official U.S. government Web site at https://www.benefits.va.gov/gibill. Codeup is accredited for postsecondary, non-degree granting, career and technology programs by the Middle States Commission on Secondary Schools of the Middle States Association of Colleges and Schools, 3624 Market Street, Philadelphia, PA 19104, (267) 284-5000   '}\n",
      "\n"
     ]
    }
   ],
   "source": [
    "def get_blog_articles(urls):\n",
    "    articles_data = []\n",
    "    \n",
    "    headers = {\n",
    "        'User-Agent': 'Mozilla/5.0 (Windows NT 10.0; Win64; x64) AppleWebKit/537.36 (KHTML, like Gecko) Chrome/58.0.3029.110 Safari/537.3'\n",
    "    }\n",
    "    \n",
    "    for url in urls:\n",
    "        response = requests.get(url, headers=headers)\n",
    "        soup = BeautifulSoup(response.content, 'html.parser')\n",
    "        \n",
    "        title = soup.find('h1').text.strip()\n",
    "        content = ' '.join([p.text.strip() for p in soup.find_all('p')])\n",
    "        \n",
    "        article = {\n",
    "            'title': title,\n",
    "            'content': content\n",
    "        }\n",
    "        articles_data.append(article)\n",
    "    \n",
    "    return articles_data\n",
    "\n",
    "urls_to_scrape = [\n",
    "    \"https://codeup.edu/alumni-stories/how-i-paid-43-for-my-codeup-tuition/\",\n",
    "    \"https://codeup.edu/featured/women-in-tech-panelist-spotlight/\",\n",
    "    \"https://codeup.edu/featured/women-in-tech-rachel-robbins-mayhill/\",\n",
    "    \"https://codeup.edu/codeup-news/women-in-tech-panelist-spotlight-sarah-mellor/\",\n",
    "    \"https://codeup.edu/events/women-in-tech-madeleine/\",\n",
    "    \"https://codeup.edu/codeup-news/panelist-spotlight-4/\",\n",
    "]\n",
    "\n",
    "\n",
    "articles_data = get_blog_articles(urls_to_scrape)\n",
    "\n",
    "for idx, article in enumerate(articles_data, start=1):\n",
    "    print(f\"Article {idx}\")\n",
    "    print(article)\n",
    "    print()\n"
   ]
  },
  {
   "cell_type": "markdown",
   "id": "86c76a06-d4a5-4f04-8ea5-0e357b995c77",
   "metadata": {},
   "source": [
    "# News Articles"
   ]
  },
  {
   "cell_type": "markdown",
   "id": "8a7e3cd1-b731-436c-889a-afc2be5ef569",
   "metadata": {},
   "source": [
    "## We will now be scraping text data from inshorts, a website that provides a brief overview of many different topics."
   ]
  },
  {
   "cell_type": "markdown",
   "id": "f714a170-0457-480e-8343-aa8d912b46c9",
   "metadata": {},
   "source": [
    "## Write a function that scrapes the news articles for the following topics:\n",
    "```\n",
    "Business\n",
    "Sports\n",
    "Technology\n",
    "Entertainment\n",
    "```"
   ]
  },
  {
   "cell_type": "code",
   "execution_count": 3,
   "id": "526beaf7-c741-466f-b4f3-40d7cfda99b3",
   "metadata": {
    "tags": []
   },
   "outputs": [
    {
     "name": "stdout",
     "output_type": "stream",
     "text": [
      "Article 1\n",
      "{'title': \"Some of Jhunjhunwala's best picks were in 2002 crash: Utpal Sheth\", 'content': 'Rare Enterprises CEO Utpal Sheth said some of the best picks of late investor Rakesh Jhunjhunwala were during the downturn of 2002-2003. The environment at that time was of despair, but valuations were strongly in favour of investors, Sheth stated. He added that Jhunjhunwala recognised that same sentiment of despair in the economy during COVID-19.', 'category': 'business'}\n",
      "Article 2\n",
      "{'title': 'Ben Stokes likely to make retirement U-turn to play ODI World Cup 2023', 'content': 'England Test captain Ben Stokes will likely make ODI retirement U-turn to play for England in upcoming ODI World Cup 2023, The Telegraph reported. Stokes would likely bat in the middle order in England’s ODI side, the report added. The report further stated that Stokes might consider missing next IPL if he needed a gap in his schedule to recover.', 'category': 'sports'}\n",
      "Article 3\n",
      "{'title': 'Challenge accepted, open the door: Musk to Zuckerberg on cage fight', 'content': 'Hours after Elon Musk said that he\\'ll bang on Meta CEO Mark Zuckerberg\\'s door and ask him for a cage fight, Musk tweeted, \"Knock, knock...challenge accepted...open the door.\" In another tweet, Musk said, \"Thought you might want some tea, so I brought the bags.\" Earlier, Zuckerberg said \"it\\'s time to move on\" claiming that Musk isn\\'t serious about their fight.', 'category': 'technology'}\n",
      "Article 4\n",
      "{'title': 'Elvish Yadav wins Bigg Boss OTT 2, gets ₹25 lakh cash prize', 'content': 'YouTuber Elvish Yadav has been named the winner of the reality show Bigg Boss OTT 2, hosted by actor Salman Khan. Along with the trophy, he also got ₹25 lakh cash prize. While Abhishek Malhan was named the runner-up of the show, Manisha Rani came third. Pooja Bhatt and Bebika Dhurve were also among the top five contestants.', 'category': 'entertainment'}\n"
     ]
    }
   ],
   "source": [
    "def scrape_articles(urls):\n",
    "    articles_data = []\n",
    "    \n",
    "    headers = {\n",
    "        'User-Agent': 'Mozilla/5.0 (Windows NT 10.0; Win64; x64) AppleWebKit/537.36 (KHTML, like Gecko) Chrome/58.0.3029.110 Safari/537.3'\n",
    "    }\n",
    "    \n",
    "    for url in urls:\n",
    "        response = requests.get(url, headers=headers)\n",
    "        soup = BeautifulSoup(response.content, 'html.parser')\n",
    "        \n",
    "        \n",
    "        \n",
    "        title_element = soup.find('span', itemprop='headline')\n",
    "        if title_element:\n",
    "            title = title_element.text.strip()\n",
    "        else:\n",
    "            title = \"Title not found\"\n",
    "        content = soup.find(itemprop=\"articleBody\")\n",
    "        if content:\n",
    "            content = content.text.strip()\n",
    "        else:\n",
    "            content = \"Title not found\"\n",
    "        \n",
    "        category = url.split('/')[-1]\n",
    "        \n",
    "        article = {\n",
    "            'title': title,\n",
    "            'content': content,\n",
    "            'category': category\n",
    "            \n",
    "        }\n",
    "        articles_data.append(article)\n",
    "    \n",
    "    return articles_data\n",
    "\n",
    "urls_to_scrape = [\n",
    "    \"https://inshorts.com/en/read/business\",\n",
    "    \"https://inshorts.com/en/read/sports\",\n",
    "    \"https://inshorts.com/en/read/technology\",\n",
    "    \"https://inshorts.com/en/read/entertainment\",\n",
    "]\n",
    "\n",
    "\n",
    "articles_data = scrape_articles(urls_to_scrape)\n",
    "\n",
    "for idx, article in enumerate(articles_data, start=1):\n",
    "    print(f\"Article {idx}\")\n",
    "    print(article)\n",
    "    \n"
   ]
  },
  {
   "cell_type": "markdown",
   "id": "15f6070c-a601-4587-abbc-40a5e8db3606",
   "metadata": {
    "tags": []
   },
   "source": [
    "## The end product of this should be a function named get_news_articles that returns a list of dictionaries, where each dictionary has this shape:\n",
    "\n",
    "```\n",
    "{\n",
    "    'title': 'The article title',\n",
    "    'content': 'The article content',\n",
    "    'category': 'business' # for example\n",
    "}\n",
    "```\n",
    "### Hints:\n",
    "```\n",
    "Start by inspecting the website in your browser. Figure out which elements will be useful.\n",
    "Start by creating a function that handles a single article and produces a dictionary like the one above.\n",
    "```"
   ]
  },
  {
   "cell_type": "markdown",
   "id": "4c37d995-5155-40e6-be2f-2e2ae0ad7004",
   "metadata": {
    "tags": []
   },
   "source": [
    "# Next create a function that will find all the articles on a single page and call the function you created in the last step for every article on the page."
   ]
  },
  {
   "cell_type": "code",
   "execution_count": 4,
   "id": "ce33ff01-ccc6-4553-a383-17a16893e921",
   "metadata": {
    "tags": []
   },
   "outputs": [
    {
     "data": {
      "text/plain": [
       "<Response [200]>"
      ]
     },
     "execution_count": 4,
     "metadata": {},
     "output_type": "execute_result"
    }
   ],
   "source": [
    "url =\"https://inshorts.com/en/read/sports\"\n",
    "requests.get(url)\n"
   ]
  },
  {
   "cell_type": "code",
   "execution_count": 5,
   "id": "0bda9320-aeb9-44d5-8aa6-b5e05a408824",
   "metadata": {
    "tags": []
   },
   "outputs": [],
   "source": [
    "url = \"https://inshorts.com/en/read/sports\"\n",
    "\n",
    "response = requests.get(url)\n",
    "soup = BeautifulSoup(response.content, 'html.parser')\n",
    "\n",
    "articles = []\n",
    "\n",
    "article_cards = soup.find_all(itemtype = 'http://schema.org/NewsArticle')\n",
    "\n",
    "for card in article_cards:\n",
    "    headline = card.find('span', itemprop='headline').text\n",
    "    summary = card.find('div', itemprop='articleBody').text\n",
    "    category = url.split('/')[-1]\n",
    "    \n",
    "    articles.append({\n",
    "        'headline': headline,\n",
    "        'summary': summary,\n",
    "        'category': category,\n",
    "    })\n",
    "\n"
   ]
  },
  {
   "cell_type": "code",
   "execution_count": 6,
   "id": "582c26eb-8f9b-4021-aa55-8d1eeb35ead1",
   "metadata": {
    "tags": []
   },
   "outputs": [
    {
     "data": {
      "text/plain": [
       "[{'headline': 'Ben Stokes likely to make retirement U-turn to play ODI World Cup 2023',\n",
       "  'summary': 'England Test captain Ben Stokes will likely make ODI retirement U-turn to play for England in upcoming ODI World Cup 2023, The Telegraph reported. Stokes would likely bat in the middle order in England’s ODI side, the report added. The report further stated that Stokes might consider missing next IPL if he needed a gap in his schedule to recover.',\n",
       "  'category': 'sports'},\n",
       " {'headline': \"Irfan Pathan trolls Pakistani fans for celebrating India's defeat\",\n",
       "  'summary': 'Former Team India all-rounder Irfan Pathan took to X (formerly known as Twitter) and trolled Pakistani fans for celebrating India\\'s series defeat against West Indies. \"Begaani shaadi mein Abdulla deewana,\" Irfan wrote. Reacting to his post, a fan wrote, \"Chill Irfan bhai, We have to troll them in Asia Cup and World Cup too.\"',\n",
       "  'category': 'sports'},\n",
       " {'headline': \"Sexual assault accused Lamichhane named in Nepal's Asia Cup squad\",\n",
       "  'summary': \"Spinner Sandeep Lamichhane, on bail in a sexual assault case, has been included in Nepal's squad for the 2023 Asia Cup. In September 2022, the 23-year-old, who was then playing in the CPL, was suspended after an arrest warrant was issued against him in Kathmandu for sexual assault. The suspension was later revoked after Lamichhane was granted bail.\",\n",
       "  'category': 'sports'},\n",
       " {'headline': 'Neymar to be bought by Al-Hilal for ₹900 crore',\n",
       "  'summary': 'Saudi Arabian club Al-Hilal are set to buy PSG forward Neymar for £86 million (over ₹900 crore). Subject to a successful medical, the Brazilian will sign a two-year deal with the Riyadh-based side. Neymar had joined PSG from Barcelona in 2017. He scored 118 goals for the Parisian club.',\n",
       "  'category': 'sports'},\n",
       " {'headline': 'Warwickshire pace duo pick 8 wkts as Worcestershire top 5 score 24',\n",
       "  'summary': 'Warwickshire pacers Oliver Hannon-Dalby and Ed Barnard took eight wickets as Worcestershire Rapids were bowled out for 108 in their 50-over game. Hannon-Dalby took five wickets for 31 runs and Barnard picked three for 14 runs as the top five Worcestershire batters scored a combined 24 runs. Warwickshire won by nine wickets to remain unbeaten in the One-Day Cup.',\n",
       "  'category': 'sports'},\n",
       " {'headline': 'Congrats brother, so proud: Tilak to Brevis on maiden SA call-up',\n",
       "  'summary': 'India batter Tilak Varma congratulated his Mumbai Indians teammate Dewald Brevis for receiving his maiden call-up to the South Africa national side. \"Congratulations on your call up brother! So happy and proud of you,\" Tilak captioned his Instagram Story. The batter, called up for the Australia series, had congratulated Varma on his India debut during the West Indies tour.',\n",
       "  'category': 'sports'},\n",
       " {'headline': \"Tilak's hardly played ODIs but I'd pick him for no. 4: Hogg on WC\",\n",
       "  'summary': 'Discussing Team India\\'s potential squad for the ODI World Cup 2023, ex-Australia spinner Brad Hogg said, \"If they open with Ishan Kishan and Rohit Sharma, I would have [batter] Tilak Varma coming in at no. 4.\" \"Varma has hardly played any one-day cricket. But, the way he\\'s operated in T20s shows...he\\'s got the goods for any situation,\" added Hogg.',\n",
       "  'category': 'sports'},\n",
       " {'headline': \"Hardik's bowling changes show he's still work in progress: Parthiv\",\n",
       "  'summary': 'Talking about Hardik Pandya\\'s captaincy in fifth T20I against West Indies, ex-India cricketer Parthiv Patel said, \"Bowling changes and utilisation of bowlers are [things] which tell that Hardik, the captain for India, is work in progress.\" \"Hardik needs runs [also],\" he added. Discussing Hardik\\'s captaincy in fifth T20I, ex-India opener Abhinav Mukund said, \"His bowling changes looked...confused.\"',\n",
       "  'category': 'sports'},\n",
       " {'headline': \"Rublev, Alcaraz among Tennis TV's funniest Canadian Open moments\",\n",
       "  'summary': 'Tennis TV shared a video of the funniest moments from the recently concluded Canadian Open. The video shows Russian Andrey Rublev attempting to draw the Open\\'s maple leaf symbol on the broadcasting camera and Carlos Alcaraz messing up a training exercise. It also shows Alexander Bublik telling Hubert Hurkacz, \"Wish I never face you again in my f***ing life.\"',\n",
       "  'category': 'sports'},\n",
       " {'headline': \"Pant backed Kuldeep to the T when he wasn't sought after: Mukund\",\n",
       "  'summary': 'Former India opener Abhinav Mukund said Rishabh Pant backed DC spinner Kuldeep Yadav to the T in the IPL when he wasn\\'t sought after in the tournament. \"Kuldeep owes a lot to Rishabh in terms of getting him...on track,\" added Mukund. \"Rishabh told him, \\'There is no better bowler than you in India\\',\" Kuldeep\\'s coach Kapil Pande had earlier stated.',\n",
       "  'category': 'sports'}]"
      ]
     },
     "execution_count": 6,
     "metadata": {},
     "output_type": "execute_result"
    }
   ],
   "source": [
    "articles"
   ]
  },
  {
   "cell_type": "code",
   "execution_count": 7,
   "id": "2911df6d-2206-4fad-abcc-0f2bb1aa086d",
   "metadata": {
    "tags": []
   },
   "outputs": [
    {
     "name": "stdout",
     "output_type": "stream",
     "text": [
      "Articles from: https://inshorts.com/en/read/business\n",
      "Headline: Some of Jhunjhunwala's best picks were in 2002 crash: Utpal Sheth\n",
      "Summary: Rare Enterprises CEO Utpal Sheth said some of the best picks of late investor Rakesh Jhunjhunwala were during the downturn of 2002-2003. The environment at that time was of despair, but valuations were strongly in favour of investors, Sheth stated. He added that Jhunjhunwala recognised that same sentiment of despair in the economy during COVID-19.\n",
      "==============================\n",
      "Headline: Pakistan suspends Russian oil imports over quality issues: Reports\n",
      "Summary: Pakistan has reportedly suspended imports of Russian crude oil over quality concerns. As per multiple reports, Pakistan refineries have refused to process Russian oil as it was producing less petrol with 20% more furnace oil than Arabian crude oil. No Russian oil ship had come to Pakistan after the last one arrived on June 26, the reports said.\n",
      "==============================\n",
      "Headline: SEBI bars ZEE's Subhash Chandra, Goenka from boardrooms of 4 companies\n",
      "Summary: SEBI barred Zee Entertainment's Subhash Chandra and Punit Goenka from boardrooms of four Zee Group companies including Zee Entertainment Ltd (ZEEL). The other three Zee group companies are Zee Media Corporation, Zee Media Corp and Zee Aakash News. The SEBI order said Goenka's conduct as ZEEL's MD and CEO was found to be in violation of norms to prevent fraud.\n",
      "==============================\n",
      "Headline: In 1989, Jhunjhunwala said India's time has come: Investor Damani\n",
      "Summary: Veteran investor Ramesh Damani said late billionaire investor Rakesh Jhunjhunwala had a lot of courage and conviction. \"In 1989, he was telling me that India's time has come...[and the country] will be the third largest economy in the world,\" Damani stated. Jhunjhunwala remained bullish in India even when the market fell, he added.\n",
      "==============================\n",
      "Headline: RBI to launch public tech platform for frictionless credit\n",
      "Summary: RBI on Monday announced it will launch a pilot for a public tech platform that will enable frictionless credit on August 17. The platform, which is being developed by Reserve Bank Innovation Hub, will facilitate a seamless flow of digital information to lenders. Under the pilot, the platform will focus on products like personal and home loans through participating banks.\n",
      "==============================\n",
      "Headline: Vodafone Idea suffers ₹7,840 crore loss in Q1\n",
      "Summary: Debt-ridden telecom operator Vodafone Idea (Vi) on Monday said its consolidated net loss widened to ₹7,840 crore in the April-June quarter ended June 30, 2023. The company had posted a net loss of ₹7,295.7 crore in the same period a year ago. The company's average revenue per user (ARPU) during the quarter increased to ₹139 from ₹128 a year ago.\n",
      "==============================\n",
      "Headline: Foxconn's $2-billion investment in India only a beginning: Chief\n",
      "Summary: Foxconn Chairman Young Liu, while talking about the company's plan to invest over $2 billion in India, said, \"From the perspective of India's potential market size, and if we can fully implement our plans there, the several billion dollar investment is only the beginning.\" There is \"positive energy\" for the Indian market, he added.\n",
      "==============================\n",
      "Headline: India's merchandise trade deficit narrows to $20.67 bn in July\n",
      "Summary: India's merchandise trade deficit narrowed by 18.74% year-over-year to $20.67 billion in July, as per the latest government data. The country's merchandise exports dipped to $32.25 billion during the month, compared to $38.34 billion in the same period a year ago. Merchandise imports, at $52.92 billion, were also 17% lower than imports worth $63.77 billion in July 2022.\n",
      "==============================\n",
      "Headline: Sunil Munjal to quit Hero MotoCorp's top management\n",
      "Summary: Hero MotoCorp on Monday disclosed details of the promoter family settlement pact. As per the pact, Sunil Munjal exited the management of Hero MotoCorp and stepped down from the post of Joint Managing Director. Management and control of the listed entity remained vested with the family group comprising of Pawan Munjal, Santosh Munjal, Renu Munjal and Suman Kant Munjal.\n",
      "==============================\n",
      "Headline: ITC investors to get 1 ITC Hotels share for 10 held in parent firm\n",
      "Summary: ITC on Monday said its board has approved a scheme of arrangement for the demerger of its hotel business. The new entity named 'ITC Hotels' will get listed on stock exchanges in about 15 months, a filing stated. Under the demerger plan, ITC shareholders will get one share in ITC Hotels for every 10 shares held in the parent company.\n",
      "==============================\n",
      "Articles from: https://inshorts.com/en/read/sports\n",
      "Headline: Ben Stokes likely to make retirement U-turn to play ODI World Cup 2023\n",
      "Summary: England Test captain Ben Stokes will likely make ODI retirement U-turn to play for England in upcoming ODI World Cup 2023, The Telegraph reported. Stokes would likely bat in the middle order in England’s ODI side, the report added. The report further stated that Stokes might consider missing next IPL if he needed a gap in his schedule to recover.\n",
      "==============================\n",
      "Headline: Irfan Pathan trolls Pakistani fans for celebrating India's defeat\n",
      "Summary: Former Team India all-rounder Irfan Pathan took to X (formerly known as Twitter) and trolled Pakistani fans for celebrating India's series defeat against West Indies. \"Begaani shaadi mein Abdulla deewana,\" Irfan wrote. Reacting to his post, a fan wrote, \"Chill Irfan bhai, We have to troll them in Asia Cup and World Cup too.\"\n",
      "==============================\n",
      "Headline: Sexual assault accused Lamichhane named in Nepal's Asia Cup squad\n",
      "Summary: Spinner Sandeep Lamichhane, on bail in a sexual assault case, has been included in Nepal's squad for the 2023 Asia Cup. In September 2022, the 23-year-old, who was then playing in the CPL, was suspended after an arrest warrant was issued against him in Kathmandu for sexual assault. The suspension was later revoked after Lamichhane was granted bail.\n",
      "==============================\n",
      "Headline: Neymar to be bought by Al-Hilal for ₹900 crore\n",
      "Summary: Saudi Arabian club Al-Hilal are set to buy PSG forward Neymar for £86 million (over ₹900 crore). Subject to a successful medical, the Brazilian will sign a two-year deal with the Riyadh-based side. Neymar had joined PSG from Barcelona in 2017. He scored 118 goals for the Parisian club.\n",
      "==============================\n",
      "Headline: Warwickshire pace duo pick 8 wkts as Worcestershire top 5 score 24\n",
      "Summary: Warwickshire pacers Oliver Hannon-Dalby and Ed Barnard took eight wickets as Worcestershire Rapids were bowled out for 108 in their 50-over game. Hannon-Dalby took five wickets for 31 runs and Barnard picked three for 14 runs as the top five Worcestershire batters scored a combined 24 runs. Warwickshire won by nine wickets to remain unbeaten in the One-Day Cup.\n",
      "==============================\n",
      "Headline: Congrats brother, so proud: Tilak to Brevis on maiden SA call-up\n",
      "Summary: India batter Tilak Varma congratulated his Mumbai Indians teammate Dewald Brevis for receiving his maiden call-up to the South Africa national side. \"Congratulations on your call up brother! So happy and proud of you,\" Tilak captioned his Instagram Story. The batter, called up for the Australia series, had congratulated Varma on his India debut during the West Indies tour.\n",
      "==============================\n",
      "Headline: Tilak's hardly played ODIs but I'd pick him for no. 4: Hogg on WC\n",
      "Summary: Discussing Team India's potential squad for the ODI World Cup 2023, ex-Australia spinner Brad Hogg said, \"If they open with Ishan Kishan and Rohit Sharma, I would have [batter] Tilak Varma coming in at no. 4.\" \"Varma has hardly played any one-day cricket. But, the way he's operated in T20s shows...he's got the goods for any situation,\" added Hogg.\n",
      "==============================\n",
      "Headline: Hardik's bowling changes show he's still work in progress: Parthiv\n",
      "Summary: Talking about Hardik Pandya's captaincy in fifth T20I against West Indies, ex-India cricketer Parthiv Patel said, \"Bowling changes and utilisation of bowlers are [things] which tell that Hardik, the captain for India, is work in progress.\" \"Hardik needs runs [also],\" he added. Discussing Hardik's captaincy in fifth T20I, ex-India opener Abhinav Mukund said, \"His bowling changes looked...confused.\"\n",
      "==============================\n",
      "Headline: Rublev, Alcaraz among Tennis TV's funniest Canadian Open moments\n",
      "Summary: Tennis TV shared a video of the funniest moments from the recently concluded Canadian Open. The video shows Russian Andrey Rublev attempting to draw the Open's maple leaf symbol on the broadcasting camera and Carlos Alcaraz messing up a training exercise. It also shows Alexander Bublik telling Hubert Hurkacz, \"Wish I never face you again in my f***ing life.\"\n",
      "==============================\n",
      "Headline: Pant backed Kuldeep to the T when he wasn't sought after: Mukund\n",
      "Summary: Former India opener Abhinav Mukund said Rishabh Pant backed DC spinner Kuldeep Yadav to the T in the IPL when he wasn't sought after in the tournament. \"Kuldeep owes a lot to Rishabh in terms of getting him...on track,\" added Mukund. \"Rishabh told him, 'There is no better bowler than you in India',\" Kuldeep's coach Kapil Pande had earlier stated.\n",
      "==============================\n",
      "Articles from: https://inshorts.com/en/read/technology\n",
      "Headline: Challenge accepted, open the door: Musk to Zuckerberg on cage fight\n",
      "Summary: Hours after Elon Musk said that he'll bang on Meta CEO Mark Zuckerberg's door and ask him for a cage fight, Musk tweeted, \"Knock, knock...challenge accepted...open the door.\" In another tweet, Musk said, \"Thought you might want some tea, so I brought the bags.\" Earlier, Zuckerberg said \"it's time to move on\" claiming that Musk isn't serious about their fight.\n",
      "==============================\n",
      "Headline: RBI to launch public tech platform for frictionless credit\n",
      "Summary: RBI on Monday announced it will launch a pilot for a public tech platform that will enable frictionless credit on August 17. The platform, which is being developed by Reserve Bank Innovation Hub, will facilitate a seamless flow of digital information to lenders. Under the pilot, the platform will focus on products like personal and home loans through participating banks.\n",
      "==============================\n",
      "Headline: Foxconn's $2-billion investment in India only a beginning: Chief\n",
      "Summary: Foxconn Chairman Young Liu, while talking about the company's plan to invest over $2 billion in India, said, \"From the perspective of India's potential market size, and if we can fully implement our plans there, the several billion dollar investment is only the beginning.\" There is \"positive energy\" for the Indian market, he added.\n",
      "==============================\n",
      "Headline: Instagram's Threads loses 80% of its daily active Android users\n",
      "Summary: Instagram's Threads has lost almost 80% of its daily active Android users since its launch in July. According to Similarweb, the app had 49.3 million daily active users on Android on July 7. However, the number declined to 10.3 million one month later. Further, active users spend three minutes on Threads. Meanwhile, users spend 25 minutes/day on X (formerly Twitter).\n",
      "==============================\n",
      "Headline: B'luru woman loses ₹25,000 to fake employee of food delivery app\n",
      "Summary: A food delivery app imposed cancellation charge on a 64-year-old Bengaluru woman after she cancelled her order. Shilpa Sarnobat then received a call from a scammer who claimed to be the app's customer care employee and promised to refund the charge. The scammer made Shilpa download an app and share her bank details, following which ₹25,000 vanished from her account.\n",
      "==============================\n",
      "Headline: Zuck is a chicken: Musk as Meta CEO says 'time to move on from cage fight'\n",
      "Summary: Tesla CEO Elon Musk tweeted \"Zuck is a chicken\" after Meta CEO Mark Zuckerberg indicated it is \"time to move on\" from their cage fight. In another tweet, Musk joked, \"He (Zuckerberg) can't eat at Chick-fil-A because that would be cannibalism.\" Earlier, Zuckerberg had said, \"I think we can all agree Elon isn't serious and it's time to move on.\" \n",
      "==============================\n",
      "Headline: Govt issues high severity warning for users of Android 13 & other versions\n",
      "Summary: The government's Indian Computer Emergency Response Team (CERT-In) has issued a high severity warning for Android users. Multiple vulnerabilities have been reported which could be exploited to obtain sensitive information, gain elevated privileges and cause denial of service on the targeted system, the agency said. As per the CERT-In, the affected Android versions include 13, 12, 12L, 11 and 10.\n",
      "==============================\n",
      "Headline: I'll bang on his door & demand to fight: Musk after Zuckerberg says 'time to move on'\n",
      "Summary: Elon Musk tweeted, \"I'm gonna bang on his door tomorrow and demand to fight,\" after Mark Zuckerberg called off the cage fight and said it's \"time to move on\". In another tweet, the world's richest person called Meta CEO a \"chicken\" for pulling out of the fight. \"If Elon ever gets serious...he knows how to reach me,\" Zuckerberg had said.\n",
      "==============================\n",
      "Headline: Dell's Aus unit fined ₹54 cr for misleading customers on discounts\n",
      "Summary: An Australian court fined Dell Technologies' local unit around ₹54 crore for making misleading representations on its website about discounts for add-on computer monitors. \"Inflating discounts is serious breach of consumer law,\" Australian regulator ACCC's Commissioner Liza Carver said. Dell Australia sold over 5,300 add-on monitors with overstated discounts between August 2019 and December 2021.\n",
      "==============================\n",
      "Headline: ChatGPT answers 259 out of 517 engineering questions incorrectly: Study\n",
      "Summary: A study conducted by Purdue University has found that out of the 517 software engineering questions posed before ChatGPT, the AI bot answered 259, or 52% of them, incorrectly. The researchers assessed ChatGPT on correctness, consistency, comprehensiveness, and conciseness of the responses. They found that well-articulated answers led to users overlooking incorrect information in ChatGPT's answers.\n",
      "==============================\n",
      "Articles from: https://inshorts.com/en/read/entertainment\n",
      "Headline: Elvish Yadav wins Bigg Boss OTT 2, gets ₹25 lakh cash prize\n",
      "Summary: YouTuber Elvish Yadav has been named the winner of the reality show Bigg Boss OTT 2, hosted by actor Salman Khan. Along with the trophy, he also got ₹25 lakh cash prize. While Abhishek Malhan was named the runner-up of the show, Manisha Rani came third. Pooja Bhatt and Bebika Dhurve were also among the top five contestants.\n",
      "==============================\n",
      "Headline: Saw Ind-Pak & Ind-SL matches in same clothes: Abhishek on 2011 WC\n",
      "Summary: Abhishek Bachchan in an interview revealed that he watched India vs Pakistan and India vs Sri Lanka 2011 Cricket World Cup matches in the same clothes. Recalling the final match between India and Sri Lanka, he said, \"I just remember going completely nuts, running up and down the house. We went crazy and...it's a memory of a lifetime.\"\n",
      "\n",
      "==============================\n",
      "Headline: Dharmendra reacts as Esha poses with Sunny, Bobby\n",
      "Summary: Veteran actor Dharmendra, taking to Twitter, shared a video from the special screening of 'Gadar 2' which was organised by Esha Deol. In the video, the actress was seen posing with Sunny Deol and Bobby Deol. Dharmendra captioned the video, \"Togetherness a great blessing.\" Esha arranged the screening on Saturday. \n",
      "\n",
      "==============================\n",
      "Headline: Saiyami howled during a 'Ghoomer' scene, Shabana got scared: Balki\n",
      "Summary: Director R Balki spoke about a scene in 'Ghoomer' where Saiyami Kher had to break down. \"She listened to some song...[came] and howled...[Shabana Azmi] was so kind of amazed by [her] ability to crack up like that...She was so scared to even go talk to her,\" Balki recalled. He said he felt moved by Saiyami's performance during that scene. \n",
      "==============================\n",
      "Headline: Satish Kaushik was one of the finest storytellers I met: Rajkummar\n",
      "Summary: Rajkummar Rao called late actor-filmmaker Satish Kaushik \"one of the finest storytellers\". \"If you are with him at a party, you don't need anybody else, you don't need any music, just ask him about one film and he'll tell you such amazing fascinating stories,\" he added. Satish passed away earlier this year.\n",
      "\n",
      "==============================\n",
      "Headline: Saiyami had 50 scars on hand during a scene in Ghoomer: Abhishek\n",
      "Summary: Abhishek Bachchan said Saiyami Kher had 50 scars on her forearm during a scene of 'Ghoomer' and she didn't make a big deal about it. \"We didn't even know. [R Balki] pointed it out on third day that her forearm was cut...The one thing I hope is that people recognise her talent and give her the due credit,\" Bachchan shared. \n",
      "\n",
      "==============================\n",
      "Headline: Even adult stars deserve respect: Nikki on being called porn star \n",
      "Summary: Actress Nikki Tamboli, reacting to being called 'porn star' by trolls on social media, said, \"Comparing me or anyone else to an adult film star is an insult to those ladies.\" \"Why demean a woman at the cost of another woman for no reason?\" she added. \"Even an adult film star deserves respect on a humanitarian level,\" Nikki further said.\n",
      " \n",
      "==============================\n",
      "Headline: Was hesitant: Sunny Deol on recreating hand-pump scene in Gadar 2\n",
      "Summary: Actor Sunny Deol, while talking about the hand-pump scene in 'Gadar 2', spoke about how he's usually hesitant about recreating something he has already done in the past. \"But the way [Anil Sharma] explained the sequence was very interesting...we knew what we were doing...the hand-pump [scene] is so iconic...that's the only thing that pops up in [people's] mind,\" Sunny shared.\n",
      "==============================\n",
      "Headline: Was told not to work with Suniel, want to apologise to him: Somy\n",
      "Summary: Somy Ali spoke about how she was told to not do a film with Suniel Shetty. \"[I was told] I should work only with big actors. I just want to say that whatever decision I took, it was based on the guidance I got,\" she told Bollywood Thikana. She said she'd like to apologise to Suniel for her previous remarks.\n",
      "==============================\n",
      "Headline: Had no idea: Sunny on 'Udja Kale Kawan' reference in 'OMG 2' \n",
      "Summary: Sunny Deol reacted to 'Gadar' song Udja Kale Kawan's reference in Akshay Kumar's 'OMG 2'. \"I have not seen the film, so I had no idea,\" he said, adding that he hasn't even seen 'Gadar 2' properly. In 'OMG 2', Akshay, who plays Lord Shiva's messenger, is seen lying under a tree and singing the lyrics of 'Udja Kale Kawan'. \n",
      "==============================\n"
     ]
    }
   ],
   "source": [
    "def scrape_inshorts_articles(urls):\n",
    "    for url in urls:\n",
    "        response = requests.get(url)\n",
    "        soup = BeautifulSoup(response.content, 'html.parser')\n",
    "\n",
    "        articles = []\n",
    "\n",
    "        article_cards = soup.find_all(itemtype='http://schema.org/NewsArticle')\n",
    "\n",
    "        for card in article_cards:\n",
    "            headline = card.find('span', itemprop='headline').text\n",
    "            summary = card.find('div', itemprop='articleBody').text\n",
    "            category = url.split('/')[-1]\n",
    "            \n",
    "            articles.append({\n",
    "                'headline': headline,\n",
    "                'summary': summary,\n",
    "                'category': category,\n",
    "            })\n",
    "\n",
    "        print(\"Articles from:\", url)\n",
    "        for article in articles:\n",
    "            print(\"Headline:\", article['headline'])\n",
    "            print(\"Summary:\", article['summary'])\n",
    "            print(\"=\"*30)\n",
    "\n",
    "if __name__ == \"__main__\":\n",
    "    urls = [\n",
    "        \"https://inshorts.com/en/read/business\",\n",
    "        \"https://inshorts.com/en/read/sports\",\n",
    "        \"https://inshorts.com/en/read/technology\",\n",
    "        \"https://inshorts.com/en/read/entertainment\"\n",
    "    ]\n",
    "    scrape_inshorts_articles(urls)\n"
   ]
  },
  {
   "cell_type": "markdown",
   "id": "046f48c4-4c61-43ed-95f2-6ffa1f895950",
   "metadata": {
    "tags": []
   },
   "source": [
    "# Now create a function that will use the previous two functions to scrape the articles from all the pages that you need, and do any additional processing that needs to be done.\n",
    "### Bonus: cache the data"
   ]
  },
  {
   "cell_type": "code",
   "execution_count": 8,
   "id": "50cc287a-ee20-46d2-8506-9b5b444b6d57",
   "metadata": {
    "tags": []
   },
   "outputs": [],
   "source": [
    "def scrape_inshorts_articles(urls):\n",
    "    articles = []\n",
    "\n",
    "    for url in urls:\n",
    "        response = requests.get(url)\n",
    "        soup = BeautifulSoup(response.content, 'html.parser')\n",
    "\n",
    "        article_cards = soup.find_all(itemtype='http://schema.org/NewsArticle')\n",
    "\n",
    "        for card in article_cards:\n",
    "            headline = card.find('span', itemprop='headline').text\n",
    "            summary = card.find('div', itemprop='articleBody').text\n",
    "            category = url.split('/')[-1]\n",
    "\n",
    "            articles.append({\n",
    "                'headline': headline,\n",
    "                'summary': summary,\n",
    "                'category': category\n",
    "            })\n",
    "\n",
    "    df = pd.DataFrame(articles)\n",
    "    return df\n",
    "\n",
    "if __name__ == \"__main__\":\n",
    "    base_url = \"https://inshorts.com/en/read/\"\n",
    "    pages = [\n",
    "        \"business\",\n",
    "        \"sports\",\n",
    "        \"technology\",\n",
    "        \"entertainment\",\n",
    "        \"india\",\n",
    "        \"politics\",\n",
    "        \"startups\",\n",
    "        \"hatke\",\n",
    "        \"international\",\n",
    "        \"automobile\",\n",
    "        \"science\",\n",
    "        \"travel\",\n",
    "        \"miscellaneous\",\n",
    "        \"fashion\",\n",
    "        \"education\",    \n",
    "    ]      \n",
    "\n",
    "    urls = [base_url + page for page in pages]\n",
    "    result_df = scrape_inshorts_articles(urls)\n",
    "    \n"
   ]
  },
  {
   "cell_type": "code",
   "execution_count": 9,
   "id": "a2245553-b077-419c-ae64-4df6769fb1b6",
   "metadata": {
    "tags": []
   },
   "outputs": [
    {
     "data": {
      "text/html": [
       "<div>\n",
       "<style scoped>\n",
       "    .dataframe tbody tr th:only-of-type {\n",
       "        vertical-align: middle;\n",
       "    }\n",
       "\n",
       "    .dataframe tbody tr th {\n",
       "        vertical-align: top;\n",
       "    }\n",
       "\n",
       "    .dataframe thead th {\n",
       "        text-align: right;\n",
       "    }\n",
       "</style>\n",
       "<table border=\"1\" class=\"dataframe\">\n",
       "  <thead>\n",
       "    <tr style=\"text-align: right;\">\n",
       "      <th></th>\n",
       "      <th>headline</th>\n",
       "      <th>summary</th>\n",
       "      <th>category</th>\n",
       "    </tr>\n",
       "  </thead>\n",
       "  <tbody>\n",
       "    <tr>\n",
       "      <th>0</th>\n",
       "      <td>Some of Jhunjhunwala's best picks were in 2002...</td>\n",
       "      <td>Rare Enterprises CEO Utpal Sheth said some of ...</td>\n",
       "      <td>business</td>\n",
       "    </tr>\n",
       "    <tr>\n",
       "      <th>1</th>\n",
       "      <td>Pakistan suspends Russian oil imports over qua...</td>\n",
       "      <td>Pakistan has reportedly suspended imports of R...</td>\n",
       "      <td>business</td>\n",
       "    </tr>\n",
       "    <tr>\n",
       "      <th>2</th>\n",
       "      <td>SEBI bars ZEE's Subhash Chandra, Goenka from b...</td>\n",
       "      <td>SEBI barred Zee Entertainment's Subhash Chandr...</td>\n",
       "      <td>business</td>\n",
       "    </tr>\n",
       "    <tr>\n",
       "      <th>3</th>\n",
       "      <td>In 1989, Jhunjhunwala said India's time has co...</td>\n",
       "      <td>Veteran investor Ramesh Damani said late billi...</td>\n",
       "      <td>business</td>\n",
       "    </tr>\n",
       "    <tr>\n",
       "      <th>4</th>\n",
       "      <td>RBI to launch public tech platform for frictio...</td>\n",
       "      <td>RBI on Monday announced it will launch a pilot...</td>\n",
       "      <td>business</td>\n",
       "    </tr>\n",
       "    <tr>\n",
       "      <th>...</th>\n",
       "      <td>...</td>\n",
       "      <td>...</td>\n",
       "      <td>...</td>\n",
       "    </tr>\n",
       "    <tr>\n",
       "      <th>136</th>\n",
       "      <td>Indians among 500 students stuck as Canada col...</td>\n",
       "      <td>At least 500 students, including Indians, are ...</td>\n",
       "      <td>education</td>\n",
       "    </tr>\n",
       "    <tr>\n",
       "      <th>137</th>\n",
       "      <td>Want him to excel at what he chooses: Vendor w...</td>\n",
       "      <td>Sujal Singh, a Noida-based towel seller's son,...</td>\n",
       "      <td>education</td>\n",
       "    </tr>\n",
       "    <tr>\n",
       "      <th>138</th>\n",
       "      <td>IIM Amendment Bill passed by the Parliament</td>\n",
       "      <td>The Rajya Sabha on Tuesday passed the IIM (Ame...</td>\n",
       "      <td>education</td>\n",
       "    </tr>\n",
       "    <tr>\n",
       "      <th>139</th>\n",
       "      <td>22-year-old student dies by suicide 12 days af...</td>\n",
       "      <td>A 22-year-old postgraduate student of the Indi...</td>\n",
       "      <td>education</td>\n",
       "    </tr>\n",
       "    <tr>\n",
       "      <th>140</th>\n",
       "      <td>Income Tax Dept to hire 50 young law, accounta...</td>\n",
       "      <td>The Income Tax Department has decided to tempo...</td>\n",
       "      <td>education</td>\n",
       "    </tr>\n",
       "  </tbody>\n",
       "</table>\n",
       "<p>141 rows × 3 columns</p>\n",
       "</div>"
      ],
      "text/plain": [
       "                                              headline  \\\n",
       "0    Some of Jhunjhunwala's best picks were in 2002...   \n",
       "1    Pakistan suspends Russian oil imports over qua...   \n",
       "2    SEBI bars ZEE's Subhash Chandra, Goenka from b...   \n",
       "3    In 1989, Jhunjhunwala said India's time has co...   \n",
       "4    RBI to launch public tech platform for frictio...   \n",
       "..                                                 ...   \n",
       "136  Indians among 500 students stuck as Canada col...   \n",
       "137  Want him to excel at what he chooses: Vendor w...   \n",
       "138        IIM Amendment Bill passed by the Parliament   \n",
       "139  22-year-old student dies by suicide 12 days af...   \n",
       "140  Income Tax Dept to hire 50 young law, accounta...   \n",
       "\n",
       "                                               summary   category  \n",
       "0    Rare Enterprises CEO Utpal Sheth said some of ...   business  \n",
       "1    Pakistan has reportedly suspended imports of R...   business  \n",
       "2    SEBI barred Zee Entertainment's Subhash Chandr...   business  \n",
       "3    Veteran investor Ramesh Damani said late billi...   business  \n",
       "4    RBI on Monday announced it will launch a pilot...   business  \n",
       "..                                                 ...        ...  \n",
       "136  At least 500 students, including Indians, are ...  education  \n",
       "137  Sujal Singh, a Noida-based towel seller's son,...  education  \n",
       "138  The Rajya Sabha on Tuesday passed the IIM (Ame...  education  \n",
       "139  A 22-year-old postgraduate student of the Indi...  education  \n",
       "140  The Income Tax Department has decided to tempo...  education  \n",
       "\n",
       "[141 rows x 3 columns]"
      ]
     },
     "execution_count": 9,
     "metadata": {},
     "output_type": "execute_result"
    }
   ],
   "source": [
    "result_df"
   ]
  },
  {
   "cell_type": "code",
   "execution_count": 10,
   "id": "d5c453af-2e1f-4b7b-8973-22d560f49c9b",
   "metadata": {
    "tags": []
   },
   "outputs": [],
   "source": [
    "result_df.to_csv(\"inshorts_articles.csv\", index=False)"
   ]
  },
  {
   "cell_type": "markdown",
   "id": "7dcfdcf9-2ed2-4ff9-a019-f9bd94bbf19f",
   "metadata": {
    "tags": []
   },
   "source": [
    "# Write your code such that the acquired data is saved locally in some form or fashion. Your functions that retrieve the data should prefer to read the local data instead of having to make all the requests everytime the function is called. Include a boolean flag in the functions to allow the data to be acquired \"fresh\" from the actual sources (re-writing your local cache)."
   ]
  }
 ],
 "metadata": {
  "kernelspec": {
   "display_name": "Python 3 (ipykernel)",
   "language": "python",
   "name": "python3"
  },
  "language_info": {
   "codemirror_mode": {
    "name": "ipython",
    "version": 3
   },
   "file_extension": ".py",
   "mimetype": "text/x-python",
   "name": "python",
   "nbconvert_exporter": "python",
   "pygments_lexer": "ipython3",
   "version": "3.10.9"
  }
 },
 "nbformat": 4,
 "nbformat_minor": 5
}
